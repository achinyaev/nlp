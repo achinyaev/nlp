{
 "cells": [
  {
   "cell_type": "markdown",
   "id": "27bd30a8",
   "metadata": {},
   "source": [
    "### Задание\n",
    "На вебинаре мы говорили что долгое время CNN и RNN архитектуры были конкурирующими, выяснить какая архитектура больше подходит для задачи сентимент анализа на данных с вебинара\n",
    "\n",
    "<li>построить свёрточную архитектуру\n",
    "<li>построить различные архитектуры с RNN\n",
    "<li>построить совместные архитектуры CNN -> RNN и/или (RNN -> CNN)\n",
    "<br>сделать выводы что получилось лучше"
   ]
  },
  {
   "cell_type": "code",
   "execution_count": 1,
   "id": "bad6cdc3",
   "metadata": {},
   "outputs": [],
   "source": [
    "import pandas as pd\n",
    "import numpy as np\n",
    "import nltk\n",
    "from stop_words import get_stop_words\n",
    "from string import punctuation\n",
    "from pymorphy2 import MorphAnalyzer\n",
    "import re"
   ]
  },
  {
   "cell_type": "code",
   "execution_count": 2,
   "id": "fd6eb71d",
   "metadata": {},
   "outputs": [],
   "source": [
    "#nltk.download('stopwords')"
   ]
  },
  {
   "cell_type": "code",
   "execution_count": 3,
   "id": "e04a9085",
   "metadata": {},
   "outputs": [],
   "source": [
    "df_train = pd.read_csv(\"data/train.csv\",delimiter=\",\",header=0)\n",
    "df_test = pd.read_csv(\"data/test.csv\",delimiter=\",\",header=0)\n",
    "df_val = pd.read_csv(\"data/val.csv\",delimiter=\",\",header=0)\n",
    "#df_val = df_test[:(len(df_test)//2)]\n",
    "#df_test = df_test[(len(df_test)//2):]"
   ]
  },
  {
   "cell_type": "code",
   "execution_count": null,
   "id": "5aaad843",
   "metadata": {},
   "outputs": [],
   "source": []
  },
  {
   "cell_type": "code",
   "execution_count": 4,
   "id": "e776848f",
   "metadata": {},
   "outputs": [
    {
     "data": {
      "text/html": [
       "<div>\n",
       "<style scoped>\n",
       "    .dataframe tbody tr th:only-of-type {\n",
       "        vertical-align: middle;\n",
       "    }\n",
       "\n",
       "    .dataframe tbody tr th {\n",
       "        vertical-align: top;\n",
       "    }\n",
       "\n",
       "    .dataframe thead th {\n",
       "        text-align: right;\n",
       "    }\n",
       "</style>\n",
       "<table border=\"1\" class=\"dataframe\">\n",
       "  <thead>\n",
       "    <tr style=\"text-align: right;\">\n",
       "      <th></th>\n",
       "      <th>id</th>\n",
       "      <th>text</th>\n",
       "      <th>class</th>\n",
       "    </tr>\n",
       "  </thead>\n",
       "  <tbody>\n",
       "    <tr>\n",
       "      <th>0</th>\n",
       "      <td>0</td>\n",
       "      <td>@alisachachka не уезжаааааааай. :(❤ я тоже не ...</td>\n",
       "      <td>0</td>\n",
       "    </tr>\n",
       "    <tr>\n",
       "      <th>1</th>\n",
       "      <td>1</td>\n",
       "      <td>RT @GalyginVadim: Ребята и девчата!\\nВсе в кин...</td>\n",
       "      <td>1</td>\n",
       "    </tr>\n",
       "    <tr>\n",
       "      <th>2</th>\n",
       "      <td>2</td>\n",
       "      <td>RT @ARTEM_KLYUSHIN: Кто ненавидит пробки ретви...</td>\n",
       "      <td>0</td>\n",
       "    </tr>\n",
       "    <tr>\n",
       "      <th>3</th>\n",
       "      <td>3</td>\n",
       "      <td>RT @epupybobv: Хочется котлету по-киевски. Зап...</td>\n",
       "      <td>1</td>\n",
       "    </tr>\n",
       "    <tr>\n",
       "      <th>4</th>\n",
       "      <td>4</td>\n",
       "      <td>@KarineKurganova @Yess__Boss босапопа есбоса н...</td>\n",
       "      <td>1</td>\n",
       "    </tr>\n",
       "    <tr>\n",
       "      <th>...</th>\n",
       "      <td>...</td>\n",
       "      <td>...</td>\n",
       "      <td>...</td>\n",
       "    </tr>\n",
       "    <tr>\n",
       "      <th>181462</th>\n",
       "      <td>181462</td>\n",
       "      <td>Классным будет новый год..( http://t.co/LejaGu...</td>\n",
       "      <td>0</td>\n",
       "    </tr>\n",
       "    <tr>\n",
       "      <th>181463</th>\n",
       "      <td>181463</td>\n",
       "      <td>Видишь человека хочешь сказать ему привет . А ...</td>\n",
       "      <td>0</td>\n",
       "    </tr>\n",
       "    <tr>\n",
       "      <th>181464</th>\n",
       "      <td>181464</td>\n",
       "      <td>@Julia6_9Styles там длинный диагноз. Вкратце: ...</td>\n",
       "      <td>0</td>\n",
       "    </tr>\n",
       "    <tr>\n",
       "      <th>181465</th>\n",
       "      <td>181465</td>\n",
       "      <td>@technoslav ух ты, а кому тот серенький кнопоч...</td>\n",
       "      <td>1</td>\n",
       "    </tr>\n",
       "    <tr>\n",
       "      <th>181466</th>\n",
       "      <td>181466</td>\n",
       "      <td>@Kris1D_07 я тоже так собираюсь сделать:D наве...</td>\n",
       "      <td>1</td>\n",
       "    </tr>\n",
       "  </tbody>\n",
       "</table>\n",
       "<p>181467 rows × 3 columns</p>\n",
       "</div>"
      ],
      "text/plain": [
       "            id                                               text  class\n",
       "0            0  @alisachachka не уезжаааааааай. :(❤ я тоже не ...      0\n",
       "1            1  RT @GalyginVadim: Ребята и девчата!\\nВсе в кин...      1\n",
       "2            2  RT @ARTEM_KLYUSHIN: Кто ненавидит пробки ретви...      0\n",
       "3            3  RT @epupybobv: Хочется котлету по-киевски. Зап...      1\n",
       "4            4  @KarineKurganova @Yess__Boss босапопа есбоса н...      1\n",
       "...        ...                                                ...    ...\n",
       "181462  181462  Классным будет новый год..( http://t.co/LejaGu...      0\n",
       "181463  181463  Видишь человека хочешь сказать ему привет . А ...      0\n",
       "181464  181464  @Julia6_9Styles там длинный диагноз. Вкратце: ...      0\n",
       "181465  181465  @technoslav ух ты, а кому тот серенький кнопоч...      1\n",
       "181466  181466  @Kris1D_07 я тоже так собираюсь сделать:D наве...      1\n",
       "\n",
       "[181467 rows x 3 columns]"
      ]
     },
     "execution_count": 4,
     "metadata": {},
     "output_type": "execute_result"
    }
   ],
   "source": [
    "df_train"
   ]
  },
  {
   "cell_type": "code",
   "execution_count": 5,
   "id": "7c7e065d",
   "metadata": {},
   "outputs": [
    {
     "data": {
      "text/html": [
       "<div>\n",
       "<style scoped>\n",
       "    .dataframe tbody tr th:only-of-type {\n",
       "        vertical-align: middle;\n",
       "    }\n",
       "\n",
       "    .dataframe tbody tr th {\n",
       "        vertical-align: top;\n",
       "    }\n",
       "\n",
       "    .dataframe thead th {\n",
       "        text-align: right;\n",
       "    }\n",
       "</style>\n",
       "<table border=\"1\" class=\"dataframe\">\n",
       "  <thead>\n",
       "    <tr style=\"text-align: right;\">\n",
       "      <th></th>\n",
       "      <th>id</th>\n",
       "      <th>text</th>\n",
       "    </tr>\n",
       "  </thead>\n",
       "  <tbody>\n",
       "    <tr>\n",
       "      <th>0</th>\n",
       "      <td>204150</td>\n",
       "      <td>Тектоника и рельеф-самое ужасное в мире мучение(</td>\n",
       "    </tr>\n",
       "    <tr>\n",
       "      <th>1</th>\n",
       "      <td>204151</td>\n",
       "      <td>Ходили запускать шар желаний, но у нас не полу...</td>\n",
       "    </tr>\n",
       "    <tr>\n",
       "      <th>2</th>\n",
       "      <td>204152</td>\n",
       "      <td>Хочу лето только ради того, что бы направить н...</td>\n",
       "    </tr>\n",
       "    <tr>\n",
       "      <th>3</th>\n",
       "      <td>204153</td>\n",
       "      <td>RT @RonyLiss: @colf_ne блин((\\nа я шипперила Ф...</td>\n",
       "    </tr>\n",
       "    <tr>\n",
       "      <th>4</th>\n",
       "      <td>204154</td>\n",
       "      <td>RT @anna_romt: @ZADROT_PO_IGRAM блин,каждое во...</td>\n",
       "    </tr>\n",
       "    <tr>\n",
       "      <th>...</th>\n",
       "      <td>...</td>\n",
       "      <td>...</td>\n",
       "    </tr>\n",
       "    <tr>\n",
       "      <th>22679</th>\n",
       "      <td>226829</td>\n",
       "      <td>RT @NickValuev: Небоскребы, небоскребы, а я ма...</td>\n",
       "    </tr>\n",
       "    <tr>\n",
       "      <th>22680</th>\n",
       "      <td>226830</td>\n",
       "      <td>Первый день в школе в новом году;( 3 человека ...</td>\n",
       "    </tr>\n",
       "    <tr>\n",
       "      <th>22681</th>\n",
       "      <td>226831</td>\n",
       "      <td>RT @Killgay_slut: @Your_Novocaine привеееет му...</td>\n",
       "    </tr>\n",
       "    <tr>\n",
       "      <th>22682</th>\n",
       "      <td>226832</td>\n",
       "      <td>Настроение вроде нормальное, но от чего плакат...</td>\n",
       "    </tr>\n",
       "    <tr>\n",
       "      <th>22683</th>\n",
       "      <td>226833</td>\n",
       "      <td>зашла перед сном к девчонкам)пока они мыли пос...</td>\n",
       "    </tr>\n",
       "  </tbody>\n",
       "</table>\n",
       "<p>22684 rows × 2 columns</p>\n",
       "</div>"
      ],
      "text/plain": [
       "           id                                               text\n",
       "0      204150   Тектоника и рельеф-самое ужасное в мире мучение(\n",
       "1      204151  Ходили запускать шар желаний, но у нас не полу...\n",
       "2      204152  Хочу лето только ради того, что бы направить н...\n",
       "3      204153  RT @RonyLiss: @colf_ne блин((\\nа я шипперила Ф...\n",
       "4      204154  RT @anna_romt: @ZADROT_PO_IGRAM блин,каждое во...\n",
       "...       ...                                                ...\n",
       "22679  226829  RT @NickValuev: Небоскребы, небоскребы, а я ма...\n",
       "22680  226830  Первый день в школе в новом году;( 3 человека ...\n",
       "22681  226831  RT @Killgay_slut: @Your_Novocaine привеееет му...\n",
       "22682  226832  Настроение вроде нормальное, но от чего плакат...\n",
       "22683  226833  зашла перед сном к девчонкам)пока они мыли пос...\n",
       "\n",
       "[22684 rows x 2 columns]"
      ]
     },
     "execution_count": 5,
     "metadata": {},
     "output_type": "execute_result"
    }
   ],
   "source": [
    "df_test"
   ]
  },
  {
   "cell_type": "code",
   "execution_count": 6,
   "id": "54e6f418",
   "metadata": {},
   "outputs": [
    {
     "data": {
      "text/html": [
       "<div>\n",
       "<style scoped>\n",
       "    .dataframe tbody tr th:only-of-type {\n",
       "        vertical-align: middle;\n",
       "    }\n",
       "\n",
       "    .dataframe tbody tr th {\n",
       "        vertical-align: top;\n",
       "    }\n",
       "\n",
       "    .dataframe thead th {\n",
       "        text-align: right;\n",
       "    }\n",
       "</style>\n",
       "<table border=\"1\" class=\"dataframe\">\n",
       "  <thead>\n",
       "    <tr style=\"text-align: right;\">\n",
       "      <th></th>\n",
       "      <th>id</th>\n",
       "      <th>text</th>\n",
       "      <th>class</th>\n",
       "    </tr>\n",
       "  </thead>\n",
       "  <tbody>\n",
       "    <tr>\n",
       "      <th>0</th>\n",
       "      <td>181467</td>\n",
       "      <td>RT @TukvaSociopat: Максимальный репост! ))) #є...</td>\n",
       "      <td>1</td>\n",
       "    </tr>\n",
       "    <tr>\n",
       "      <th>1</th>\n",
       "      <td>181468</td>\n",
       "      <td>чтоб у меня з.п. ежегодно индексировали на инд...</td>\n",
       "      <td>0</td>\n",
       "    </tr>\n",
       "    <tr>\n",
       "      <th>2</th>\n",
       "      <td>181469</td>\n",
       "      <td>@chilyandlime нехуя мне не хорошо !!! :((((</td>\n",
       "      <td>0</td>\n",
       "    </tr>\n",
       "    <tr>\n",
       "      <th>3</th>\n",
       "      <td>181470</td>\n",
       "      <td>@inafish нее , когда ногами ахахах когда?ахаха...</td>\n",
       "      <td>0</td>\n",
       "    </tr>\n",
       "    <tr>\n",
       "      <th>4</th>\n",
       "      <td>181471</td>\n",
       "      <td>Хочу сделать как лучше,  а получаю как всегда. :(</td>\n",
       "      <td>0</td>\n",
       "    </tr>\n",
       "    <tr>\n",
       "      <th>...</th>\n",
       "      <td>...</td>\n",
       "      <td>...</td>\n",
       "      <td>...</td>\n",
       "    </tr>\n",
       "    <tr>\n",
       "      <th>22678</th>\n",
       "      <td>204145</td>\n",
       "      <td>А я знаю из-за кого такая паршивая погода была...</td>\n",
       "      <td>1</td>\n",
       "    </tr>\n",
       "    <tr>\n",
       "      <th>22679</th>\n",
       "      <td>204146</td>\n",
       "      <td>ааа.... что с Гмейлом. не ужто он умер сегодня...</td>\n",
       "      <td>0</td>\n",
       "    </tr>\n",
       "    <tr>\n",
       "      <th>22680</th>\n",
       "      <td>204147</td>\n",
       "      <td>в учебники химии написано \"Пруст Жозеф Луи\"\\nя...</td>\n",
       "      <td>1</td>\n",
       "    </tr>\n",
       "    <tr>\n",
       "      <th>22681</th>\n",
       "      <td>204148</td>\n",
       "      <td>Вот все любят,а я не люблю..как дура..говорю,ч...</td>\n",
       "      <td>0</td>\n",
       "    </tr>\n",
       "    <tr>\n",
       "      <th>22682</th>\n",
       "      <td>204149</td>\n",
       "      <td>уххх спасибо дорогой Леле Евгеньевне и Штепуху...</td>\n",
       "      <td>1</td>\n",
       "    </tr>\n",
       "  </tbody>\n",
       "</table>\n",
       "<p>22683 rows × 3 columns</p>\n",
       "</div>"
      ],
      "text/plain": [
       "           id                                               text  class\n",
       "0      181467  RT @TukvaSociopat: Максимальный репост! ))) #є...      1\n",
       "1      181468  чтоб у меня з.п. ежегодно индексировали на инд...      0\n",
       "2      181469        @chilyandlime нехуя мне не хорошо !!! :((((      0\n",
       "3      181470  @inafish нее , когда ногами ахахах когда?ахаха...      0\n",
       "4      181471  Хочу сделать как лучше,  а получаю как всегда. :(      0\n",
       "...       ...                                                ...    ...\n",
       "22678  204145  А я знаю из-за кого такая паршивая погода была...      1\n",
       "22679  204146  ааа.... что с Гмейлом. не ужто он умер сегодня...      0\n",
       "22680  204147  в учебники химии написано \"Пруст Жозеф Луи\"\\nя...      1\n",
       "22681  204148  Вот все любят,а я не люблю..как дура..говорю,ч...      0\n",
       "22682  204149  уххх спасибо дорогой Леле Евгеньевне и Штепуху...      1\n",
       "\n",
       "[22683 rows x 3 columns]"
      ]
     },
     "execution_count": 6,
     "metadata": {},
     "output_type": "execute_result"
    }
   ],
   "source": [
    "df_val"
   ]
  },
  {
   "cell_type": "code",
   "execution_count": 7,
   "id": "a437bf46",
   "metadata": {},
   "outputs": [],
   "source": [
    "sw = set(get_stop_words(\"ru\"))\n",
    "sw = sw.union( {'rt'})\n",
    "exclude = set(punctuation)\n",
    "morpher = MorphAnalyzer()"
   ]
  },
  {
   "cell_type": "code",
   "execution_count": 8,
   "id": "fbb4e6cd",
   "metadata": {},
   "outputs": [],
   "source": [
    "def preprocess_text(txt):\n",
    "    txt = str(txt).lower()\n",
    "    txt = re.sub(r'@\\w+','',txt)\n",
    "    #txt =re.sub(r\"(?:/[A-Za-z0-9$.+!*'(){},~:;=#%_\\-]*)+\",'',txt)\n",
    "    txt =re.sub(r\"http\\S+\",'',txt)\n",
    "    t=str('')\n",
    "    for c in txt:\n",
    "        if c not in exclude:\n",
    "            t = t+''.join(c)\n",
    "        else:\n",
    "            t = t+' '\n",
    "    txt = ''.join(t)\n",
    "    txt = re.sub(r'\\d+', '', txt)\n",
    "    txt = re.sub(r'@\\w+','',txt)\n",
    "    #txt = re.sub(\"\\sне\", \"не\", txt)\n",
    "    txt = [morpher.parse(word)[0].normal_form for word in txt.split() if word not in sw]\n",
    "    return \" \".join(txt)"
   ]
  },
  {
   "cell_type": "code",
   "execution_count": 9,
   "id": "a7d477d0",
   "metadata": {},
   "outputs": [
    {
     "name": "stdout",
     "output_type": "stream",
     "text": [
      "Wall time: 2min 44s\n"
     ]
    }
   ],
   "source": [
    "%%time\n",
    "df_train['text'] = df_train['text'].apply(preprocess_text)"
   ]
  },
  {
   "cell_type": "code",
   "execution_count": 10,
   "id": "21ba277f",
   "metadata": {},
   "outputs": [
    {
     "data": {
      "text/plain": [
       "0                           уезжаааааааать ❤ хотеть уезжать\n",
       "1            ребята девчата кино любовь завтра вотэтолюбовь\n",
       "2                                  ненавидеть пробка ретвит\n",
       "3                    хотеться котлета киевск запретный плод\n",
       "4                             босапоп есбосой бояться мороз\n",
       "                                ...                        \n",
       "181462                                       классный новый\n",
       "181463                       видеть человек привет игнорита\n",
       "181464    длинный диагноз вкратце аллергический отечь го...\n",
       "181465             ух серенький кнопочень телефон достаться\n",
       "181466    собираться сделать d навешать фотка вандюхий d...\n",
       "Name: text, Length: 181467, dtype: object"
      ]
     },
     "execution_count": 10,
     "metadata": {},
     "output_type": "execute_result"
    }
   ],
   "source": [
    "df_train['text']"
   ]
  },
  {
   "cell_type": "code",
   "execution_count": 11,
   "id": "ccfb6384",
   "metadata": {},
   "outputs": [
    {
     "name": "stdout",
     "output_type": "stream",
     "text": [
      "Wall time: 40.6 s\n"
     ]
    }
   ],
   "source": [
    "%%time\n",
    "df_test['text'] = df_test['text'].apply(preprocess_text)\n",
    "df_val['text'] = df_val['text'].apply(preprocess_text)"
   ]
  },
  {
   "cell_type": "code",
   "execution_count": 12,
   "id": "d775de7f",
   "metadata": {},
   "outputs": [],
   "source": [
    "df_train.to_csv(path_or_buf='train2.csv', sep=',')"
   ]
  },
  {
   "cell_type": "markdown",
   "id": "9661c52d",
   "metadata": {},
   "source": [
    "### Vectorization"
   ]
  },
  {
   "cell_type": "code",
   "execution_count": 13,
   "id": "acc495a5",
   "metadata": {},
   "outputs": [],
   "source": [
    "from tensorflow.keras.layers.experimental.preprocessing import TextVectorization"
   ]
  },
  {
   "cell_type": "code",
   "execution_count": 14,
   "id": "813f3064",
   "metadata": {},
   "outputs": [
    {
     "data": {
      "text/plain": [
       "35"
      ]
     },
     "execution_count": 14,
     "metadata": {},
     "output_type": "execute_result"
    }
   ],
   "source": [
    "max_length = max([len(i.split()) for i in df_train['text'].values])\n",
    "max_length"
   ]
  },
  {
   "cell_type": "code",
   "execution_count": 15,
   "id": "ce70e19e",
   "metadata": {},
   "outputs": [],
   "source": [
    "vectorizer = TextVectorization(standardize=None, max_tokens=20000, output_sequence_length=max_length)\n",
    "vectorizer.adapt(df_train['text'].values)"
   ]
  },
  {
   "cell_type": "code",
   "execution_count": 16,
   "id": "402a2075",
   "metadata": {},
   "outputs": [],
   "source": [
    "X_train = vectorizer(np.array([[s] for s in df_train['text'].values])).numpy()\n",
    "X_valid = vectorizer(np.array([[s] for s in df_val['text'].values])).numpy()"
   ]
  },
  {
   "cell_type": "code",
   "execution_count": 17,
   "id": "3f47afc3",
   "metadata": {},
   "outputs": [],
   "source": [
    "voc = vectorizer.get_vocabulary()\n",
    "word_count = len(voc) + 2"
   ]
  },
  {
   "cell_type": "code",
   "execution_count": 18,
   "id": "e089e1bd",
   "metadata": {},
   "outputs": [],
   "source": [
    "y_train = df_train['class'].values\n",
    "y_val = df_val['class'].values"
   ]
  },
  {
   "cell_type": "code",
   "execution_count": 19,
   "id": "0fe6f92f",
   "metadata": {},
   "outputs": [],
   "source": [
    "from tensorflow.keras.models import Sequential, Model\n",
    "from tensorflow.keras.callbacks import TensorBoard, EarlyStopping\n",
    "from tensorflow.keras.layers import Dense, Dropout, Activation, Input, Embedding, Conv1D, GlobalMaxPool1D\n",
    "from tensorflow.keras.layers import SimpleRNN, LSTM, GRU, Masking\n",
    "from tensorflow.keras.layers import Reshape, Permute\n",
    "\n",
    "import matplotlib.pyplot as plt"
   ]
  },
  {
   "cell_type": "code",
   "execution_count": 20,
   "id": "0d107470",
   "metadata": {},
   "outputs": [],
   "source": [
    "early_stopping=EarlyStopping(monitor='val_loss')"
   ]
  },
  {
   "cell_type": "markdown",
   "id": "caa38571",
   "metadata": {},
   "source": [
    "### SimpleRNN"
   ]
  },
  {
   "cell_type": "code",
   "execution_count": 21,
   "id": "2b40dade",
   "metadata": {},
   "outputs": [],
   "source": [
    "model = Sequential()\n",
    "\n",
    "model.add(Embedding(input_dim=word_count,input_length=max_length,output_dim=30,trainable=True,mask_zero=True))\n",
    "model.add(Masking(mask_value=0.0))\n",
    "model.add(SimpleRNN(64))\n",
    "model.add(Dense(64, activation='relu'))\n",
    "model.add(Dropout(0.5))\n",
    "model.add(Dense(1, activation='sigmoid'))\n",
    "\n",
    "model.compile(optimizer='adam', loss='binary_crossentropy', metrics=['accuracy'])"
   ]
  },
  {
   "cell_type": "code",
   "execution_count": 22,
   "id": "17f92bdb",
   "metadata": {},
   "outputs": [
    {
     "name": "stdout",
     "output_type": "stream",
     "text": [
      "Epoch 1/10\n",
      "319/319 [==============================] - 16s 48ms/step - loss: 0.6013 - accuracy: 0.6597 - val_loss: 0.5065 - val_accuracy: 0.7416\n",
      "Epoch 2/10\n",
      "319/319 [==============================] - 15s 46ms/step - loss: 0.4724 - accuracy: 0.7720 - val_loss: 0.5087 - val_accuracy: 0.7405\n",
      "Wall time: 30.8 s\n"
     ]
    }
   ],
   "source": [
    "%%time\n",
    "history_rnn = model.fit(X_train, y_train,\n",
    "                    batch_size=512,\n",
    "                    epochs=10,\n",
    "                    verbose=1,\n",
    "                    validation_split=0.1,\n",
    "                    callbacks=[early_stopping])"
   ]
  },
  {
   "cell_type": "code",
   "execution_count": 23,
   "id": "2ad82a75",
   "metadata": {},
   "outputs": [],
   "source": [
    "\n",
    "def plot_history(history):\n",
    "    plt.plot(history.history['accuracy'])\n",
    "    plt.plot(history.history['val_accuracy'])\n",
    "    plt.title('Model Accuracy')\n",
    "    plt.ylabel('accuracy')\n",
    "    plt.xlabel('epoch')\n",
    "    plt.legend(['train', 'val'], loc='lower right')\n",
    "    plt.show()"
   ]
  },
  {
   "cell_type": "code",
   "execution_count": 24,
   "id": "47c22b3f",
   "metadata": {
    "scrolled": true
   },
   "outputs": [
    {
     "data": {
      "image/png": "[encoded data removed]",
      "text/plain": [
       "<Figure size 432x288 with 1 Axes>"
      ]
     },
     "metadata": {
      "needs_background": "light"
     },
     "output_type": "display_data"
    }
   ],
   "source": [
    "plot_history(history_rnn)"
   ]
  },
  {
   "cell_type": "code",
   "execution_count": 25,
   "id": "98ac2a4e",
   "metadata": {},
   "outputs": [],
   "source": [
    "data_score=list()"
   ]
  },
  {
   "cell_type": "code",
   "execution_count": 26,
   "id": "31c78960",
   "metadata": {},
   "outputs": [
    {
     "name": "stdout",
     "output_type": "stream",
     "text": [
      "45/45 [==============================] - 1s 13ms/step - loss: 0.5167 - accuracy: 0.7323\n",
      "\n",
      "\n",
      "Test loss: 0.5166900753974915\n",
      "Test accuracy: 0.7323105335235596\n"
     ]
    }
   ],
   "source": [
    "score= model.evaluate(X_valid, y_val, batch_size=512, verbose=1)\n",
    "print('\\n')\n",
    "print('Test loss:', score[0])\n",
    "print('Test accuracy:', score[1])\n",
    "\n",
    "score.insert(0,'RNN')\n",
    "data_score.append(score)\n"
   ]
  },
  {
   "cell_type": "markdown",
   "id": "1097a48f",
   "metadata": {},
   "source": [
    "### LSTM"
   ]
  },
  {
   "cell_type": "code",
   "execution_count": 27,
   "id": "b62b44c7",
   "metadata": {},
   "outputs": [],
   "source": [
    "model = Sequential()\n",
    "\n",
    "model.add(Embedding(input_dim=word_count,input_length=max_length,output_dim=30,trainable=True,mask_zero=True))\n",
    "model.add(Masking(mask_value=0.0))\n",
    "model.add(LSTM(64, recurrent_dropout=0.2))\n",
    "model.add(Dense(64, activation='relu'))\n",
    "model.add(Dropout(0.5))\n",
    "model.add(Dense(1, activation='sigmoid'))\n",
    "\n",
    "model.compile(optimizer='adam', loss='binary_crossentropy', metrics=['accuracy'])"
   ]
  },
  {
   "cell_type": "code",
   "execution_count": 28,
   "id": "db4dcddd",
   "metadata": {},
   "outputs": [
    {
     "name": "stdout",
     "output_type": "stream",
     "text": [
      "Epoch 1/10\n",
      "319/319 [==============================] - 39s 117ms/step - loss: 0.6651 - accuracy: 0.5477 - val_loss: 0.5253 - val_accuracy: 0.7371\n",
      "Epoch 2/10\n",
      "319/319 [==============================] - 36s 112ms/step - loss: 0.4907 - accuracy: 0.7604 - val_loss: 0.5035 - val_accuracy: 0.7430\n",
      "Epoch 3/10\n",
      "319/319 [==============================] - 35s 111ms/step - loss: 0.4580 - accuracy: 0.7844 - val_loss: 0.5046 - val_accuracy: 0.7444\n",
      "Wall time: 1min 50s\n"
     ]
    }
   ],
   "source": [
    "%%time\n",
    "history_lstm = model.fit(X_train, y_train,\n",
    "                    batch_size=512,\n",
    "                    epochs=10,\n",
    "                    verbose=1,\n",
    "                    validation_split=0.1,\n",
    "                    callbacks=[early_stopping])"
   ]
  },
  {
   "cell_type": "code",
   "execution_count": 29,
   "id": "cc6149fc",
   "metadata": {},
   "outputs": [
    {
     "data": {
      "image/png": "[encoded data removed]",
      "text/plain": [
       "<Figure size 432x288 with 1 Axes>"
      ]
     },
     "metadata": {
      "needs_background": "light"
     },
     "output_type": "display_data"
    }
   ],
   "source": [
    "plot_history(history_lstm)"
   ]
  },
  {
   "cell_type": "code",
   "execution_count": 30,
   "id": "69ac8314",
   "metadata": {},
   "outputs": [
    {
     "name": "stdout",
     "output_type": "stream",
     "text": [
      "45/45 [==============================] - 1s 21ms/step - loss: 0.5115 - accuracy: 0.7412\n",
      "\n",
      "\n",
      "Test loss: 0.5114826560020447\n",
      "Test accuracy: 0.7412158846855164\n"
     ]
    }
   ],
   "source": [
    "score = model.evaluate(X_valid, y_val, batch_size=512, verbose=1)\n",
    "print('\\n')\n",
    "print('Test loss:', score[0])\n",
    "print('Test accuracy:', score[1])\n",
    "\n",
    "score.insert(0,'LSTM')\n",
    "data_score.append(score)"
   ]
  },
  {
   "cell_type": "markdown",
   "id": "8acba9dc",
   "metadata": {},
   "source": [
    "### GRU"
   ]
  },
  {
   "cell_type": "code",
   "execution_count": 31,
   "id": "bf572395",
   "metadata": {},
   "outputs": [],
   "source": [
    "model = Sequential()\n",
    "\n",
    "model.add(Embedding(input_dim=word_count,input_length=max_length,output_dim=30,trainable=True,mask_zero=True))\n",
    "model.add(Masking(mask_value=0.0))\n",
    "model.add(GRU(64, recurrent_dropout=0.2))\n",
    "model.add(Dense(64, activation='relu'))\n",
    "model.add(Dropout(0.5))\n",
    "model.add(Dense(1, activation='sigmoid'))\n",
    "\n",
    "model.compile(optimizer='adam', loss='binary_crossentropy', metrics=['accuracy'])"
   ]
  },
  {
   "cell_type": "code",
   "execution_count": 32,
   "id": "8a7e99ff",
   "metadata": {},
   "outputs": [
    {
     "name": "stdout",
     "output_type": "stream",
     "text": [
      "Epoch 1/10\n",
      "319/319 [==============================] - 33s 97ms/step - loss: 0.6931 - accuracy: 0.5058 - val_loss: 0.6935 - val_accuracy: 0.5049\n",
      "Epoch 2/10\n",
      "319/319 [==============================] - 33s 102ms/step - loss: 0.6933 - accuracy: 0.5031 - val_loss: 0.6931 - val_accuracy: 0.5049\n",
      "Epoch 3/10\n",
      "319/319 [==============================] - 30s 95ms/step - loss: 0.6931 - accuracy: 0.5066 - val_loss: 0.6931 - val_accuracy: 0.5049\n",
      "Wall time: 1min 35s\n"
     ]
    }
   ],
   "source": [
    "%%time\n",
    "history_gru = model.fit(X_train, y_train,\n",
    "                        batch_size=512,\n",
    "                        epochs=10,\n",
    "                        verbose=1,\n",
    "                        validation_split=0.1,\n",
    "                        callbacks=[early_stopping])"
   ]
  },
  {
   "cell_type": "code",
   "execution_count": 33,
   "id": "33a514d4",
   "metadata": {},
   "outputs": [
    {
     "data": {
      "image/png": "[encoded data removed]",
      "text/plain": [
       "<Figure size 432x288 with 1 Axes>"
      ]
     },
     "metadata": {
      "needs_background": "light"
     },
     "output_type": "display_data"
    }
   ],
   "source": [
    "plot_history(history_gru)"
   ]
  },
  {
   "cell_type": "code",
   "execution_count": 34,
   "id": "3d13099b",
   "metadata": {},
   "outputs": [
    {
     "name": "stdout",
     "output_type": "stream",
     "text": [
      "45/45 [==============================] - 1s 20ms/step - loss: 0.6931 - accuracy: 0.5047\n",
      "\n",
      "\n",
      "Test loss: 0.6931117177009583\n",
      "Test accuracy: 0.5047392249107361\n"
     ]
    }
   ],
   "source": [
    "score = model.evaluate(X_valid, y_val, batch_size=512, verbose=1)\n",
    "print('\\n')\n",
    "print('Test loss:', score[0])\n",
    "print('Test accuracy:', score[1])\n",
    "\n",
    "score.insert(0,'GRU')\n",
    "data_score.append(score)"
   ]
  },
  {
   "cell_type": "markdown",
   "id": "c64cc8da",
   "metadata": {},
   "source": [
    "### CNN"
   ]
  },
  {
   "cell_type": "code",
   "execution_count": 35,
   "id": "a346abc7",
   "metadata": {},
   "outputs": [],
   "source": [
    "model = Sequential()\n",
    "\n",
    "model.add(Embedding(input_dim=word_count,input_length=max_length,output_dim=30,trainable=True,mask_zero=True))\n",
    "model.add(Masking(mask_value=0.0))\n",
    "model.add(Conv1D(128, 3))\n",
    "model.add(Activation(\"relu\"))\n",
    "model.add(GlobalMaxPool1D())\n",
    "model.add(Dense(10))\n",
    "model.add(Activation(\"relu\"))\n",
    "model.add(Dropout(0.5))\n",
    "model.add(Dense(1, activation='sigmoid'))\n",
    "    \n",
    "model.compile(loss='binary_crossentropy',optimizer='adam',metrics=['accuracy'])"
   ]
  },
  {
   "cell_type": "code",
   "execution_count": 36,
   "id": "b19c0278",
   "metadata": {},
   "outputs": [
    {
     "name": "stdout",
     "output_type": "stream",
     "text": [
      "Epoch 1/10\n",
      "319/319 [==============================] - 12s 37ms/step - loss: 0.6287 - accuracy: 0.6217 - val_loss: 0.5059 - val_accuracy: 0.7412\n",
      "Epoch 2/10\n",
      "319/319 [==============================] - 12s 36ms/step - loss: 0.4974 - accuracy: 0.7576 - val_loss: 0.4982 - val_accuracy: 0.7455\n",
      "Epoch 3/10\n",
      "319/319 [==============================] - 12s 37ms/step - loss: 0.4624 - accuracy: 0.7801 - val_loss: 0.5023 - val_accuracy: 0.7473\n"
     ]
    }
   ],
   "source": [
    "history_cnn = model.fit(X_train, y_train,\n",
    "                    batch_size=512,\n",
    "                    epochs=10,\n",
    "                    verbose=1,\n",
    "                    validation_split=0.1,\n",
    "                    callbacks=[early_stopping])"
   ]
  },
  {
   "cell_type": "code",
   "execution_count": 37,
   "id": "14596d13",
   "metadata": {},
   "outputs": [
    {
     "data": {
      "image/png": "[encoded data removed]",
      "text/plain": [
       "<Figure size 432x288 with 1 Axes>"
      ]
     },
     "metadata": {
      "needs_background": "light"
     },
     "output_type": "display_data"
    }
   ],
   "source": [
    "plot_history(history_cnn)"
   ]
  },
  {
   "cell_type": "code",
   "execution_count": 38,
   "id": "a6b5c724",
   "metadata": {},
   "outputs": [
    {
     "name": "stdout",
     "output_type": "stream",
     "text": [
      "45/45 [==============================] - 0s 8ms/step - loss: 0.5084 - accuracy: 0.7446\n",
      "\n",
      "\n",
      "Test loss: 0.5083984136581421\n",
      "Test accuracy: 0.7446104884147644\n"
     ]
    }
   ],
   "source": [
    "score = model.evaluate(X_valid, y_val, batch_size=512, verbose=1)\n",
    "print('\\n')\n",
    "print('Test loss:', score[0])\n",
    "print('Test accuracy:', score[1])\n",
    "\n",
    "score.insert(0,'CNN')\n",
    "data_score.append(score)"
   ]
  },
  {
   "cell_type": "markdown",
   "id": "643bfeb1",
   "metadata": {},
   "source": [
    "### RNN + CNN"
   ]
  },
  {
   "cell_type": "code",
   "execution_count": 39,
   "id": "6ec9bd14",
   "metadata": {},
   "outputs": [],
   "source": [
    "model = Sequential()\n",
    "\n",
    "model.add(Embedding(input_dim=word_count,input_length=max_length,output_dim=30,trainable=True,mask_zero=True))\n",
    "model.add(Masking(mask_value=0.0))\n",
    "model.add(Conv1D(128, 3))\n",
    "model.add(Activation(\"relu\"))\n",
    "model.add(GlobalMaxPool1D())\n",
    "model.add(Dense(10))\n",
    "model.add(Activation(\"relu\"))\n",
    "\n",
    "# Reshape with the first argument being the number of filter in your last conv layer\n",
    "model.add(Reshape((10, -1)))\n",
    "# Just write this Permute after, its complicated why\n",
    "model.add(Permute((2, 1)))\n",
    "\n",
    "model.add(LSTM(64, recurrent_dropout=0.2))\n",
    "model.add(Dense(64, activation='relu'))\n",
    "model.add(Dropout(0.5))\n",
    "model.add(Dense(1, activation='sigmoid'))\n",
    "\n",
    "    \n",
    "model.compile(loss='binary_crossentropy',\n",
    "              optimizer='adam',\n",
    "              metrics=['accuracy'])"
   ]
  },
  {
   "cell_type": "code",
   "execution_count": 40,
   "id": "b2542255",
   "metadata": {},
   "outputs": [
    {
     "name": "stdout",
     "output_type": "stream",
     "text": [
      "Epoch 1/10\n",
      "319/319 [==============================] - 15s 41ms/step - loss: 0.6144 - accuracy: 0.6281 - val_loss: 0.4995 - val_accuracy: 0.7464\n",
      "Epoch 2/10\n",
      "319/319 [==============================] - 13s 39ms/step - loss: 0.4598 - accuracy: 0.7830 - val_loss: 0.5013 - val_accuracy: 0.7489\n"
     ]
    }
   ],
   "source": [
    "history_rc = model.fit(X_train, y_train,\n",
    "                    batch_size=512,\n",
    "                    epochs=10,\n",
    "                    verbose=1,\n",
    "                    validation_split=0.1,\n",
    "                    callbacks=[early_stopping])"
   ]
  },
  {
   "cell_type": "code",
   "execution_count": 41,
   "id": "b0a307da",
   "metadata": {},
   "outputs": [
    {
     "data": {
      "image/png": "[encoded data removed]",
      "text/plain": [
       "<Figure size 432x288 with 1 Axes>"
      ]
     },
     "metadata": {
      "needs_background": "light"
     },
     "output_type": "display_data"
    }
   ],
   "source": [
    "plot_history(history_rc)"
   ]
  },
  {
   "cell_type": "code",
   "execution_count": 42,
   "id": "189be987",
   "metadata": {},
   "outputs": [
    {
     "name": "stdout",
     "output_type": "stream",
     "text": [
      "45/45 [==============================] - 0s 9ms/step - loss: 0.5086 - accuracy: 0.7458\n",
      "\n",
      "\n",
      "Test loss: 0.5086010694503784\n",
      "Test accuracy: 0.745800793170929\n"
     ]
    }
   ],
   "source": [
    "score= model.evaluate(X_valid, y_val, batch_size=512, verbose=1)\n",
    "print('\\n')\n",
    "print('Test loss:', score[0])\n",
    "print('Test accuracy:', score[1])\n",
    "\n",
    "score.insert(0,'RNN+CNN')\n",
    "data_score.append(score)"
   ]
  },
  {
   "cell_type": "code",
   "execution_count": 44,
   "id": "0b4135bb",
   "metadata": {},
   "outputs": [
    {
     "data": {
      "text/html": [
       "<div>\n",
       "<style scoped>\n",
       "    .dataframe tbody tr th:only-of-type {\n",
       "        vertical-align: middle;\n",
       "    }\n",
       "\n",
       "    .dataframe tbody tr th {\n",
       "        vertical-align: top;\n",
       "    }\n",
       "\n",
       "    .dataframe thead th {\n",
       "        text-align: right;\n",
       "    }\n",
       "</style>\n",
       "<table border=\"1\" class=\"dataframe\">\n",
       "  <thead>\n",
       "    <tr style=\"text-align: right;\">\n",
       "      <th></th>\n",
       "      <th>model</th>\n",
       "      <th>loss</th>\n",
       "      <th>accuracy</th>\n",
       "    </tr>\n",
       "  </thead>\n",
       "  <tbody>\n",
       "    <tr>\n",
       "      <th>0</th>\n",
       "      <td>RNN</td>\n",
       "      <td>0.516690</td>\n",
       "      <td>0.732311</td>\n",
       "    </tr>\n",
       "    <tr>\n",
       "      <th>1</th>\n",
       "      <td>LSTM</td>\n",
       "      <td>0.511483</td>\n",
       "      <td>0.741216</td>\n",
       "    </tr>\n",
       "    <tr>\n",
       "      <th>2</th>\n",
       "      <td>GRU</td>\n",
       "      <td>0.693112</td>\n",
       "      <td>0.504739</td>\n",
       "    </tr>\n",
       "    <tr>\n",
       "      <th>3</th>\n",
       "      <td>CNN</td>\n",
       "      <td>0.508398</td>\n",
       "      <td>0.744610</td>\n",
       "    </tr>\n",
       "    <tr>\n",
       "      <th>4</th>\n",
       "      <td>RNN+CNN</td>\n",
       "      <td>0.508601</td>\n",
       "      <td>0.745801</td>\n",
       "    </tr>\n",
       "  </tbody>\n",
       "</table>\n",
       "</div>"
      ],
      "text/plain": [
       "     model      loss  accuracy\n",
       "0      RNN  0.516690  0.732311\n",
       "1     LSTM  0.511483  0.741216\n",
       "2      GRU  0.693112  0.504739\n",
       "3      CNN  0.508398  0.744610\n",
       "4  RNN+CNN  0.508601  0.745801"
      ]
     },
     "execution_count": 44,
     "metadata": {},
     "output_type": "execute_result"
    }
   ],
   "source": [
    "data = pd.DataFrame(data_score, columns = ['model', 'loss', 'accuracy'])\n",
    "data"
   ]
  },
  {
   "cell_type": "code",
   "execution_count": 45,
   "id": "79efd158",
   "metadata": {},
   "outputs": [
    {
     "data": {
      "image/png": "[encoded data removed]",
      "text/plain": [
       "<Figure size 432x288 with 1 Axes>"
      ]
     },
     "metadata": {
      "needs_background": "light"
     },
     "output_type": "display_data"
    }
   ],
   "source": [
    "plt.plot(data['model'],data['loss'])\n",
    "plt.plot(data['model'],data['accuracy'])\n",
    "plt.title('Loss on Model')\n",
    "plt.ylabel('Loss')\n",
    "plt.xlabel('Models')\n",
    "plt.show()"
   ]
  },
  {
   "cell_type": "markdown",
   "id": "d23970c6",
   "metadata": {},
   "source": [
    "<b>Итоги: Лучшую точность показала модель RNN+CNN"
   ]
  },
  {
   "cell_type": "code",
   "execution_count": null,
   "id": "5ffe46df",
   "metadata": {},
   "outputs": [],
   "source": []
  }
 ],
 "metadata": {
  "kernelspec": {
   "display_name": "Python 3 (ipykernel)",
   "language": "python",
   "name": "python3"
  },
  "language_info": {
   "codemirror_mode": {
    "name": "ipython",
    "version": 3
   },
   "file_extension": ".py",
   "mimetype": "text/x-python",
   "name": "python",
   "nbconvert_exporter": "python",
   "pygments_lexer": "ipython3",
   "version": "3.7.11"
  }
 },
 "nbformat": 4,
 "nbformat_minor": 5
}
