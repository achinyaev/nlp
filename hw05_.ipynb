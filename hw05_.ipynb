{
 "cells": [
  {
   "cell_type": "markdown",
   "id": "fe12842f",
   "metadata": {},
   "source": [
    "## Задание 1. Написать теггер на данных с русским языком"
   ]
  },
  {
   "cell_type": "code",
   "execution_count": 29,
   "id": "fd15a1d6",
   "metadata": {},
   "outputs": [],
   "source": [
    "import nltk\n",
    "import pyconll\n",
    "import pandas as pd\n",
    "import numpy as np\n",
    "from nltk.tag import DefaultTagger,UnigramTagger,BigramTagger,TrigramTagger\n",
    "from nltk.tag import RegexpTagger\n"
   ]
  },
  {
   "cell_type": "code",
   "execution_count": 30,
   "id": "66ed4740",
   "metadata": {},
   "outputs": [],
   "source": [
    "train = pyconll.load_from_file('.\\\\datasets\\\\ru_syntagrus-ud-train-full.conllu')\n"
   ]
  },
  {
   "cell_type": "code",
   "execution_count": 31,
   "id": "a57a8c42",
   "metadata": {},
   "outputs": [],
   "source": [
    "test = pyconll.load_from_file('.\\\\datasets\\\\ru_syntagrus-ud-test.conllu')"
   ]
  },
  {
   "cell_type": "code",
   "execution_count": 32,
   "id": "a3c4e83d",
   "metadata": {},
   "outputs": [
    {
     "name": "stdout",
     "output_type": "stream",
     "text": [
      "Анкета NOUN\n",
      ". PUNCT\n",
      "\n",
      "Начальник NOUN\n",
      "областного ADJ\n",
      "управления NOUN\n",
      "связи NOUN\n",
      "Семен PROPN\n",
      "Еремеевич PROPN\n",
      "был AUX\n",
      "человек NOUN\n",
      "простой ADJ\n",
      ", PUNCT\n",
      "приходил VERB\n",
      "на ADP\n",
      "работу NOUN\n",
      "всегда ADV\n",
      "вовремя ADV\n",
      ", PUNCT\n",
      "здоровался VERB\n",
      "с ADP\n",
      "секретаршей NOUN\n",
      "за ADP\n",
      "руку NOUN\n",
      "и CCONJ\n",
      "иногда ADV\n",
      "даже PART\n",
      "писал VERB\n",
      "в ADP\n",
      "стенгазету NOUN\n",
      "заметки NOUN\n",
      "под ADP\n",
      "псевдонимом NOUN\n",
      "\" PUNCT\n",
      "Муха NOUN\n",
      "\" PUNCT\n",
      ". PUNCT\n",
      "\n"
     ]
    }
   ],
   "source": [
    "for sentence in train[:2]:\n",
    "    for token in sentence:\n",
    "        print(token.form, token.upos)\n",
    "    print()"
   ]
  },
  {
   "cell_type": "code",
   "execution_count": 33,
   "id": "ad3992bf",
   "metadata": {},
   "outputs": [],
   "source": [
    "def convert_to_test_data(fulldata):\n",
    "    res = []\n",
    "    for sentence in fulldata:\n",
    "        sub_res = []\n",
    "        for token in sentence:\n",
    "            sub_res.append((token.form, token.upos))\n",
    "        res.append(sub_res)\n",
    "    return res\n",
    "\n",
    "def convert_to_test_sent(fulldata):\n",
    "    res = []\n",
    "    for sentence in fulldata:\n",
    "        sub_res = []\n",
    "        for token in sentence:\n",
    "            sub_res.append(token.form)\n",
    "        res.append(sub_res)\n",
    "    return res"
   ]
  },
  {
   "cell_type": "code",
   "execution_count": 34,
   "id": "c159341a",
   "metadata": {},
   "outputs": [],
   "source": [
    "train_data = convert_to_test_data(train)\n",
    "test_data = convert_to_test_data(test)"
   ]
  },
  {
   "cell_type": "code",
   "execution_count": null,
   "id": "c42998e2",
   "metadata": {},
   "outputs": [],
   "source": []
  },
  {
   "cell_type": "code",
   "execution_count": 35,
   "id": "cb5d853f",
   "metadata": {},
   "outputs": [
    {
     "name": "stdout",
     "output_type": "stream",
     "text": [
      "[[('Анкета', 'NOUN'), ('.', 'PUNCT')], [('Начальник', 'NOUN'), ('областного', 'ADJ'), ('управления', 'NOUN'), ('связи', 'NOUN'), ('Семен', 'PROPN'), ('Еремеевич', 'PROPN'), ('был', 'AUX'), ('человек', 'NOUN'), ('простой', 'ADJ'), (',', 'PUNCT'), ('приходил', 'VERB'), ('на', 'ADP'), ('работу', 'NOUN'), ('всегда', 'ADV'), ('вовремя', 'ADV'), (',', 'PUNCT'), ('здоровался', 'VERB'), ('с', 'ADP'), ('секретаршей', 'NOUN'), ('за', 'ADP'), ('руку', 'NOUN'), ('и', 'CCONJ'), ('иногда', 'ADV'), ('даже', 'PART'), ('писал', 'VERB'), ('в', 'ADP'), ('стенгазету', 'NOUN'), ('заметки', 'NOUN'), ('под', 'ADP'), ('псевдонимом', 'NOUN'), ('\"', 'PUNCT'), ('Муха', 'NOUN'), ('\"', 'PUNCT'), ('.', 'PUNCT')], [('В', 'ADP'), ('приемной', 'NOUN'), ('его', 'PRON'), ('с', 'ADP'), ('утра', 'NOUN'), ('ожидали', 'VERB'), ('посетители', 'NOUN'), (',', 'PUNCT'), ('-', 'PUNCT'), ('кое-кто', 'PRON'), ('с', 'ADP'), ('важными', 'ADJ'), ('делами', 'NOUN'), (',', 'PUNCT'), ('а', 'CCONJ'), ('кое-кто', 'PRON'), ('и', 'PART'), ('с', 'ADP'), ('такими', 'DET'), (',', 'PUNCT'), ('которые', 'PRON'), ('легко', 'ADV'), ('можно', 'ADV'), ('было', 'AUX'), ('решить', 'VERB'), ('в', 'ADP'), ('нижестоящих', 'ADJ'), ('инстанциях', 'NOUN'), (',', 'PUNCT'), ('не', 'PART'), ('затрудняя', 'VERB'), ('Семена', 'PROPN'), ('Еремеевича', 'PROPN'), ('.', 'PUNCT')], [('Однако', 'ADV'), ('стиль', 'NOUN'), ('работы', 'NOUN'), ('Семена', 'PROPN'), ('Еремеевича', 'PROPN'), ('заключался', 'VERB'), ('в', 'ADP'), ('том', 'PRON'), (',', 'PUNCT'), ('чтобы', 'SCONJ'), ('принимать', 'VERB'), ('всех', 'DET'), ('желающих', 'VERB'), ('и', 'CCONJ'), ('лично', 'ADV'), ('вникать', 'VERB'), ('в', 'ADP'), ('дело', 'NOUN'), ('.', 'PUNCT')], [('Приемная', 'NOUN'), ('была', 'AUX'), ('обставлена', 'VERB'), ('просто', 'ADV'), (',', 'PUNCT'), ('но', 'CCONJ'), ('по-деловому', 'ADV'), ('.', 'PUNCT')]]\n"
     ]
    }
   ],
   "source": [
    "print(train_data[0:5])"
   ]
  },
  {
   "cell_type": "code",
   "execution_count": 36,
   "id": "63e14b9b",
   "metadata": {},
   "outputs": [
    {
     "name": "stdout",
     "output_type": "stream",
     "text": [
      "[[('В', 'ADP'), ('советский', 'ADJ'), ('период', 'NOUN'), ('времени', 'NOUN'), ('число', 'NOUN'), ('ИТ', 'PROPN'), ('-', 'PUNCT'), ('специалистов', 'NOUN'), ('в', 'ADP'), ('Армении', 'PROPN'), ('составляло', 'VERB'), ('около', 'ADP'), ('десяти', 'NUM'), ('тысяч', 'NOUN'), ('.', 'PUNCT')], [('Доставшийся', 'VERB'), ('в', 'ADP'), ('наследство', 'NOUN'), ('от', 'ADP'), ('советского', 'ADJ'), ('периода', 'NOUN'), ('времени', 'NOUN'), ('промышленный', 'ADJ'), ('и', 'CCONJ'), ('интеллектуальный', 'ADJ'), ('потенциал', 'NOUN'), ('оказался', 'VERB'), ('благом', 'NOUN'), ('и', 'CCONJ'), ('горем', 'NOUN'), ('страны', 'NOUN'), ('.', 'PUNCT')], [('С', 'ADP'), ('одной', 'NUM'), ('стороны', 'NOUN'), (',', 'PUNCT'), ('квалифицированные', 'VERB'), ('кадры', 'NOUN'), ('и', 'CCONJ'), ('развитая', 'VERB'), ('производственная', 'ADJ'), ('инфраструктура', 'NOUN'), ('резко', 'ADV'), ('отличали', 'VERB'), ('Армению', 'PROPN'), ('от', 'ADP'), ('других', 'ADJ'), ('регионов', 'NOUN'), ('СССР', 'PROPN'), (',', 'PUNCT'), ('где', 'ADV'), ('доминировали', 'VERB'), ('добывающие', 'VERB'), ('отрасли', 'NOUN'), (',', 'PUNCT'), ('а', 'CCONJ'), ('экономика', 'NOUN'), ('строилась', 'VERB'), ('на', 'ADP'), ('поставке', 'NOUN'), ('сырьевых', 'ADJ'), ('ресурсов', 'NOUN'), ('.', 'PUNCT')], [('С', 'ADP'), ('другой', 'ADJ'), (',', 'PUNCT'), ('оставшись', 'VERB'), ('без', 'ADP'), ('сырья', 'NOUN'), ('для', 'ADP'), ('промышленных', 'ADJ'), ('предприятий', 'NOUN'), (',', 'PUNCT'), ('энергоресурсов', 'NOUN'), ('и', 'CCONJ'), ('рынков', 'NOUN'), ('сбыта', 'NOUN'), ('продукции', 'NOUN'), (',', 'PUNCT'), ('конкурентоспособной', 'ADJ'), ('только', 'PART'), ('на', 'ADP'), ('постсоветском', 'ADJ'), ('пространстве', 'NOUN'), (',', 'PUNCT'), ('Армения', 'PROPN'), ('быстро', 'ADV'), ('потеряла', 'VERB'), ('темпы', 'NOUN'), ('своего', 'DET'), ('экономического', 'ADJ'), ('развития', 'NOUN'), ('.', 'PUNCT')], [('Помощь', 'NOUN'), ('этой', 'DET'), ('стране', 'NOUN'), ('обычно', 'ADV'), ('поступает', 'VERB'), ('извне', 'ADV'), ('.', 'PUNCT')]]\n"
     ]
    }
   ],
   "source": [
    "print(test_data[0:5])"
   ]
  },
  {
   "cell_type": "code",
   "execution_count": 37,
   "id": "cfc18ddb",
   "metadata": {},
   "outputs": [
    {
     "name": "stdout",
     "output_type": "stream",
     "text": [
      "['В', 'советский', 'период', 'времени', 'число', 'ИТ', '-', 'специалистов', 'в', 'Армении', 'составляло', 'около', 'десяти', 'тысяч', '.']\n"
     ]
    }
   ],
   "source": [
    "test_sent = convert_to_test_sent(test)[0]\n",
    "print(test_sent)"
   ]
  },
  {
   "cell_type": "markdown",
   "id": "0ba2a1d7",
   "metadata": {},
   "source": [
    "#### 1.Проверить UnigramTagger, BigramTagger, TrigramTagger и их комбинации"
   ]
  },
  {
   "cell_type": "code",
   "execution_count": 38,
   "id": "518a9dbd",
   "metadata": {},
   "outputs": [
    {
     "name": "stderr",
     "output_type": "stream",
     "text": [
      "D:\\anaconda3\\envs\\Python37\\lib\\site-packages\\ipykernel_launcher.py:2: DeprecationWarning: \n",
      "  Function evaluate() has been deprecated.  Use accuracy(gold)\n",
      "  instead.\n",
      "  \n"
     ]
    },
    {
     "data": {
      "text/plain": [
       "[('В', 'ADP'),\n",
       " ('советский', 'ADJ'),\n",
       " ('период', 'NOUN'),\n",
       " ('времени', 'NOUN'),\n",
       " ('число', 'NOUN'),\n",
       " ('ИТ', 'PROPN'),\n",
       " ('-', 'PUNCT'),\n",
       " ('специалистов', 'NOUN'),\n",
       " ('в', 'ADP'),\n",
       " ('Армении', 'PROPN'),\n",
       " ('составляло', 'VERB'),\n",
       " ('около', 'ADP'),\n",
       " ('десяти', 'NUM'),\n",
       " ('тысяч', 'NOUN'),\n",
       " ('.', 'PUNCT')]"
      ]
     },
     "metadata": {},
     "output_type": "display_data"
    },
    {
     "data": {
      "text/plain": [
       "0.8880238497616922"
      ]
     },
     "metadata": {},
     "output_type": "display_data"
    }
   ],
   "source": [
    "unigram_tagger = UnigramTagger(train_data)\n",
    "display(unigram_tagger.tag(test_sent), unigram_tagger.evaluate(test_data))"
   ]
  },
  {
   "cell_type": "code",
   "execution_count": 39,
   "id": "64504f97",
   "metadata": {},
   "outputs": [
    {
     "name": "stderr",
     "output_type": "stream",
     "text": [
      "D:\\anaconda3\\envs\\Python37\\lib\\site-packages\\ipykernel_launcher.py:2: DeprecationWarning: \n",
      "  Function evaluate() has been deprecated.  Use accuracy(gold)\n",
      "  instead.\n",
      "  \n"
     ]
    },
    {
     "data": {
      "text/plain": [
       "[('В', 'ADP'),\n",
       " ('советский', 'ADJ'),\n",
       " ('период', 'NOUN'),\n",
       " ('времени', 'NOUN'),\n",
       " ('число', 'NOUN'),\n",
       " ('ИТ', 'PROPN'),\n",
       " ('-', 'PUNCT'),\n",
       " ('специалистов', 'NOUN'),\n",
       " ('в', 'ADP'),\n",
       " ('Армении', 'PROPN'),\n",
       " ('составляло', 'VERB'),\n",
       " ('около', 'ADP'),\n",
       " ('десяти', 'NUM'),\n",
       " ('тысяч', 'NOUN'),\n",
       " ('.', 'PUNCT')]"
      ]
     },
     "metadata": {},
     "output_type": "display_data"
    },
    {
     "data": {
      "text/plain": [
       "0.89297989100507"
      ]
     },
     "metadata": {},
     "output_type": "display_data"
    }
   ],
   "source": [
    "bigram_tagger = BigramTagger(train_data, backoff=unigram_tagger)\n",
    "display(bigram_tagger.tag(test_sent), bigram_tagger.evaluate(test_data))"
   ]
  },
  {
   "cell_type": "code",
   "execution_count": 40,
   "id": "8bb237e1",
   "metadata": {},
   "outputs": [
    {
     "name": "stderr",
     "output_type": "stream",
     "text": [
      "D:\\anaconda3\\envs\\Python37\\lib\\site-packages\\ipykernel_launcher.py:2: DeprecationWarning: \n",
      "  Function evaluate() has been deprecated.  Use accuracy(gold)\n",
      "  instead.\n",
      "  \n"
     ]
    },
    {
     "data": {
      "text/plain": [
       "[('В', 'ADP'),\n",
       " ('советский', 'ADJ'),\n",
       " ('период', 'NOUN'),\n",
       " ('времени', 'NOUN'),\n",
       " ('число', 'NOUN'),\n",
       " ('ИТ', 'NOUN'),\n",
       " ('-', 'PUNCT'),\n",
       " ('специалистов', 'NOUN'),\n",
       " ('в', 'ADP'),\n",
       " ('Армении', 'PROPN'),\n",
       " ('составляло', 'VERB'),\n",
       " ('около', 'ADP'),\n",
       " ('десяти', 'NUM'),\n",
       " ('тысяч', 'NOUN'),\n",
       " ('.', 'PUNCT')]"
      ]
     },
     "metadata": {},
     "output_type": "display_data"
    },
    {
     "data": {
      "text/plain": [
       "0.8918848780611308"
      ]
     },
     "metadata": {},
     "output_type": "display_data"
    }
   ],
   "source": [
    "trigram_tagger = TrigramTagger(train_data, backoff=bigram_tagger)\n",
    "display(trigram_tagger.tag(test_sent), trigram_tagger.evaluate(test_data))"
   ]
  },
  {
   "cell_type": "code",
   "execution_count": 41,
   "id": "341f2f65",
   "metadata": {},
   "outputs": [
    {
     "name": "stderr",
     "output_type": "stream",
     "text": [
      "D:\\anaconda3\\envs\\Python37\\lib\\site-packages\\ipykernel_launcher.py:11: DeprecationWarning: \n",
      "  Function evaluate() has been deprecated.  Use accuracy(gold)\n",
      "  instead.\n",
      "  # This is added back by InteractiveShellApp.init_path()\n"
     ]
    },
    {
     "data": {
      "text/plain": [
       "0.8914861161220085"
      ]
     },
     "execution_count": 41,
     "metadata": {},
     "output_type": "execute_result"
    }
   ],
   "source": [
    "# Комбинация тэггеров\n",
    "def backoff_tagger(train_sents, tagger_classes, backoff=None):\n",
    "    for cls in tagger_classes:\n",
    "        backoff = cls(train_sents, backoff=backoff)\n",
    "    return backoff\n",
    "\n",
    "\n",
    "backoff = DefaultTagger('NN') \n",
    "tag = backoff_tagger(train_data, [UnigramTagger, BigramTagger, TrigramTagger], backoff = backoff) \n",
    "  \n",
    "tag.evaluate(test_data)"
   ]
  },
  {
   "cell_type": "markdown",
   "id": "12a558a8",
   "metadata": {},
   "source": [
    "#### 2.Написать свой теггер как на занятии, но улучшить попробовать разные векторайзеры, добавить знание не только букв и слов но и совместно объединить эти признаки"
   ]
  },
  {
   "cell_type": "code",
   "execution_count": 42,
   "id": "0ca3539a",
   "metadata": {},
   "outputs": [],
   "source": [
    "from sklearn.feature_extraction.text import CountVectorizer, HashingVectorizer, TfidfVectorizer\n",
    "from sklearn.pipeline import make_pipeline\n",
    "from sklearn.preprocessing import StandardScaler\n",
    "from sklearn.linear_model import LogisticRegression\n",
    "from sklearn.svm import SVC\n",
    "from sklearn.metrics import accuracy_score\n",
    "from sklearn.preprocessing import LabelEncoder"
   ]
  },
  {
   "cell_type": "code",
   "execution_count": 45,
   "id": "2c119176",
   "metadata": {},
   "outputs": [
    {
     "data": {
      "text/plain": [
       "<pyconll.unit.conll.Conll at 0x175becc45c8>"
      ]
     },
     "execution_count": 45,
     "metadata": {},
     "output_type": "execute_result"
    }
   ],
   "source": [
    "train"
   ]
  },
  {
   "cell_type": "code",
   "execution_count": 46,
   "id": "7ac33854",
   "metadata": {},
   "outputs": [
    {
     "data": {
      "text/plain": [
       "<pyconll.unit.conll.Conll at 0x1773673d448>"
      ]
     },
     "execution_count": 46,
     "metadata": {},
     "output_type": "execute_result"
    }
   ],
   "source": [
    "train[:]"
   ]
  },
  {
   "cell_type": "code",
   "execution_count": 43,
   "id": "18e2d764",
   "metadata": {},
   "outputs": [
    {
     "ename": "AttributeError",
     "evalue": "'NoneType' object has no attribute 'lower'",
     "output_type": "error",
     "traceback": [
      "\u001b[1;31m---------------------------------------------------------------------------\u001b[0m",
      "\u001b[1;31mAttributeError\u001b[0m                            Traceback (most recent call last)",
      "\u001b[1;32mc:\\Temp/ipykernel_20088/1936991456.py\u001b[0m in \u001b[0;36m<module>\u001b[1;34m\u001b[0m\n\u001b[0;32m      2\u001b[0m \u001b[1;33m\u001b[0m\u001b[0m\n\u001b[0;32m      3\u001b[0m \u001b[1;32mfor\u001b[0m \u001b[0msentence\u001b[0m \u001b[1;32min\u001b[0m \u001b[0mtrain\u001b[0m\u001b[1;33m[\u001b[0m\u001b[1;33m:\u001b[0m\u001b[1;33m]\u001b[0m\u001b[1;33m:\u001b[0m\u001b[1;33m\u001b[0m\u001b[1;33m\u001b[0m\u001b[0m\n\u001b[1;32m----> 4\u001b[1;33m     \u001b[0mfdata_train\u001b[0m\u001b[1;33m.\u001b[0m\u001b[0mappend\u001b[0m\u001b[1;33m(\u001b[0m\u001b[1;33m[\u001b[0m\u001b[1;33m(\u001b[0m\u001b[0mtoken\u001b[0m\u001b[1;33m.\u001b[0m\u001b[0mform\u001b[0m\u001b[1;33m.\u001b[0m\u001b[0mlower\u001b[0m\u001b[1;33m(\u001b[0m\u001b[1;33m)\u001b[0m\u001b[1;33m,\u001b[0m \u001b[0mtoken\u001b[0m\u001b[1;33m.\u001b[0m\u001b[0mupos\u001b[0m\u001b[1;33m)\u001b[0m \u001b[1;32mfor\u001b[0m \u001b[0mtoken\u001b[0m \u001b[1;32min\u001b[0m \u001b[0msentence\u001b[0m\u001b[1;33m]\u001b[0m\u001b[1;33m)\u001b[0m\u001b[1;33m\u001b[0m\u001b[1;33m\u001b[0m\u001b[0m\n\u001b[0m\u001b[0;32m      5\u001b[0m \u001b[1;33m\u001b[0m\u001b[0m\n\u001b[0;32m      6\u001b[0m \u001b[1;33m\u001b[0m\u001b[0m\n",
      "\u001b[1;32mc:\\Temp/ipykernel_20088/1936991456.py\u001b[0m in \u001b[0;36m<listcomp>\u001b[1;34m(.0)\u001b[0m\n\u001b[0;32m      2\u001b[0m \u001b[1;33m\u001b[0m\u001b[0m\n\u001b[0;32m      3\u001b[0m \u001b[1;32mfor\u001b[0m \u001b[0msentence\u001b[0m \u001b[1;32min\u001b[0m \u001b[0mtrain\u001b[0m\u001b[1;33m[\u001b[0m\u001b[1;33m:\u001b[0m\u001b[1;33m]\u001b[0m\u001b[1;33m:\u001b[0m\u001b[1;33m\u001b[0m\u001b[1;33m\u001b[0m\u001b[0m\n\u001b[1;32m----> 4\u001b[1;33m     \u001b[0mfdata_train\u001b[0m\u001b[1;33m.\u001b[0m\u001b[0mappend\u001b[0m\u001b[1;33m(\u001b[0m\u001b[1;33m[\u001b[0m\u001b[1;33m(\u001b[0m\u001b[0mtoken\u001b[0m\u001b[1;33m.\u001b[0m\u001b[0mform\u001b[0m\u001b[1;33m.\u001b[0m\u001b[0mlower\u001b[0m\u001b[1;33m(\u001b[0m\u001b[1;33m)\u001b[0m\u001b[1;33m,\u001b[0m \u001b[0mtoken\u001b[0m\u001b[1;33m.\u001b[0m\u001b[0mupos\u001b[0m\u001b[1;33m)\u001b[0m \u001b[1;32mfor\u001b[0m \u001b[0mtoken\u001b[0m \u001b[1;32min\u001b[0m \u001b[0msentence\u001b[0m\u001b[1;33m]\u001b[0m\u001b[1;33m)\u001b[0m\u001b[1;33m\u001b[0m\u001b[1;33m\u001b[0m\u001b[0m\n\u001b[0m\u001b[0;32m      5\u001b[0m \u001b[1;33m\u001b[0m\u001b[0m\n\u001b[0;32m      6\u001b[0m \u001b[1;33m\u001b[0m\u001b[0m\n",
      "\u001b[1;31mAttributeError\u001b[0m: 'NoneType' object has no attribute 'lower'"
     ]
    }
   ],
   "source": [
    "fdata_train = []\n",
    "\n",
    "for sentence in train[:]:\n",
    "    fdata_train.append([(token.form.lower(), token.upos) for token in sentence])\n",
    "    \n",
    "\n"
   ]
  },
  {
   "cell_type": "code",
   "execution_count": 49,
   "id": "f95131fc",
   "metadata": {},
   "outputs": [
    {
     "ename": "AttributeError",
     "evalue": "'NoneType' object has no attribute 'lower'",
     "output_type": "error",
     "traceback": [
      "\u001b[1;31m---------------------------------------------------------------------------\u001b[0m",
      "\u001b[1;31mAttributeError\u001b[0m                            Traceback (most recent call last)",
      "\u001b[1;32mc:\\Temp/ipykernel_20088/3881290481.py\u001b[0m in \u001b[0;36m<module>\u001b[1;34m\u001b[0m\n\u001b[0;32m      2\u001b[0m \u001b[1;33m\u001b[0m\u001b[0m\n\u001b[0;32m      3\u001b[0m \u001b[1;32mfor\u001b[0m \u001b[0msentence\u001b[0m \u001b[1;32min\u001b[0m \u001b[0mtest\u001b[0m\u001b[1;33m[\u001b[0m\u001b[1;33m:\u001b[0m\u001b[1;33m]\u001b[0m\u001b[1;33m:\u001b[0m\u001b[1;33m\u001b[0m\u001b[1;33m\u001b[0m\u001b[0m\n\u001b[1;32m----> 4\u001b[1;33m     \u001b[0mfdata_test\u001b[0m\u001b[1;33m.\u001b[0m\u001b[0mappend\u001b[0m\u001b[1;33m(\u001b[0m\u001b[1;33m[\u001b[0m\u001b[1;33m(\u001b[0m\u001b[0mtoken\u001b[0m\u001b[1;33m.\u001b[0m\u001b[0mform\u001b[0m\u001b[1;33m.\u001b[0m\u001b[0mlower\u001b[0m\u001b[1;33m(\u001b[0m\u001b[1;33m)\u001b[0m\u001b[1;33m,\u001b[0m \u001b[0mtoken\u001b[0m\u001b[1;33m.\u001b[0m\u001b[0mupos\u001b[0m\u001b[1;33m)\u001b[0m \u001b[1;32mfor\u001b[0m \u001b[0mtoken\u001b[0m \u001b[1;32min\u001b[0m \u001b[0msentence\u001b[0m\u001b[1;33m]\u001b[0m\u001b[1;33m)\u001b[0m\u001b[1;33m\u001b[0m\u001b[1;33m\u001b[0m\u001b[0m\n\u001b[0m\u001b[0;32m      5\u001b[0m \u001b[1;33m\u001b[0m\u001b[0m\n\u001b[0;32m      6\u001b[0m \u001b[0mfdata_sent_train\u001b[0m \u001b[1;33m=\u001b[0m \u001b[1;33m[\u001b[0m\u001b[1;33m]\u001b[0m\u001b[1;33m\u001b[0m\u001b[1;33m\u001b[0m\u001b[0m\n",
      "\u001b[1;32mc:\\Temp/ipykernel_20088/3881290481.py\u001b[0m in \u001b[0;36m<listcomp>\u001b[1;34m(.0)\u001b[0m\n\u001b[0;32m      2\u001b[0m \u001b[1;33m\u001b[0m\u001b[0m\n\u001b[0;32m      3\u001b[0m \u001b[1;32mfor\u001b[0m \u001b[0msentence\u001b[0m \u001b[1;32min\u001b[0m \u001b[0mtest\u001b[0m\u001b[1;33m[\u001b[0m\u001b[1;33m:\u001b[0m\u001b[1;33m]\u001b[0m\u001b[1;33m:\u001b[0m\u001b[1;33m\u001b[0m\u001b[1;33m\u001b[0m\u001b[0m\n\u001b[1;32m----> 4\u001b[1;33m     \u001b[0mfdata_test\u001b[0m\u001b[1;33m.\u001b[0m\u001b[0mappend\u001b[0m\u001b[1;33m(\u001b[0m\u001b[1;33m[\u001b[0m\u001b[1;33m(\u001b[0m\u001b[0mtoken\u001b[0m\u001b[1;33m.\u001b[0m\u001b[0mform\u001b[0m\u001b[1;33m.\u001b[0m\u001b[0mlower\u001b[0m\u001b[1;33m(\u001b[0m\u001b[1;33m)\u001b[0m\u001b[1;33m,\u001b[0m \u001b[0mtoken\u001b[0m\u001b[1;33m.\u001b[0m\u001b[0mupos\u001b[0m\u001b[1;33m)\u001b[0m \u001b[1;32mfor\u001b[0m \u001b[0mtoken\u001b[0m \u001b[1;32min\u001b[0m \u001b[0msentence\u001b[0m\u001b[1;33m]\u001b[0m\u001b[1;33m)\u001b[0m\u001b[1;33m\u001b[0m\u001b[1;33m\u001b[0m\u001b[0m\n\u001b[0m\u001b[0;32m      5\u001b[0m \u001b[1;33m\u001b[0m\u001b[0m\n\u001b[0;32m      6\u001b[0m \u001b[0mfdata_sent_train\u001b[0m \u001b[1;33m=\u001b[0m \u001b[1;33m[\u001b[0m\u001b[1;33m]\u001b[0m\u001b[1;33m\u001b[0m\u001b[1;33m\u001b[0m\u001b[0m\n",
      "\u001b[1;31mAttributeError\u001b[0m: 'NoneType' object has no attribute 'lower'"
     ]
    }
   ],
   "source": [
    "fdata_test = []\n",
    "\n",
    "for sentence in test[:]:\n",
    "    fdata_test.append([(token.form.lower(), token.upos) for token in sentence])\n",
    "    \n",
    "fdata_sent_train = []\n",
    "for sentence in train[:]:\n",
    "    fdata_sent_train.append([token.form.lower() for token in sentence])\n",
    "    \n",
    "fdata_sent_test = []\n",
    "for sentence in test[:]:\n",
    "    fdata_sent_test.append([token.form.lower() for token in sentence])\n"
   ]
  },
  {
   "cell_type": "code",
   "execution_count": 50,
   "id": "309ea3bb",
   "metadata": {},
   "outputs": [
    {
     "data": {
      "text/plain": [
       "[('в', 'ADP'),\n",
       " ('марте', 'NOUN'),\n",
       " ('1942-го', 'ADJ'),\n",
       " ('тете', 'NOUN'),\n",
       " ('липе', 'PROPN'),\n",
       " ('дали', 'VERB'),\n",
       " ('разрешение', 'NOUN'),\n",
       " ('на', 'ADP'),\n",
       " ('выезд', 'NOUN'),\n",
       " ('в', 'ADP'),\n",
       " ('эвакуацию', 'NOUN'),\n",
       " ('с', 'ADP'),\n",
       " ('семьей', 'NOUN'),\n",
       " ('.', 'PUNCT')]"
      ]
     },
     "execution_count": 50,
     "metadata": {},
     "output_type": "execute_result"
    }
   ],
   "source": [
    "fdata_train[-1]"
   ]
  },
  {
   "cell_type": "code",
   "execution_count": 48,
   "id": "afa31fd3",
   "metadata": {},
   "outputs": [
    {
     "ename": "TypeError",
     "evalue": "object of type 'NoneType' has no len()",
     "output_type": "error",
     "traceback": [
      "\u001b[1;31m---------------------------------------------------------------------------\u001b[0m",
      "\u001b[1;31mTypeError\u001b[0m                                 Traceback (most recent call last)",
      "\u001b[1;32mc:\\Temp/ipykernel_20088/2483960407.py\u001b[0m in \u001b[0;36m<module>\u001b[1;34m\u001b[0m\n\u001b[0;32m      1\u001b[0m \u001b[0mMAX_SENT_LEN\u001b[0m \u001b[1;33m=\u001b[0m \u001b[0mmax\u001b[0m\u001b[1;33m(\u001b[0m\u001b[0mlen\u001b[0m\u001b[1;33m(\u001b[0m\u001b[0msentence\u001b[0m\u001b[1;33m)\u001b[0m \u001b[1;32mfor\u001b[0m \u001b[0msentence\u001b[0m \u001b[1;32min\u001b[0m \u001b[0mtrain\u001b[0m\u001b[1;33m)\u001b[0m\u001b[1;33m\u001b[0m\u001b[1;33m\u001b[0m\u001b[0m\n\u001b[1;32m----> 2\u001b[1;33m \u001b[0mMAX_ORIG_TOKEN_LEN\u001b[0m \u001b[1;33m=\u001b[0m \u001b[0mmax\u001b[0m\u001b[1;33m(\u001b[0m\u001b[0mlen\u001b[0m\u001b[1;33m(\u001b[0m\u001b[0mtoken\u001b[0m\u001b[1;33m.\u001b[0m\u001b[0mform\u001b[0m\u001b[1;33m)\u001b[0m \u001b[1;32mfor\u001b[0m \u001b[0msentence\u001b[0m \u001b[1;32min\u001b[0m \u001b[0mtrain\u001b[0m \u001b[1;32mfor\u001b[0m \u001b[0mtoken\u001b[0m \u001b[1;32min\u001b[0m \u001b[0msentence\u001b[0m\u001b[1;33m)\u001b[0m\u001b[1;33m\u001b[0m\u001b[1;33m\u001b[0m\u001b[0m\n\u001b[0m\u001b[0;32m      3\u001b[0m \u001b[0mprint\u001b[0m\u001b[1;33m(\u001b[0m\u001b[1;34m'Наибольшая длина предложения'\u001b[0m\u001b[1;33m,\u001b[0m \u001b[0mMAX_SENT_LEN\u001b[0m\u001b[1;33m)\u001b[0m\u001b[1;33m\u001b[0m\u001b[1;33m\u001b[0m\u001b[0m\n\u001b[0;32m      4\u001b[0m \u001b[0mprint\u001b[0m\u001b[1;33m(\u001b[0m\u001b[1;34m'Наибольшая длина токена'\u001b[0m\u001b[1;33m,\u001b[0m \u001b[0mMAX_ORIG_TOKEN_LEN\u001b[0m\u001b[1;33m)\u001b[0m\u001b[1;33m\u001b[0m\u001b[1;33m\u001b[0m\u001b[0m\n",
      "\u001b[1;32mc:\\Temp/ipykernel_20088/2483960407.py\u001b[0m in \u001b[0;36m<genexpr>\u001b[1;34m(.0)\u001b[0m\n\u001b[0;32m      1\u001b[0m \u001b[0mMAX_SENT_LEN\u001b[0m \u001b[1;33m=\u001b[0m \u001b[0mmax\u001b[0m\u001b[1;33m(\u001b[0m\u001b[0mlen\u001b[0m\u001b[1;33m(\u001b[0m\u001b[0msentence\u001b[0m\u001b[1;33m)\u001b[0m \u001b[1;32mfor\u001b[0m \u001b[0msentence\u001b[0m \u001b[1;32min\u001b[0m \u001b[0mtrain\u001b[0m\u001b[1;33m)\u001b[0m\u001b[1;33m\u001b[0m\u001b[1;33m\u001b[0m\u001b[0m\n\u001b[1;32m----> 2\u001b[1;33m \u001b[0mMAX_ORIG_TOKEN_LEN\u001b[0m \u001b[1;33m=\u001b[0m \u001b[0mmax\u001b[0m\u001b[1;33m(\u001b[0m\u001b[0mlen\u001b[0m\u001b[1;33m(\u001b[0m\u001b[0mtoken\u001b[0m\u001b[1;33m.\u001b[0m\u001b[0mform\u001b[0m\u001b[1;33m)\u001b[0m \u001b[1;32mfor\u001b[0m \u001b[0msentence\u001b[0m \u001b[1;32min\u001b[0m \u001b[0mtrain\u001b[0m \u001b[1;32mfor\u001b[0m \u001b[0mtoken\u001b[0m \u001b[1;32min\u001b[0m \u001b[0msentence\u001b[0m\u001b[1;33m)\u001b[0m\u001b[1;33m\u001b[0m\u001b[1;33m\u001b[0m\u001b[0m\n\u001b[0m\u001b[0;32m      3\u001b[0m \u001b[0mprint\u001b[0m\u001b[1;33m(\u001b[0m\u001b[1;34m'Наибольшая длина предложения'\u001b[0m\u001b[1;33m,\u001b[0m \u001b[0mMAX_SENT_LEN\u001b[0m\u001b[1;33m)\u001b[0m\u001b[1;33m\u001b[0m\u001b[1;33m\u001b[0m\u001b[0m\n\u001b[0;32m      4\u001b[0m \u001b[0mprint\u001b[0m\u001b[1;33m(\u001b[0m\u001b[1;34m'Наибольшая длина токена'\u001b[0m\u001b[1;33m,\u001b[0m \u001b[0mMAX_ORIG_TOKEN_LEN\u001b[0m\u001b[1;33m)\u001b[0m\u001b[1;33m\u001b[0m\u001b[1;33m\u001b[0m\u001b[0m\n",
      "\u001b[1;31mTypeError\u001b[0m: object of type 'NoneType' has no len()"
     ]
    }
   ],
   "source": [
    "MAX_SENT_LEN = max(len(sentence) for sentence in train)\n",
    "MAX_ORIG_TOKEN_LEN = max(len(token.form) for sentence in train for token in sentence)\n",
    "print('Наибольшая длина предложения', MAX_SENT_LEN)\n",
    "print('Наибольшая длина токена', MAX_ORIG_TOKEN_LEN)"
   ]
  },
  {
   "cell_type": "code",
   "execution_count": null,
   "id": "c01730c6",
   "metadata": {},
   "outputs": [],
   "source": []
  }
 ],
 "metadata": {
  "kernelspec": {
   "display_name": "Python 3 (ipykernel)",
   "language": "python",
   "name": "python3"
  },
  "language_info": {
   "codemirror_mode": {
    "name": "ipython",
    "version": 3
   },
   "file_extension": ".py",
   "mimetype": "text/x-python",
   "name": "python",
   "nbconvert_exporter": "python",
   "pygments_lexer": "ipython3",
   "version": "3.7.11"
  }
 },
 "nbformat": 4,
 "nbformat_minor": 5
}
