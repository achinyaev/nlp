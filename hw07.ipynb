{
 "cells": [
  {
   "cell_type": "markdown",
   "metadata": {
    "id": "V8FsvOED8UlF"
   },
   "source": [
    "# Нейросети в обработке текста\n",
    "\n",
    "Берем отызывы за лето (из архива с материалами или предыдущего занятия)\n",
    "1. Учим conv сеть для классификации\n",
    "2. Рассмотреть 2-а варианта сеточек\n",
    "2.1. Инициализировать tf.keras.layers.Embedding предобученными векторами взять к примеру с https://rusvectores.org/ru/\n",
    "2.2. Инициализировать слой tf.keras.layers.Embedding по умолчанию (ну то есть вам ничего не делать с весами)\n",
    "Сравнить две архитектуры с предобученными весами и когда tf.keras.layers.Embedding обучается сразу со всей сеточкой, что получилось лучше\n"
   ]
  },
  {
   "cell_type": "markdown",
   "metadata": {
    "id": "9eHK0K1Lw6nb"
   },
   "source": []
  },
  {
   "cell_type": "code",
   "execution_count": 1,
   "metadata": {
    "id": "2H5tFUEMCE7d"
   },
   "outputs": [
    {
     "name": "stderr",
     "output_type": "stream",
     "text": [
      "[nltk_data] Downloading package punkt to\n",
      "[nltk_data]     C:\\Users\\chinyaev.av\\AppData\\Roaming\\nltk_data...\n",
      "[nltk_data]   Package punkt is already up-to-date!\n"
     ]
    },
    {
     "data": {
      "text/plain": [
       "True"
      ]
     },
     "execution_count": 1,
     "metadata": {},
     "output_type": "execute_result"
    }
   ],
   "source": [
    "import pandas as pd\n",
    "import nltk\n",
    "from nltk.tokenize import word_tokenize\n",
    "from string import punctuation\n",
    "from stop_words import get_stop_words\n",
    "from pymorphy2 import MorphAnalyzer\n",
    "import re\n",
    "import numpy as np\n",
    "import keras\n",
    "import tensorflow as tf\n",
    "from keras.models import Sequential, Model\n",
    "from keras.layers import Dense, Dropout, Activation, Input, Embedding, Conv1D, GlobalMaxPool1D\n",
    "from keras.preprocessing.text import Tokenizer\n",
    "from keras_preprocessing.sequence import pad_sequences\n",
    "from keras.callbacks import TensorBoard \n",
    "from keras.callbacks import EarlyStopping  \n",
    "#from keras.objectives import categorical_crossentropy\n",
    "\n",
    "from keras.metrics import categorical_crossentropy\n",
    "\n",
    "from sklearn.feature_extraction.text import TfidfVectorizer\n",
    "from sklearn.linear_model import LogisticRegression\n",
    "from sklearn.metrics import accuracy_score \n",
    "\n",
    "from gensim.models import Word2Vec\n",
    "\n",
    "\n",
    "import tqdm\n",
    "\n",
    "nltk.download(\"punkt\")"
   ]
  },
  {
   "cell_type": "code",
   "execution_count": 2,
   "metadata": {},
   "outputs": [],
   "source": [
    "max_words = 200\n",
    "max_len = 40\n",
    "num_classes = 1\n",
    "\n",
    "# Training\n",
    "epochs = 20\n",
    "batch_size = 128\n",
    "print_batch_n = 100"
   ]
  },
  {
   "cell_type": "code",
   "execution_count": 3,
   "metadata": {
    "id": "LUCk-5M2yg3S"
   },
   "outputs": [],
   "source": [
    "df_train = pd.read_csv(\"imdb/train.tsv\",delimiter=\"\\t\",header=0)\n",
    "df_test = pd.read_csv(\"imdb/test.tsv\",delimiter=\"\\t\",header=0)\n",
    "df_val = df_test[:(len(df_test)//2)]\n",
    "df_test = df_test[(len(df_test)//2):]"
   ]
  },
  {
   "cell_type": "code",
   "execution_count": 4,
   "metadata": {
    "colab": {
     "base_uri": "https://localhost:8080/",
     "height": 204
    },
    "executionInfo": {
     "elapsed": 566,
     "status": "ok",
     "timestamp": 1590650140159,
     "user": {
      "displayName": "Roman Zakharov",
      "photoUrl": "",
      "userId": "18255168926005506833"
     },
     "user_tz": -240
    },
    "id": "KBSf-OfDzWOI",
    "outputId": "8b28d120-8490-44b3-cb86-6a1267ef1ad1"
   },
   "outputs": [
    {
     "data": {
      "text/html": [
       "<div>\n",
       "<style scoped>\n",
       "    .dataframe tbody tr th:only-of-type {\n",
       "        vertical-align: middle;\n",
       "    }\n",
       "\n",
       "    .dataframe tbody tr th {\n",
       "        vertical-align: top;\n",
       "    }\n",
       "\n",
       "    .dataframe thead th {\n",
       "        text-align: right;\n",
       "    }\n",
       "</style>\n",
       "<table border=\"1\" class=\"dataframe\">\n",
       "  <thead>\n",
       "    <tr style=\"text-align: right;\">\n",
       "      <th></th>\n",
       "      <th>is_positive</th>\n",
       "      <th>review</th>\n",
       "    </tr>\n",
       "  </thead>\n",
       "  <tbody>\n",
       "    <tr>\n",
       "      <th>0</th>\n",
       "      <td>0</td>\n",
       "      <td>Dreamgirls, despite its fistful of Tony wins i...</td>\n",
       "    </tr>\n",
       "    <tr>\n",
       "      <th>1</th>\n",
       "      <td>0</td>\n",
       "      <td>This show comes up with interesting locations ...</td>\n",
       "    </tr>\n",
       "    <tr>\n",
       "      <th>2</th>\n",
       "      <td>1</td>\n",
       "      <td>I simply love this movie. I also love the Ramo...</td>\n",
       "    </tr>\n",
       "    <tr>\n",
       "      <th>3</th>\n",
       "      <td>0</td>\n",
       "      <td>Spoilers ahead if you want to call them that.....</td>\n",
       "    </tr>\n",
       "    <tr>\n",
       "      <th>4</th>\n",
       "      <td>1</td>\n",
       "      <td>My all-time favorite movie! I have seen many m...</td>\n",
       "    </tr>\n",
       "  </tbody>\n",
       "</table>\n",
       "</div>"
      ],
      "text/plain": [
       "   is_positive                                             review\n",
       "0            0  Dreamgirls, despite its fistful of Tony wins i...\n",
       "1            0  This show comes up with interesting locations ...\n",
       "2            1  I simply love this movie. I also love the Ramo...\n",
       "3            0  Spoilers ahead if you want to call them that.....\n",
       "4            1  My all-time favorite movie! I have seen many m..."
      ]
     },
     "execution_count": 4,
     "metadata": {},
     "output_type": "execute_result"
    }
   ],
   "source": [
    "df_train.head()"
   ]
  },
  {
   "cell_type": "code",
   "execution_count": 5,
   "metadata": {
    "colab": {
     "base_uri": "https://localhost:8080/",
     "height": 204
    },
    "executionInfo": {
     "elapsed": 5908,
     "status": "ok",
     "timestamp": 1590650166113,
     "user": {
      "displayName": "Roman Zakharov",
      "photoUrl": "",
      "userId": "18255168926005506833"
     },
     "user_tz": -240
    },
    "id": "LuZtq9cwIvMt",
    "outputId": "91c8b4fb-a01b-4bbb-c3a9-2dc08922f193"
   },
   "outputs": [
    {
     "data": {
      "text/html": [
       "<div>\n",
       "<style scoped>\n",
       "    .dataframe tbody tr th:only-of-type {\n",
       "        vertical-align: middle;\n",
       "    }\n",
       "\n",
       "    .dataframe tbody tr th {\n",
       "        vertical-align: top;\n",
       "    }\n",
       "\n",
       "    .dataframe thead th {\n",
       "        text-align: right;\n",
       "    }\n",
       "</style>\n",
       "<table border=\"1\" class=\"dataframe\">\n",
       "  <thead>\n",
       "    <tr style=\"text-align: right;\">\n",
       "      <th></th>\n",
       "      <th>is_positive</th>\n",
       "      <th>review</th>\n",
       "    </tr>\n",
       "  </thead>\n",
       "  <tbody>\n",
       "    <tr>\n",
       "      <th>12500</th>\n",
       "      <td>1</td>\n",
       "      <td>This show came to Canada via PBS in the mid 90...</td>\n",
       "    </tr>\n",
       "    <tr>\n",
       "      <th>12501</th>\n",
       "      <td>0</td>\n",
       "      <td>Wow... just... wow. There are a lot of reviews...</td>\n",
       "    </tr>\n",
       "    <tr>\n",
       "      <th>12502</th>\n",
       "      <td>0</td>\n",
       "      <td>This movie is the worst thing ever created by ...</td>\n",
       "    </tr>\n",
       "    <tr>\n",
       "      <th>12503</th>\n",
       "      <td>0</td>\n",
       "      <td>I'm just throwing in this review to show that ...</td>\n",
       "    </tr>\n",
       "    <tr>\n",
       "      <th>12504</th>\n",
       "      <td>0</td>\n",
       "      <td>Okay,I had watched this movie when I was very ...</td>\n",
       "    </tr>\n",
       "  </tbody>\n",
       "</table>\n",
       "</div>"
      ],
      "text/plain": [
       "       is_positive                                             review\n",
       "12500            1  This show came to Canada via PBS in the mid 90...\n",
       "12501            0  Wow... just... wow. There are a lot of reviews...\n",
       "12502            0  This movie is the worst thing ever created by ...\n",
       "12503            0  I'm just throwing in this review to show that ...\n",
       "12504            0  Okay,I had watched this movie when I was very ..."
      ]
     },
     "execution_count": 5,
     "metadata": {},
     "output_type": "execute_result"
    }
   ],
   "source": [
    "df_test.head()"
   ]
  },
  {
   "cell_type": "code",
   "execution_count": 6,
   "metadata": {
    "colab": {
     "base_uri": "https://localhost:8080/",
     "height": 204
    },
    "executionInfo": {
     "elapsed": 625,
     "status": "ok",
     "timestamp": 1590650173083,
     "user": {
      "displayName": "Roman Zakharov",
      "photoUrl": "",
      "userId": "18255168926005506833"
     },
     "user_tz": -240
    },
    "id": "_9l0iHhaI0O1",
    "outputId": "4b7f24ee-222f-464b-e669-d653138571d1"
   },
   "outputs": [
    {
     "data": {
      "text/html": [
       "<div>\n",
       "<style scoped>\n",
       "    .dataframe tbody tr th:only-of-type {\n",
       "        vertical-align: middle;\n",
       "    }\n",
       "\n",
       "    .dataframe tbody tr th {\n",
       "        vertical-align: top;\n",
       "    }\n",
       "\n",
       "    .dataframe thead th {\n",
       "        text-align: right;\n",
       "    }\n",
       "</style>\n",
       "<table border=\"1\" class=\"dataframe\">\n",
       "  <thead>\n",
       "    <tr style=\"text-align: right;\">\n",
       "      <th></th>\n",
       "      <th>is_positive</th>\n",
       "      <th>review</th>\n",
       "    </tr>\n",
       "  </thead>\n",
       "  <tbody>\n",
       "    <tr>\n",
       "      <th>0</th>\n",
       "      <td>0</td>\n",
       "      <td>A formulaic story with all the tired cliches. ...</td>\n",
       "    </tr>\n",
       "    <tr>\n",
       "      <th>1</th>\n",
       "      <td>1</td>\n",
       "      <td>This is both an entertaining and a touching ve...</td>\n",
       "    </tr>\n",
       "    <tr>\n",
       "      <th>2</th>\n",
       "      <td>0</td>\n",
       "      <td>Corey Haim is never going to be known as one o...</td>\n",
       "    </tr>\n",
       "    <tr>\n",
       "      <th>3</th>\n",
       "      <td>1</td>\n",
       "      <td>If you believe that any given war movie can ma...</td>\n",
       "    </tr>\n",
       "    <tr>\n",
       "      <th>4</th>\n",
       "      <td>1</td>\n",
       "      <td>Carla Gugino literally melts the screen in thi...</td>\n",
       "    </tr>\n",
       "  </tbody>\n",
       "</table>\n",
       "</div>"
      ],
      "text/plain": [
       "   is_positive                                             review\n",
       "0            0  A formulaic story with all the tired cliches. ...\n",
       "1            1  This is both an entertaining and a touching ve...\n",
       "2            0  Corey Haim is never going to be known as one o...\n",
       "3            1  If you believe that any given war movie can ma...\n",
       "4            1  Carla Gugino literally melts the screen in thi..."
      ]
     },
     "execution_count": 6,
     "metadata": {},
     "output_type": "execute_result"
    }
   ],
   "source": [
    "df_val.head()"
   ]
  },
  {
   "cell_type": "markdown",
   "metadata": {
    "id": "qEyvOxoOJDTP"
   },
   "source": [
    "### Предобработка"
   ]
  },
  {
   "cell_type": "code",
   "execution_count": 7,
   "metadata": {
    "id": "VMnTsX0mMgY8"
   },
   "outputs": [],
   "source": [
    "sw = set(get_stop_words(\"en\"))\n",
    "sw = sw.union( {\"t\",'br','s'})\n",
    "exclude = set(punctuation)\n",
    "morpher = MorphAnalyzer()\n",
    "\n",
    "def preprocess_text(txt):\n",
    "    txt = str(txt).lower()\n",
    "    t=str('')\n",
    "    for c in txt:\n",
    "        if c not in exclude:\n",
    "            t = t+''.join(c)\n",
    "        else:\n",
    "            t = t+' '\n",
    "    txt = ''.join(t)\n",
    "    txt = re.sub(r'\\d+', '', txt)\n",
    "    txt = re.sub(\"\\sне\", \"не\", txt)\n",
    "    txt = [morpher.parse(word)[0].normal_form for word in txt.split() if word not in sw]\n",
    "    return \" \".join(txt)\n",
    "\n"
   ]
  },
  {
   "cell_type": "code",
   "execution_count": 8,
   "metadata": {},
   "outputs": [
    {
     "name": "stdout",
     "output_type": "stream",
     "text": [
      "Wall time: 1min 27s\n"
     ]
    }
   ],
   "source": [
    "%%time\n",
    "df_train['review'] = df_train['review'].apply(preprocess_text)"
   ]
  },
  {
   "cell_type": "code",
   "execution_count": 9,
   "metadata": {},
   "outputs": [
    {
     "data": {
      "text/plain": [
       "0        dreamgirls despite fistful tony wins incredibl...\n",
       "1        show comes interesting locations fast travel c...\n",
       "2        simply love movie also love ramones sorta bias...\n",
       "3        spoilers ahead want call almost recommend film...\n",
       "4        time favorite movie seen many movies one beats...\n",
       "                               ...                        \n",
       "24995    big fan movie usual reasons think travolta win...\n",
       "24996    m going bother plot synopsis since know movie ...\n",
       "24997    movie don know take indellible character pippi...\n",
       "24998    saw film dvd yesterday gob smacked flabbergast...\n",
       "24999    disappointment none nuance original brits just...\n",
       "Name: review, Length: 25000, dtype: object"
      ]
     },
     "execution_count": 9,
     "metadata": {},
     "output_type": "execute_result"
    }
   ],
   "source": [
    "df_train['review']"
   ]
  },
  {
   "cell_type": "code",
   "execution_count": 10,
   "metadata": {},
   "outputs": [
    {
     "name": "stdout",
     "output_type": "stream",
     "text": [
      "Wall time: 1min 25s\n"
     ]
    }
   ],
   "source": [
    "%%time\n",
    "df_val['review'] = df_val['review'].apply(preprocess_text)\n",
    "df_test['review'] = df_test['review'].apply(preprocess_text)"
   ]
  },
  {
   "cell_type": "code",
   "execution_count": 11,
   "metadata": {
    "id": "C4o9QgmWI3Pw"
   },
   "outputs": [
    {
     "name": "stdout",
     "output_type": "stream",
     "text": [
      "Wall time: 241 ms\n"
     ]
    }
   ],
   "source": [
    "%%time\n",
    "train_corpus = \" \".join(df_train[\"review\"])\n",
    "train_corpus = train_corpus.lower()"
   ]
  },
  {
   "cell_type": "code",
   "execution_count": 12,
   "metadata": {
    "colab": {
     "base_uri": "https://localhost:8080/",
     "height": 51
    },
    "executionInfo": {
     "elapsed": 10183,
     "status": "ok",
     "timestamp": 1590650264825,
     "user": {
      "displayName": "Roman Zakharov",
      "photoUrl": "",
      "userId": "18255168926005506833"
     },
     "user_tz": -240
    },
    "id": "Hed2ySbwJH6B",
    "outputId": "66a75988-b4e3-45aa-a483-adbdc766db03"
   },
   "outputs": [
    {
     "name": "stdout",
     "output_type": "stream",
     "text": [
      "Wall time: 10.4 s\n"
     ]
    }
   ],
   "source": [
    "%%time\n",
    "tokens = word_tokenize(train_corpus)"
   ]
  },
  {
   "cell_type": "markdown",
   "metadata": {
    "id": "yJ8T0fwYJYJX"
   },
   "source": [
    "Отфильтруем данные\n",
    "\n",
    "и соберём в корпус N наиболее частых токенов"
   ]
  },
  {
   "cell_type": "code",
   "execution_count": 13,
   "metadata": {
    "id": "EXOLVK1tJLT8"
   },
   "outputs": [],
   "source": [
    "tokens_filtered = [word for word in tokens if word.isalnum()]"
   ]
  },
  {
   "cell_type": "code",
   "execution_count": 14,
   "metadata": {
    "id": "8qCQH5nIJoiB"
   },
   "outputs": [],
   "source": [
    "from nltk.probability import FreqDist\n",
    "dist = FreqDist(tokens_filtered)\n",
    "tokens_filtered_top = [pair[0] for pair in dist.most_common(max_words-1)]"
   ]
  },
  {
   "cell_type": "code",
   "execution_count": 15,
   "metadata": {
    "colab": {
     "base_uri": "https://localhost:8080/",
     "height": 340
    },
    "executionInfo": {
     "elapsed": 576,
     "status": "ok",
     "timestamp": 1590650396521,
     "user": {
      "displayName": "Roman Zakharov",
      "photoUrl": "",
      "userId": "18255168926005506833"
     },
     "user_tz": -240
    },
    "id": "bRQ-6wwjJrGo",
    "outputId": "ba8ebf9e-c6aa-4703-b54f-39b561e33493"
   },
   "outputs": [
    {
     "data": {
      "text/plain": [
       "['movie',\n",
       " 'film',\n",
       " 'one',\n",
       " 'like',\n",
       " 'just',\n",
       " 'good',\n",
       " 'can',\n",
       " 'time',\n",
       " 'even',\n",
       " 'story']"
      ]
     },
     "execution_count": 15,
     "metadata": {},
     "output_type": "execute_result"
    }
   ],
   "source": [
    "tokens_filtered_top[:10]"
   ]
  },
  {
   "cell_type": "code",
   "execution_count": 16,
   "metadata": {
    "id": "Tdk777qGJtz4"
   },
   "outputs": [],
   "source": [
    "vocabulary = {v: k for k, v in dict(enumerate(tokens_filtered_top, 1)).items()}"
   ]
  },
  {
   "cell_type": "code",
   "execution_count": 17,
   "metadata": {},
   "outputs": [
    {
     "data": {
      "text/plain": [
       "{'movie': 1,\n",
       " 'film': 2,\n",
       " 'one': 3,\n",
       " 'like': 4,\n",
       " 'just': 5,\n",
       " 'good': 6,\n",
       " 'can': 7,\n",
       " 'time': 8,\n",
       " 'even': 9,\n",
       " 'story': 10,\n",
       " 'really': 11,\n",
       " 'see': 12,\n",
       " 'well': 13,\n",
       " 'much': 14,\n",
       " 'get': 15,\n",
       " 'bad': 16,\n",
       " 'people': 17,\n",
       " 'will': 18,\n",
       " 'also': 19,\n",
       " 'first': 20,\n",
       " 'great': 21,\n",
       " 'don': 22,\n",
       " 'made': 23,\n",
       " 'make': 24,\n",
       " 'way': 25,\n",
       " 'movies': 26,\n",
       " 'think': 27,\n",
       " 'characters': 28,\n",
       " 'character': 29,\n",
       " 'watch': 30,\n",
       " 'two': 31,\n",
       " 'films': 32,\n",
       " 'seen': 33,\n",
       " 'many': 34,\n",
       " 'life': 35,\n",
       " 'plot': 36,\n",
       " 'acting': 37,\n",
       " 'never': 38,\n",
       " 'love': 39,\n",
       " 'little': 40,\n",
       " 'best': 41,\n",
       " 'show': 42,\n",
       " 'know': 43,\n",
       " 'ever': 44,\n",
       " 'man': 45,\n",
       " 'better': 46,\n",
       " 'end': 47,\n",
       " 'still': 48,\n",
       " 'say': 49,\n",
       " 'scene': 50,\n",
       " 'scenes': 51,\n",
       " 'go': 52,\n",
       " 've': 53,\n",
       " 'something': 54,\n",
       " 'm': 55,\n",
       " 'back': 56,\n",
       " 'real': 57,\n",
       " 'watching': 58,\n",
       " 'now': 59,\n",
       " 'though': 60,\n",
       " 'doesn': 61,\n",
       " 'thing': 62,\n",
       " 'old': 63,\n",
       " 'years': 64,\n",
       " 're': 65,\n",
       " 'actors': 66,\n",
       " 'director': 67,\n",
       " 'work': 68,\n",
       " 'didn': 69,\n",
       " 'another': 70,\n",
       " 'new': 71,\n",
       " 'nothing': 72,\n",
       " 'funny': 73,\n",
       " 'actually': 74,\n",
       " 'makes': 75,\n",
       " 'look': 76,\n",
       " 'find': 77,\n",
       " 'going': 78,\n",
       " 'part': 79,\n",
       " 'lot': 80,\n",
       " 'every': 81,\n",
       " 'world': 82,\n",
       " 'cast': 83,\n",
       " 'us': 84,\n",
       " 'quite': 85,\n",
       " 'got': 86,\n",
       " 'want': 87,\n",
       " 'things': 88,\n",
       " 'pretty': 89,\n",
       " 'young': 90,\n",
       " 'seems': 91,\n",
       " 'around': 92,\n",
       " 'horror': 93,\n",
       " 'however': 94,\n",
       " 'fact': 95,\n",
       " 'take': 96,\n",
       " 'big': 97,\n",
       " 'enough': 98,\n",
       " 'long': 99,\n",
       " 'thought': 100,\n",
       " 'series': 101,\n",
       " 'may': 102,\n",
       " 'original': 103,\n",
       " 'give': 104,\n",
       " 'action': 105,\n",
       " 'right': 106,\n",
       " 'without': 107,\n",
       " 'must': 108,\n",
       " 'comedy': 109,\n",
       " 'always': 110,\n",
       " 'times': 111,\n",
       " 'point': 112,\n",
       " 'gets': 113,\n",
       " 'family': 114,\n",
       " 'come': 115,\n",
       " 'role': 116,\n",
       " 'isn': 117,\n",
       " 'saw': 118,\n",
       " 'almost': 119,\n",
       " 'd': 120,\n",
       " 'interesting': 121,\n",
       " 'least': 122,\n",
       " 'done': 123,\n",
       " 'whole': 124,\n",
       " 'music': 125,\n",
       " 'bit': 126,\n",
       " 'guy': 127,\n",
       " 'script': 128,\n",
       " 'far': 129,\n",
       " 'making': 130,\n",
       " 'minutes': 131,\n",
       " 'feel': 132,\n",
       " 'anything': 133,\n",
       " 'last': 134,\n",
       " 'might': 135,\n",
       " 'since': 136,\n",
       " 'll': 137,\n",
       " 'performance': 138,\n",
       " 'girl': 139,\n",
       " 'probably': 140,\n",
       " 'woman': 141,\n",
       " 'kind': 142,\n",
       " 'tv': 143,\n",
       " 'away': 144,\n",
       " 'yet': 145,\n",
       " 'day': 146,\n",
       " 'rather': 147,\n",
       " 'worst': 148,\n",
       " 'fun': 149,\n",
       " 'sure': 150,\n",
       " 'hard': 151,\n",
       " 'anyone': 152,\n",
       " 'played': 153,\n",
       " 'found': 154,\n",
       " 'especially': 155,\n",
       " 'although': 156,\n",
       " 'course': 157,\n",
       " 'believe': 158,\n",
       " 'screen': 159,\n",
       " 'comes': 160,\n",
       " 'looking': 161,\n",
       " 'trying': 162,\n",
       " 'set': 163,\n",
       " 'goes': 164,\n",
       " 'book': 165,\n",
       " 'looks': 166,\n",
       " 'place': 167,\n",
       " 'actor': 168,\n",
       " 'different': 169,\n",
       " 'put': 170,\n",
       " 'money': 171,\n",
       " 'year': 172,\n",
       " 'ending': 173,\n",
       " 'dvd': 174,\n",
       " 'let': 175,\n",
       " 'maybe': 176,\n",
       " 'someone': 177,\n",
       " 'true': 178,\n",
       " 'sense': 179,\n",
       " 'everything': 180,\n",
       " 'reason': 181,\n",
       " 'wasn': 182,\n",
       " 'shows': 183,\n",
       " 'three': 184,\n",
       " 'worth': 185,\n",
       " 'job': 186,\n",
       " 'main': 187,\n",
       " 'together': 188,\n",
       " 'play': 189,\n",
       " 'watched': 190,\n",
       " 'american': 191,\n",
       " 'everyone': 192,\n",
       " 'plays': 193,\n",
       " 'john': 194,\n",
       " 'effects': 195,\n",
       " 'later': 196,\n",
       " 'audience': 197,\n",
       " 'said': 198,\n",
       " 'takes': 199}"
      ]
     },
     "execution_count": 17,
     "metadata": {},
     "output_type": "execute_result"
    }
   ],
   "source": [
    "vocabulary"
   ]
  },
  {
   "cell_type": "code",
   "execution_count": 18,
   "metadata": {
    "id": "5OULZgvkJzpj"
   },
   "outputs": [],
   "source": [
    "def text_to_sequence(text, maxlen):\n",
    "    result = []\n",
    "    tokens = word_tokenize(text.lower())\n",
    "    tokens_filtered = [word for word in tokens if word.isalnum()]\n",
    "    for word in tokens_filtered:\n",
    "        if word in vocabulary:\n",
    "            result.append(vocabulary[word])\n",
    "    padding = [0]*(maxlen-len(result))\n",
    "    return padding + result[-maxlen:]"
   ]
  },
  {
   "cell_type": "code",
   "execution_count": 19,
   "metadata": {
    "id": "pqHlf5nNJ2hl"
   },
   "outputs": [],
   "source": [
    "x_train = np.asarray([text_to_sequence(text, max_len) for text in df_train[\"review\"]], dtype=np.int32)\n",
    "x_test = np.asarray([text_to_sequence(text, max_len) for text in df_test[\"review\"]], dtype=np.int32)\n",
    "x_val = np.asarray([text_to_sequence(text, max_len) for text in df_val[\"review\"]], dtype=np.int32)"
   ]
  },
  {
   "cell_type": "code",
   "execution_count": 20,
   "metadata": {
    "colab": {
     "base_uri": "https://localhost:8080/",
     "height": 34
    },
    "executionInfo": {
     "elapsed": 562,
     "status": "ok",
     "timestamp": 1590650625870,
     "user": {
      "displayName": "Roman Zakharov",
      "photoUrl": "",
      "userId": "18255168926005506833"
     },
     "user_tz": -240
    },
    "id": "lI4NUg_TJ6NK",
    "outputId": "5d29285d-6c2e-4c34-f307-c2e9c3c12631"
   },
   "outputs": [
    {
     "data": {
      "text/plain": [
       "(25000, 40)"
      ]
     },
     "execution_count": 20,
     "metadata": {},
     "output_type": "execute_result"
    }
   ],
   "source": [
    "x_train.shape"
   ]
  },
  {
   "cell_type": "code",
   "execution_count": 21,
   "metadata": {
    "id": "Qy2tdf9zMgY_",
    "outputId": "b75fdc47-40cf-4694-d710-12758a878d4c"
   },
   "outputs": [
    {
     "data": {
      "text/plain": [
       "40"
      ]
     },
     "execution_count": 21,
     "metadata": {},
     "output_type": "execute_result"
    }
   ],
   "source": [
    "max_len"
   ]
  },
  {
   "cell_type": "code",
   "execution_count": 22,
   "metadata": {
    "colab": {
     "base_uri": "https://localhost:8080/",
     "height": 170
    },
    "executionInfo": {
     "elapsed": 643,
     "status": "ok",
     "timestamp": 1590650628713,
     "user": {
      "displayName": "Roman Zakharov",
      "photoUrl": "",
      "userId": "18255168926005506833"
     },
     "user_tz": -240
    },
    "id": "9QlLvXd9KDf3",
    "outputId": "0355c6dc-b479-4031-bf7d-54f158607906"
   },
   "outputs": [
    {
     "data": {
      "text/plain": [
       "array([  2,  27,  21,   9,  60,   2,  24,  48,  10,  14,   4,  75,  97,\n",
       "         2,  75,  42,  84,  50, 139,  76, 136,  13, 115,  13,  37, 160,\n",
       "        85,   3,   2,  56, 192,   2, 157,  34,   2, 147,   2,  47, 133,\n",
       "         7])"
      ]
     },
     "execution_count": 22,
     "metadata": {},
     "output_type": "execute_result"
    }
   ],
   "source": [
    "x_train[0]"
   ]
  },
  {
   "cell_type": "code",
   "execution_count": 23,
   "metadata": {},
   "outputs": [
    {
     "name": "stdout",
     "output_type": "stream",
     "text": [
      "dca v0.3.4\n",
      "keras v2.4.3\n"
     ]
    },
    {
     "name": "stderr",
     "output_type": "stream",
     "text": [
      "C:\\Users\\chinyaev.av\\AppData\\Roaming\\Python\\Python37\\site-packages\\kopt\\config.py:60: YAMLLoadWarning: calling yaml.load() without Loader=... is deprecated, as the default Loader is unsafe. Please read https://msg.pyyaml.org/load for full details.\n",
      "  _config = yaml.load(open(_config_path))\n"
     ]
    }
   ],
   "source": [
    "import pkg_resources\n",
    "from dca.api import dca\n",
    "\n",
    "print(f\"dca v{pkg_resources.get_distribution('dca').version}\")\n",
    "print(f\"keras v{pkg_resources.get_distribution('keras').version}\")"
   ]
  },
  {
   "cell_type": "code",
   "execution_count": 24,
   "metadata": {},
   "outputs": [
    {
     "data": {
      "text/plain": [
       "'2.4.3'"
      ]
     },
     "execution_count": 24,
     "metadata": {},
     "output_type": "execute_result"
    }
   ],
   "source": [
    "\n",
    "keras.__version__"
   ]
  },
  {
   "cell_type": "markdown",
   "metadata": {
    "id": "xZkrNK8OMgZA"
   },
   "source": [
    "# Keras model"
   ]
  },
  {
   "cell_type": "code",
   "execution_count": 25,
   "metadata": {},
   "outputs": [
    {
     "data": {
      "text/plain": [
       "2"
      ]
     },
     "execution_count": 25,
     "metadata": {},
     "output_type": "execute_result"
    }
   ],
   "source": [
    "num_classes = len(df_train.is_positive.unique())\n",
    "num_classes"
   ]
  },
  {
   "cell_type": "code",
   "execution_count": 26,
   "metadata": {
    "id": "EetYhxVnMgZB"
   },
   "outputs": [],
   "source": [
    "y_train = keras.utils.to_categorical(df_train[\"is_positive\"], num_classes)\n",
    "y_val = keras.utils.to_categorical(df_val[\"is_positive\"], num_classes)"
   ]
  },
  {
   "cell_type": "code",
   "execution_count": 27,
   "metadata": {
    "id": "6Dt4YyrSMgZB"
   },
   "outputs": [],
   "source": [
    "model = Sequential()\n",
    "model.add(Embedding(input_dim=max_words, output_dim=128, input_length=max_len))\n",
    "model.add(Conv1D(128, 3))\n",
    "model.add(Activation(\"relu\"))\n",
    "model.add(GlobalMaxPool1D())\n",
    "model.add(Dense(10))\n",
    "model.add(Activation(\"relu\"))\n",
    "model.add(Dense(num_classes))\n",
    "model.add(Activation('softmax'))"
   ]
  },
  {
   "cell_type": "code",
   "execution_count": 28,
   "metadata": {
    "id": "nbMXaTTZMgZC"
   },
   "outputs": [],
   "source": [
    "model.compile(loss='categorical_crossentropy',\n",
    "              optimizer='adam',\n",
    "              metrics=['accuracy'])"
   ]
  },
  {
   "cell_type": "code",
   "execution_count": 29,
   "metadata": {
    "id": "yRisairjMgZC",
    "outputId": "a59a88d7-ac76-47ce-df1b-3a40b4441849"
   },
   "outputs": [
    {
     "name": "stdout",
     "output_type": "stream",
     "text": [
      "Epoch 1/20\n",
      "196/196 [==============================] - 7s 31ms/step - loss: 0.6292 - accuracy: 0.6508 - val_loss: 0.4940 - val_accuracy: 0.7588\n",
      "Epoch 2/20\n",
      "196/196 [==============================] - 5s 25ms/step - loss: 0.4803 - accuracy: 0.7713 - val_loss: 0.4821 - val_accuracy: 0.7632\n",
      "Epoch 3/20\n",
      "196/196 [==============================] - 5s 26ms/step - loss: 0.4383 - accuracy: 0.7970 - val_loss: 0.4744 - val_accuracy: 0.7694\n",
      "Epoch 4/20\n",
      "196/196 [==============================] - 5s 26ms/step - loss: 0.4066 - accuracy: 0.8143 - val_loss: 0.4763 - val_accuracy: 0.7722\n"
     ]
    }
   ],
   "source": [
    "tensorboard=TensorBoard(log_dir='./logs2', write_graph=True, write_images=True)\n",
    "early_stopping=EarlyStopping(monitor='val_loss')  \n",
    "\n",
    "\n",
    "history = model.fit(x_train, y_train,\n",
    "                    batch_size=batch_size,\n",
    "                    epochs=epochs,\n",
    "                    verbose=1,\n",
    "                    validation_data=(x_val, y_val),\n",
    "                    callbacks=[tensorboard, early_stopping])"
   ]
  },
  {
   "cell_type": "code",
   "execution_count": 30,
   "metadata": {},
   "outputs": [],
   "source": [
    "import matplotlib.pyplot as plt\n",
    "def plot_history(history):\n",
    "    plt.plot(history.history['accuracy'])\n",
    "    plt.plot(history.history['val_accuracy'])\n",
    "    plt.title('Model Accuracy')\n",
    "    plt.ylabel('accuracy')\n",
    "    plt.xlabel('epoch')\n",
    "    plt.legend(['train', 'val'], loc='lower right')\n",
    "    plt.show()"
   ]
  },
  {
   "cell_type": "code",
   "execution_count": 31,
   "metadata": {},
   "outputs": [
    {
     "data": {
      "image/png": "[encoded data removed]",
      "text/plain": [
       "<Figure size 432x288 with 1 Axes>"
      ]
     },
     "metadata": {
      "needs_background": "light"
     },
     "output_type": "display_data"
    }
   ],
   "source": [
    "plot_history(history)"
   ]
  },
  {
   "cell_type": "code",
   "execution_count": 32,
   "metadata": {
    "id": "gUQeNKRxMgZD",
    "outputId": "b189a6e5-6ff5-47d8-9ebe-e169e60a2268"
   },
   "outputs": [
    {
     "name": "stdout",
     "output_type": "stream",
     "text": [
      "98/98 [==============================] - 1s 6ms/step - loss: 0.4763 - accuracy: 0.7722\n",
      "\n",
      "\n",
      "Test score: 0.4763098955154419\n",
      "Test accuracy: 0.772159993648529\n"
     ]
    }
   ],
   "source": [
    "score = model.evaluate(x_val, y_val, batch_size=batch_size, verbose=1)\n",
    "print('\\n')\n",
    "print('Test score:', score[0])\n",
    "print('Test accuracy:', score[1])"
   ]
  },
  {
   "cell_type": "code",
   "execution_count": 33,
   "metadata": {
    "id": "VtIeszxWMgZE",
    "outputId": "704df51b-2579-435e-e992-8c417ccee41e"
   },
   "outputs": [
    {
     "name": "stdout",
     "output_type": "stream",
     "text": [
      "98/98 [==============================] - 1s 6ms/step\n"
     ]
    }
   ],
   "source": [
    "results = model.predict(x_test, batch_size=batch_size, verbose=1)"
   ]
  },
  {
   "cell_type": "code",
   "execution_count": null,
   "metadata": {
    "id": "cGYcklt2MgZE"
   },
   "outputs": [],
   "source": []
  },
  {
   "cell_type": "code",
   "execution_count": 34,
   "metadata": {
    "id": "H_E_NkzBMgZE"
   },
   "outputs": [],
   "source": [
    "vect = TfidfVectorizer(ngram_range=(1, 2), analyzer='word', lowercase=False)"
   ]
  },
  {
   "cell_type": "code",
   "execution_count": 35,
   "metadata": {
    "id": "Dg1vtQCLMgZF"
   },
   "outputs": [],
   "source": [
    "train_ft = vect.fit_transform(df_train['review'])\n",
    "valid_ft = vect.transform(df_val['review'])"
   ]
  },
  {
   "cell_type": "code",
   "execution_count": 36,
   "metadata": {
    "id": "Ab7EPlOuMgZF"
   },
   "outputs": [],
   "source": [
    "lgr = LogisticRegression(max_iter=1000)"
   ]
  },
  {
   "cell_type": "code",
   "execution_count": 37,
   "metadata": {
    "id": "lJup5g1FMgZF",
    "outputId": "816aa5d6-521b-4b78-925d-76fa0ba69253"
   },
   "outputs": [
    {
     "data": {
      "text/plain": [
       "LogisticRegression(max_iter=1000)"
      ]
     },
     "execution_count": 37,
     "metadata": {},
     "output_type": "execute_result"
    }
   ],
   "source": [
    "lgr.fit(train_ft, df_train['is_positive'].to_numpy())"
   ]
  },
  {
   "cell_type": "code",
   "execution_count": 38,
   "metadata": {
    "id": "ET5cYimuMgZG"
   },
   "outputs": [],
   "source": [
    "y_pred = lgr.predict(valid_ft)"
   ]
  },
  {
   "cell_type": "code",
   "execution_count": 39,
   "metadata": {
    "id": "jZ5aTLzsMgZG",
    "outputId": "a5d88771-e0b5-4a48-86df-add25fa07206"
   },
   "outputs": [
    {
     "data": {
      "text/plain": [
       "0.88016"
      ]
     },
     "execution_count": 39,
     "metadata": {},
     "output_type": "execute_result"
    }
   ],
   "source": [
    "accuracy_score(df_val['is_positive'].to_numpy(), y_pred)"
   ]
  },
  {
   "cell_type": "code",
   "execution_count": null,
   "metadata": {
    "id": "kFnpnj5_MgZG"
   },
   "outputs": [],
   "source": []
  },
  {
   "cell_type": "code",
   "execution_count": null,
   "metadata": {
    "id": "WX3QgjKmMgZG"
   },
   "outputs": [],
   "source": []
  },
  {
   "cell_type": "code",
   "execution_count": 40,
   "metadata": {
    "id": "sPiRG2tvMgZH",
    "outputId": "29829c0d-468c-4907-cf05-8ac262e00c68"
   },
   "outputs": [
    {
     "data": {
      "text/plain": [
       "0        dreamgirls despite fistful tony wins incredibl...\n",
       "1        show comes interesting locations fast travel c...\n",
       "2        simply love movie also love ramones sorta bias...\n",
       "3        spoilers ahead want call almost recommend film...\n",
       "4        time favorite movie seen many movies one beats...\n",
       "                               ...                        \n",
       "24995    big fan movie usual reasons think travolta win...\n",
       "24996    m going bother plot synopsis since know movie ...\n",
       "24997    movie don know take indellible character pippi...\n",
       "24998    saw film dvd yesterday gob smacked flabbergast...\n",
       "24999    disappointment none nuance original brits just...\n",
       "Name: review, Length: 25000, dtype: object"
      ]
     },
     "execution_count": 40,
     "metadata": {},
     "output_type": "execute_result"
    }
   ],
   "source": [
    "df_train['review']"
   ]
  },
  {
   "cell_type": "code",
   "execution_count": 41,
   "metadata": {
    "id": "eFB4RICGMgZH"
   },
   "outputs": [
    {
     "name": "stderr",
     "output_type": "stream",
     "text": [
      "2022-06-07 20:27:00,068 [INFO] collecting all words and their counts\n",
      "2022-06-07 20:27:00,069 [INFO] PROGRESS: at sentence #0, processed 0 words, keeping 0 word types\n",
      "2022-06-07 20:27:00,362 [INFO] PROGRESS: at sentence #10000, processed 1209068 words, keeping 50780 word types\n",
      "2022-06-07 20:27:00,643 [INFO] PROGRESS: at sentence #20000, processed 2442824 words, keeping 67453 word types\n",
      "2022-06-07 20:27:00,823 [INFO] collected 74047 word types from a corpus of 3066536 raw words and 25000 sentences\n",
      "2022-06-07 20:27:00,824 [INFO] Creating a fresh vocabulary\n",
      "2022-06-07 20:27:00,969 [INFO] Word2Vec lifecycle event {'msg': 'effective_min_count=5 retains 28652 unique words (38.69% of original 74047, drops 45395)', 'datetime': '2022-06-07T20:27:00.969601', 'gensim': '4.2.0', 'python': '3.7.11 (default, Jul 27 2021, 09:42:29) [MSC v.1916 64 bit (AMD64)]', 'platform': 'Windows-10-10.0.19041-SP0', 'event': 'prepare_vocab'}\n",
      "2022-06-07 20:27:00,970 [INFO] Word2Vec lifecycle event {'msg': 'effective_min_count=5 leaves 2991253 word corpus (97.55% of original 3066536, drops 75283)', 'datetime': '2022-06-07T20:27:00.970598', 'gensim': '4.2.0', 'python': '3.7.11 (default, Jul 27 2021, 09:42:29) [MSC v.1916 64 bit (AMD64)]', 'platform': 'Windows-10-10.0.19041-SP0', 'event': 'prepare_vocab'}\n",
      "2022-06-07 20:27:01,170 [INFO] deleting the raw counts dictionary of 74047 items\n",
      "2022-06-07 20:27:01,174 [INFO] sample=0.001 downsamples 25 most-common words\n",
      "2022-06-07 20:27:01,175 [INFO] Word2Vec lifecycle event {'msg': 'downsampling leaves estimated 2866168.958406277 word corpus (95.8%% of prior 2991253)', 'datetime': '2022-06-07T20:27:01.175057', 'gensim': '4.2.0', 'python': '3.7.11 (default, Jul 27 2021, 09:42:29) [MSC v.1916 64 bit (AMD64)]', 'platform': 'Windows-10-10.0.19041-SP0', 'event': 'prepare_vocab'}\n",
      "2022-06-07 20:27:01,516 [INFO] estimated required memory for 28652 words and 100 dimensions: 37247600 bytes\n",
      "2022-06-07 20:27:01,517 [INFO] resetting layer weights\n",
      "2022-06-07 20:27:01,537 [INFO] Word2Vec lifecycle event {'update': False, 'trim_rule': 'None', 'datetime': '2022-06-07T20:27:01.537097', 'gensim': '4.2.0', 'python': '3.7.11 (default, Jul 27 2021, 09:42:29) [MSC v.1916 64 bit (AMD64)]', 'platform': 'Windows-10-10.0.19041-SP0', 'event': 'build_vocab'}\n",
      "2022-06-07 20:27:01,538 [INFO] Word2Vec lifecycle event {'msg': 'training model with 8 workers on 28652 vocabulary and 100 features, using sg=0 hs=0 sample=0.001 negative=5 window=5 shrink_windows=True', 'datetime': '2022-06-07T20:27:01.538126', 'gensim': '4.2.0', 'python': '3.7.11 (default, Jul 27 2021, 09:42:29) [MSC v.1916 64 bit (AMD64)]', 'platform': 'Windows-10-10.0.19041-SP0', 'event': 'train'}\n",
      "2022-06-07 20:27:02,570 [INFO] EPOCH 0 - PROGRESS: at 42.90% examples, 1199530 words/s, in_qsize 15, out_qsize 0\n",
      "2022-06-07 20:27:03,584 [INFO] EPOCH 0 - PROGRESS: at 88.32% examples, 1247127 words/s, in_qsize 13, out_qsize 2\n",
      "2022-06-07 20:27:03,801 [INFO] EPOCH 0: training on 3066536 raw words (2866516 effective words) took 2.2s, 1278500 effective words/s\n",
      "2022-06-07 20:27:04,819 [INFO] EPOCH 1 - PROGRESS: at 42.52% examples, 1197286 words/s, in_qsize 14, out_qsize 1\n",
      "2022-06-07 20:27:05,826 [INFO] EPOCH 1 - PROGRESS: at 87.07% examples, 1236968 words/s, in_qsize 13, out_qsize 2\n",
      "2022-06-07 20:27:06,131 [INFO] EPOCH 1: training on 3066536 raw words (2866110 effective words) took 2.3s, 1236701 effective words/s\n",
      "2022-06-07 20:27:07,158 [INFO] EPOCH 2 - PROGRESS: at 45.13% examples, 1258546 words/s, in_qsize 14, out_qsize 1\n",
      "2022-06-07 20:27:08,178 [INFO] EPOCH 2 - PROGRESS: at 90.21% examples, 1268775 words/s, in_qsize 14, out_qsize 1\n",
      "2022-06-07 20:27:08,354 [INFO] EPOCH 2: training on 3066536 raw words (2865692 effective words) took 2.2s, 1295494 effective words/s\n",
      "2022-06-07 20:27:09,374 [INFO] EPOCH 3 - PROGRESS: at 46.99% examples, 1325808 words/s, in_qsize 15, out_qsize 0\n",
      "2022-06-07 20:27:10,384 [INFO] EPOCH 3 - PROGRESS: at 95.30% examples, 1354255 words/s, in_qsize 13, out_qsize 2\n",
      "2022-06-07 20:27:10,476 [INFO] EPOCH 3: training on 3066536 raw words (2866466 effective words) took 2.1s, 1360359 effective words/s\n",
      "2022-06-07 20:27:11,503 [INFO] EPOCH 4 - PROGRESS: at 47.03% examples, 1316554 words/s, in_qsize 13, out_qsize 2\n",
      "2022-06-07 20:27:12,505 [INFO] EPOCH 4 - PROGRESS: at 94.97% examples, 1351041 words/s, in_qsize 15, out_qsize 0\n",
      "2022-06-07 20:27:12,593 [INFO] EPOCH 4: training on 3066536 raw words (2866128 effective words) took 2.1s, 1362995 effective words/s\n",
      "2022-06-07 20:27:12,594 [INFO] Word2Vec lifecycle event {'msg': 'training on 15332680 raw words (14330912 effective words) took 11.1s, 1296193 effective words/s', 'datetime': '2022-06-07T20:27:12.594842', 'gensim': '4.2.0', 'python': '3.7.11 (default, Jul 27 2021, 09:42:29) [MSC v.1916 64 bit (AMD64)]', 'platform': 'Windows-10-10.0.19041-SP0', 'event': 'train'}\n",
      "2022-06-07 20:27:12,595 [INFO] Word2Vec lifecycle event {'params': 'Word2Vec<vocab=28652, vector_size=100, alpha=0.025>', 'datetime': '2022-06-07T20:27:12.595839', 'gensim': '4.2.0', 'python': '3.7.11 (default, Jul 27 2021, 09:42:29) [MSC v.1916 64 bit (AMD64)]', 'platform': 'Windows-10-10.0.19041-SP0', 'event': 'created'}\n"
     ]
    }
   ],
   "source": [
    "modelW2V = Word2Vec(sentences=df_train['review'].apply(str.split), vector_size=100, window=5, min_count=5, workers=8)"
   ]
  },
  {
   "cell_type": "code",
   "execution_count": 42,
   "metadata": {
    "id": "8n9xJi4vMgZH",
    "outputId": "8ecb4f91-00ac-41f5-e875-acd313e5ae90"
   },
   "outputs": [
    {
     "data": {
      "text/plain": [
       "<gensim.models.keyedvectors.KeyedVectors at 0x24a299bc648>"
      ]
     },
     "execution_count": 42,
     "metadata": {},
     "output_type": "execute_result"
    }
   ],
   "source": [
    "modelW2V.wv"
   ]
  },
  {
   "cell_type": "code",
   "execution_count": 43,
   "metadata": {
    "id": "QIxUX9d8MgZI"
   },
   "outputs": [],
   "source": [
    "vect_idf = TfidfVectorizer()\n",
    "vect_idf.fit_transform(df_train['review'])\n",
    "tfidf = dict(zip(vect_idf.get_feature_names_out(), vect_idf.idf_))"
   ]
  },
  {
   "cell_type": "code",
   "execution_count": 44,
   "metadata": {
    "id": "b_iYzXlRMgZI",
    "outputId": "5be3c323-17be-404f-b1e4-1b8869ea8638"
   },
   "outputs": [
    {
     "data": {
      "text/plain": [
       "{'aa': 9.334911633822305,\n",
       " 'aaa': 9.180760953995046,\n",
       " 'aaaaaaah': 10.433523922490414,\n",
       " 'aaaaah': 10.433523922490414,\n",
       " 'aaaaatch': 10.433523922490414,\n",
       " 'aaaahhhhhhh': 10.433523922490414,\n",
       " 'aaaand': 10.433523922490414,\n",
       " 'aaaarrgh': 10.433523922490414,\n",
       " 'aaah': 10.433523922490414,\n",
       " 'aaargh': 9.517233190616258,\n",
       " 'aaaugh': 10.433523922490414,\n",
       " 'aaawwwwnnn': 10.433523922490414,\n",
       " 'aachen': 10.433523922490414,\n",
       " 'aada': 10.433523922490414,\n",
       " 'aadha': 10.433523922490414,\n",
       " 'aag': 8.641764453262358,\n",
       " 'aage': 9.740376741930469,\n",
       " 'aaghh': 10.433523922490414,\n",
       " 'aah': 10.433523922490414,\n",
       " 'aahhh': 10.433523922490414,\n",
       " 'aaip': 10.433523922490414,\n",
       " 'aaja': 10.433523922490414,\n",
       " 'aakash': 10.433523922490414,\n",
       " 'aaker': 10.02805881438225,\n",
       " 'aakrosh': 10.433523922490414,\n",
       " 'aaliyah': 10.433523922490414,\n",
       " 'aames': 8.728775830251989,\n",
       " 'aamir': 9.334911633822305,\n",
       " 'aan': 10.02805881438225,\n",
       " 'aankh': 10.433523922490414,\n",
       " 'aankhen': 9.334911633822305,\n",
       " 'aap': 10.433523922490414,\n",
       " 'aapke': 9.517233190616258,\n",
       " 'aapkey': 10.433523922490414,\n",
       " 'aardman': 9.047229561370523,\n",
       " 'aardvarks': 10.433523922490414,\n",
       " 'aargh': 9.740376741930469,\n",
       " 'aaron': 7.99117688712121,\n",
       " 'aarp': 10.02805881438225,\n",
       " 'aarrrgh': 10.433523922490414,\n",
       " 'aatish': 9.740376741930469,\n",
       " 'aauugghh': 10.433523922490414,\n",
       " 'aavjo': 10.02805881438225,\n",
       " 'aaww': 10.433523922490414,\n",
       " 'ab': 8.728775830251989,\n",
       " 'aback': 8.824086010056313,\n",
       " 'abadi': 10.02805881438225,\n",
       " 'abahy': 10.433523922490414,\n",
       " 'abanazer': 10.433523922490414,\n",
       " 'abandon': 7.175427384468931,\n",
       " 'abandoned': 5.944887552758274,\n",
       " 'abandoning': 8.082148665326937,\n",
       " 'abandonment': 8.293457758994144,\n",
       " 'abandons': 8.354082380810578,\n",
       " 'abanks': 10.433523922490414,\n",
       " 'abas': 10.433523922490414,\n",
       " 'abashed': 10.02805881438225,\n",
       " 'abashidze': 10.433523922490414,\n",
       " 'abatement': 10.433523922490414,\n",
       " 'abating': 10.433523922490414,\n",
       " 'abattoirs': 10.433523922490414,\n",
       " 'abba': 10.433523922490414,\n",
       " 'abbad': 10.433523922490414,\n",
       " 'abbas': 8.728775830251989,\n",
       " 'abbasi': 10.433523922490414,\n",
       " 'abbey': 8.561721745588823,\n",
       " 'abbie': 10.02805881438225,\n",
       " 'abbot': 8.182232123883919,\n",
       " 'abbots': 10.02805881438225,\n",
       " 'abbott': 7.99117688712121,\n",
       " 'abbreviated': 9.180760953995046,\n",
       " 'abbu': 10.433523922490414,\n",
       " 'abby': 8.824086010056313,\n",
       " 'abc': 6.707830495253761,\n",
       " 'abcd': 10.433523922490414,\n",
       " 'abdic': 10.433523922490414,\n",
       " 'abdicates': 10.433523922490414,\n",
       " 'abdicating': 10.433523922490414,\n",
       " 'abdomen': 10.433523922490414,\n",
       " 'abdominal': 10.433523922490414,\n",
       " 'abdu': 10.433523922490414,\n",
       " 'abduct': 9.334911633822305,\n",
       " 'abducted': 7.725473721388203,\n",
       " 'abductee': 10.433523922490414,\n",
       " 'abducting': 9.740376741930469,\n",
       " 'abduction': 8.4876137734351,\n",
       " 'abductions': 10.433523922490414,\n",
       " 'abductor': 9.517233190616258,\n",
       " 'abductors': 10.433523922490414,\n",
       " 'abducts': 10.02805881438225,\n",
       " 'abdul': 9.740376741930469,\n",
       " 'abdullah': 10.433523922490414,\n",
       " 'abe': 7.99117688712121,\n",
       " 'abel': 8.824086010056313,\n",
       " 'abercrombie': 9.740376741930469,\n",
       " 'abernathy': 10.433523922490414,\n",
       " 'aberrant': 10.02805881438225,\n",
       " 'aberration': 9.740376741930469,\n",
       " 'aberrations': 10.433523922490414,\n",
       " 'aberystwyth': 10.433523922490414,\n",
       " 'abets': 10.433523922490414,\n",
       " 'abetted': 8.418620901948149,\n",
       " 'abetting': 10.433523922490414,\n",
       " 'abeyance': 10.433523922490414,\n",
       " 'abgail': 10.433523922490414,\n",
       " 'abhay': 8.641764453262358,\n",
       " 'abhays': 10.433523922490414,\n",
       " 'abhi': 10.02805881438225,\n",
       " 'abhijeet': 10.02805881438225,\n",
       " 'abhimaan': 10.433523922490414,\n",
       " 'abhisheh': 10.433523922490414,\n",
       " 'abhishek': 8.824086010056313,\n",
       " 'abhor': 10.02805881438225,\n",
       " 'abhorrence': 9.517233190616258,\n",
       " 'abhorrent': 8.293457758994144,\n",
       " 'abhors': 10.02805881438225,\n",
       " 'abi': 10.433523922490414,\n",
       " 'abide': 9.740376741930469,\n",
       " 'abides': 10.433523922490414,\n",
       " 'abiding': 7.948617272702413,\n",
       " 'abigail': 8.728775830251989,\n",
       " 'abigil': 10.433523922490414,\n",
       " 'abilities': 6.501698289766088,\n",
       " 'ability': 5.095985842789096,\n",
       " 'abilityof': 10.433523922490414,\n",
       " 'abishai': 10.433523922490414,\n",
       " 'abishek': 10.433523922490414,\n",
       " 'abject': 8.728775830251989,\n",
       " 'abjectly': 10.433523922490414,\n",
       " 'abkani': 10.433523922490414,\n",
       " 'ablaze': 9.740376741930469,\n",
       " 'able': 4.084384931110616,\n",
       " 'ably': 7.794466592875155,\n",
       " 'abm': 10.02805881438225,\n",
       " 'abner': 10.433523922490414,\n",
       " 'abnormal': 8.728775830251989,\n",
       " 'abnormality': 10.433523922490414,\n",
       " 'abnormally': 9.517233190616258,\n",
       " 'abo': 8.824086010056313,\n",
       " 'aboard': 7.489084943323974,\n",
       " 'abode': 9.334911633822305,\n",
       " 'abodes': 10.433523922490414,\n",
       " 'abolish': 10.02805881438225,\n",
       " 'abolished': 9.517233190616258,\n",
       " 'abolition': 9.740376741930469,\n",
       " 'abolitionism': 10.433523922490414,\n",
       " 'abolitionists': 10.02805881438225,\n",
       " 'abominable': 7.725473721388203,\n",
       " 'abominably': 9.740376741930469,\n",
       " 'abomination': 7.3890014847669905,\n",
       " 'abominations': 9.180760953995046,\n",
       " 'abominator': 10.433523922490414,\n",
       " 'abominibal': 10.433523922490414,\n",
       " 'aboooot': 10.433523922490414,\n",
       " 'aborigin': 10.433523922490414,\n",
       " 'aboriginal': 8.236299345154194,\n",
       " 'aboriginals': 9.517233190616258,\n",
       " 'aborigine': 9.047229561370523,\n",
       " 'aborigines': 8.824086010056313,\n",
       " 'aboriginies': 10.433523922490414,\n",
       " 'aborigins': 10.433523922490414,\n",
       " 'aborigone': 10.433523922490414,\n",
       " 'abort': 9.517233190616258,\n",
       " 'aborted': 8.035628649692043,\n",
       " 'aborting': 10.433523922490414,\n",
       " 'abortion': 7.600310578434198,\n",
       " 'abortionist': 10.433523922490414,\n",
       " 'abortionists': 10.02805881438225,\n",
       " 'abortions': 8.728775830251989,\n",
       " 'abortive': 9.740376741930469,\n",
       " 'aborts': 9.740376741930469,\n",
       " 'abos': 10.433523922490414,\n",
       " 'abott': 10.433523922490414,\n",
       " 'abound': 7.175427384468931,\n",
       " 'abounded': 10.433523922490414,\n",
       " 'abounding': 10.433523922490414,\n",
       " 'abounds': 8.728775830251989,\n",
       " 'about': 10.433523922490414,\n",
       " 'aboutagirly': 10.433523922490414,\n",
       " 'abouts': 10.433523922490414,\n",
       " 'abovementioned': 10.433523922490414,\n",
       " 'abracadabrantesque': 10.433523922490414,\n",
       " 'abraham': 6.983536376658827,\n",
       " 'abrahamic': 10.433523922490414,\n",
       " 'abrahams': 9.047229561370523,\n",
       " 'abrahms': 10.433523922490414,\n",
       " 'abrams': 9.517233190616258,\n",
       " 'abrasive': 8.561721745588823,\n",
       " 'abrasively': 10.433523922490414,\n",
       " 'abrazo': 10.433523922490414,\n",
       " 'abre': 9.517233190616258,\n",
       " 'abreast': 10.02805881438225,\n",
       " 'abridge': 10.433523922490414,\n",
       " 'abridged': 8.824086010056313,\n",
       " 'abril': 10.433523922490414,\n",
       " 'abroad': 7.5157531904061345,\n",
       " 'abromowitz': 10.433523922490414,\n",
       " 'abrupt': 6.822606009846189,\n",
       " 'abruptly': 6.999536718005268,\n",
       " 'abruptness': 9.740376741930469,\n",
       " 'abs': 9.334911633822305,\n",
       " 'absalom': 10.433523922490414,\n",
       " 'abscessed': 10.433523922490414,\n",
       " 'abscond': 10.02805881438225,\n",
       " 'absconded': 10.02805881438225,\n",
       " 'absconding': 10.02805881438225,\n",
       " 'absence': 6.417140901738025,\n",
       " 'absences': 10.02805881438225,\n",
       " 'absense': 10.433523922490414,\n",
       " 'absent': 6.719951855786106,\n",
       " 'absentee': 9.334911633822305,\n",
       " 'absentminded': 10.433523922490414,\n",
       " 'absentmindedly': 10.433523922490414,\n",
       " 'abskani': 10.433523922490414,\n",
       " 'absolom': 10.433523922490414,\n",
       " 'absolute': 5.312540571225293,\n",
       " 'absolutelly': 10.433523922490414,\n",
       " 'absolutely': 3.8939379668727443,\n",
       " 'absoluter': 10.433523922490414,\n",
       " 'absolutey': 10.433523922490414,\n",
       " 'absolution': 9.180760953995046,\n",
       " 'absolutlely': 10.433523922490414,\n",
       " 'absolutley': 9.517233190616258,\n",
       " 'absolutly': 9.334911633822305,\n",
       " 'absolve': 10.02805881438225,\n",
       " 'absolved': 9.740376741930469,\n",
       " 'absorb': 8.082148665326937,\n",
       " 'absorbed': 6.907163397874252,\n",
       " 'absorbent': 10.433523922490414,\n",
       " 'absorbing': 7.119337917817888,\n",
       " 'absorbs': 9.180760953995046,\n",
       " 'absorption': 9.180760953995046,\n",
       " 'absoulely': 10.433523922490414,\n",
       " 'absoutley': 10.433523922490414,\n",
       " 'abstain': 10.02805881438225,\n",
       " 'abstained': 10.433523922490414,\n",
       " 'abstains': 10.433523922490414,\n",
       " 'abstinence': 9.740376741930469,\n",
       " 'abstract': 7.543152164594249,\n",
       " 'abstracted': 10.433523922490414,\n",
       " 'abstraction': 9.517233190616258,\n",
       " 'abstractions': 9.180760953995046,\n",
       " 'absurd': 5.4847640321122455,\n",
       " 'absurder': 10.02805881438225,\n",
       " 'absurdism': 9.517233190616258,\n",
       " 'absurdist': 8.293457758994144,\n",
       " 'absurdities': 8.728775830251989,\n",
       " 'absurdity': 6.8925645984531,\n",
       " 'absurdly': 7.907795278182158,\n",
       " 'absurdness': 9.334911633822305,\n",
       " 'abt': 10.433523922490414,\n",
       " 'abu': 8.418620901948149,\n",
       " 'abuelita': 10.433523922490414,\n",
       " 'abunch': 10.433523922490414,\n",
       " 'abundance': 7.342481469132098,\n",
       " 'abundant': 7.99117688712121,\n",
       " 'abundantly': 9.047229561370523,\n",
       " 'abuse': 5.97337950855258,\n",
       " 'abused': 6.850004984034304,\n",
       " 'abuser': 9.334911633822305,\n",
       " 'abusers': 10.02805881438225,\n",
       " 'abuses': 8.92944652571414,\n",
       " 'abusing': 8.082148665326937,\n",
       " 'abusive': 6.684019846560043,\n",
       " 'abusively': 10.433523922490414,\n",
       " 'abut': 9.517233190616258,\n",
       " 'abutted': 10.433523922490414,\n",
       " 'abuzz': 10.02805881438225,\n",
       " 'abvious': 10.433523922490414,\n",
       " 'aby': 10.433523922490414,\n",
       " 'abydos': 10.02805881438225,\n",
       " 'abysmal': 6.5519601245469765,\n",
       " 'abysmally': 8.561721745588823,\n",
       " 'abyss': 8.182232123883919,\n",
       " 'abyssmal': 10.02805881438225,\n",
       " 'abysymal': 10.433523922490414,\n",
       " 'ac': 9.517233190616258,\n",
       " 'acadamy': 10.433523922490414,\n",
       " 'academe': 10.433523922490414,\n",
       " 'academia': 10.02805881438225,\n",
       " 'academic': 7.692683898565213,\n",
       " 'academically': 10.433523922490414,\n",
       " 'academics': 9.517233190616258,\n",
       " 'academies': 10.433523922490414,\n",
       " 'academy': 5.573711518128742,\n",
       " 'acadmey': 10.433523922490414,\n",
       " 'acapella': 10.02805881438225,\n",
       " 'acapulco': 9.740376741930469,\n",
       " 'acc': 10.02805881438225,\n",
       " 'accapella': 10.433523922490414,\n",
       " 'accede': 10.02805881438225,\n",
       " 'acceded': 10.433523922490414,\n",
       " 'accedes': 10.433523922490414,\n",
       " 'accelerant': 10.433523922490414,\n",
       " 'accelerate': 9.517233190616258,\n",
       " 'accelerated': 9.047229561370523,\n",
       " 'accelerating': 9.740376741930469,\n",
       " 'acceleration': 10.433523922490414,\n",
       " 'accelerator': 9.740376741930469,\n",
       " 'accent': 5.060563012946611,\n",
       " 'accented': 8.293457758994144,\n",
       " 'accents': 5.906315277972034,\n",
       " 'accentuate': 8.92944652571414,\n",
       " 'accentuated': 8.824086010056313,\n",
       " 'accentuates': 8.92944652571414,\n",
       " 'accentuating': 9.517233190616258,\n",
       " 'accentuation': 10.433523922490414,\n",
       " 'accept': 5.520869036754362,\n",
       " 'acceptable': 6.306389537445322,\n",
       " 'acceptably': 10.433523922490414,\n",
       " 'acceptance': 6.863991226009044,\n",
       " 'acceptation': 10.02805881438225,\n",
       " 'accepted': 6.214016217314307,\n",
       " 'acceptence': 10.433523922490414,\n",
       " 'accepting': 7.083619835215809,\n",
       " 'acception': 10.433523922490414,\n",
       " 'accepts': 6.863991226009044,\n",
       " 'accesible': 10.433523922490414,\n",
       " 'access': 6.6493342885721525,\n",
       " 'accessability': 10.433523922490414,\n",
       " 'accessed': 10.433523922490414,\n",
       " 'accessibility': 9.047229561370523,\n",
       " 'accessible': 7.015797238877048,\n",
       " 'accession': 10.433523922490414,\n",
       " 'accessories': 9.740376741930469,\n",
       " 'accessorizing': 10.433523922490414,\n",
       " 'accessory': 9.517233190616258,\n",
       " 'accidence': 10.433523922490414,\n",
       " 'accident': 5.4533478358788665,\n",
       " 'accidental': 7.276523501340301,\n",
       " 'accidentally': 5.863980914145474,\n",
       " 'accidentee': 10.433523922490414,\n",
       " 'accidently': 9.180760953995046,\n",
       " 'accidents': 8.130938829496369,\n",
       " 'acclaim': 7.437791648936423,\n",
       " 'acclaimed': 6.795937762764028,\n",
       " 'acclaims': 10.02805881438225,\n",
       " 'acclamation': 10.433523922490414,\n",
       " 'acclimate': 10.433523922490414,\n",
       " 'acclimation': 10.433523922490414,\n",
       " 'accolade': 9.180760953995046,\n",
       " 'accoladed': 10.433523922490414,\n",
       " 'accolades': 8.130938829496369,\n",
       " 'accommodate': 8.641764453262358,\n",
       " 'accommodated': 10.02805881438225,\n",
       " 'accommodates': 10.02805881438225,\n",
       " 'accommodating': 9.740376741930469,\n",
       " 'accommodation': 9.740376741930469,\n",
       " 'accommodations': 9.740376741930469,\n",
       " 'accompagnied': 10.433523922490414,\n",
       " 'accompanied': 6.63803473331822,\n",
       " 'accompanies': 7.99117688712121,\n",
       " 'accompaniment': 8.561721745588823,\n",
       " 'accompany': 7.725473721388203,\n",
       " 'accompanying': 7.298029706561264,\n",
       " 'accomplice': 7.948617272702413,\n",
       " 'accomplices': 9.334911633822305,\n",
       " 'accomplish': 6.836211661901968,\n",
       " 'accomplished': 6.322650058317103,\n",
       " 'accomplishes': 8.293457758994144,\n",
       " 'accomplishing': 9.180760953995046,\n",
       " 'accomplishment': 7.463109456920713,\n",
       " 'accomplishments': 8.728775830251989,\n",
       " 'accord': 9.517233190616258,\n",
       " 'accordance': 9.334911633822305,\n",
       " 'accorded': 9.517233190616258,\n",
       " 'accordian': 9.740376741930469,\n",
       " 'according': 5.467188887290738,\n",
       " 'accordingly': 8.182232123883919,\n",
       " 'accordion': 10.02805881438225,\n",
       " 'accords': 10.02805881438225,\n",
       " 'accorsi': 9.740376741930469,\n",
       " 'accost': 10.433523922490414,\n",
       " 'accosted': 9.517233190616258,\n",
       " 'accosts': 9.740376741930469,\n",
       " 'account': 5.979176626236906,\n",
       " 'accountability': 9.740376741930469,\n",
       " 'accountable': 9.047229561370523,\n",
       " 'accountancy': 10.433523922490414,\n",
       " 'accountant': 8.130938829496369,\n",
       " 'accountants': 9.740376741930469,\n",
       " 'accounted': 8.728775830251989,\n",
       " 'accounting': 8.824086010056313,\n",
       " 'accounts': 7.083619835215809,\n",
       " 'accouterments': 10.433523922490414,\n",
       " 'accredited': 10.433523922490414,\n",
       " 'accrued': 9.334911633822305,\n",
       " 'accrutements': 10.433523922490414,\n",
       " 'acct': 10.433523922490414,\n",
       " 'accumulate': 10.02805881438225,\n",
       " 'accumulated': 9.047229561370523,\n",
       " 'accumulates': 9.740376741930469,\n",
       " 'accumulating': 10.02805881438225,\n",
       " 'accumulation': 9.517233190616258,\n",
       " 'accumulator': 10.433523922490414,\n",
       " 'accuracies': 10.433523922490414,\n",
       " 'accuracy': 6.73222194837792,\n",
       " 'accurate': 5.550721999904043,\n",
       " 'accurately': 6.952283833154722,\n",
       " 'accursed': 10.433523922490414,\n",
       " 'accusation': 8.92944652571414,\n",
       " 'accusations': 7.868574565028877,\n",
       " 'accusatory': 10.02805881438225,\n",
       " 'accuse': 8.293457758994144,\n",
       " 'accused': 6.381738974687109,\n",
       " 'accuser': 9.740376741930469,\n",
       " 'accusers': 10.02805881438225,\n",
       " 'accuses': 8.293457758994144,\n",
       " 'accusing': 9.334911633822305,\n",
       " 'accustomed': 7.907795278182158,\n",
       " 'acd': 10.433523922490414,\n",
       " 'ace': 7.04913365914464,\n",
       " 'aced': 10.433523922490414,\n",
       " 'acedemy': 10.433523922490414,\n",
       " 'acedmy': 10.433523922490414,\n",
       " 'acerbic': 8.641764453262358,\n",
       " 'acerbity': 10.433523922490414,\n",
       " 'aces': 9.740376741930469,\n",
       " 'acetylene': 10.433523922490414,\n",
       " 'achad': 10.433523922490414,\n",
       " 'achala': 10.433523922490414,\n",
       " 'acharya': 8.92944652571414,\n",
       " 'achcha': 10.433523922490414,\n",
       " 'ache': 8.728775830251989,\n",
       " 'acheaology': 10.433523922490414,\n",
       " 'ached': 9.740376741930469,\n",
       " 'acheived': 10.433523922490414,\n",
       " 'achero': 10.433523922490414,\n",
       " 'achievable': 10.433523922490414,\n",
       " 'achieve': 6.002707123647101,\n",
       " 'achieved': 6.236321974828606,\n",
       " 'achieveing': 10.433523922490414,\n",
       " 'achievement': 6.3391793602683135,\n",
       " 'achievements': 7.32000861328004,\n",
       " 'achiever': 10.433523922490414,\n",
       " 'achievers': 10.02805881438225,\n",
       " 'achieves': 7.137687056486085,\n",
       " 'achieving': 7.660935200250632,\n",
       " 'achile': 10.433523922490414,\n",
       " 'achilleas': 10.02805881438225,\n",
       " 'achilles': 8.236299345154194,\n",
       " 'aching': 8.354082380810578,\n",
       " 'achingly': 8.035628649692043,\n",
       " 'achive': 10.433523922490414,\n",
       " 'achra': 10.433523922490414,\n",
       " 'achterbusch': 10.433523922490414,\n",
       " 'acid': 6.795937762764028,\n",
       " 'acidently': 10.433523922490414,\n",
       " 'acidic': 8.92944652571414,\n",
       " 'acidity': 10.02805881438225,\n",
       " 'acids': 10.433523922490414,\n",
       " 'acin': 10.433523922490414,\n",
       " 'acing': 10.433523922490414,\n",
       " 'aciton': 10.433523922490414,\n",
       " 'ack': 10.02805881438225,\n",
       " 'acker': 10.433523922490414,\n",
       " 'ackerman': 9.740376741930469,\n",
       " 'ackland': 8.293457758994144,\n",
       " 'acknowledge': 7.255470092142468,\n",
       " 'acknowledged': 7.600310578434198,\n",
       " 'acknowledgement': 8.824086010056313,\n",
       " 'acknowledgements': 10.433523922490414,\n",
       " 'acknowledges': 8.728775830251989,\n",
       " 'acknowledging': 9.334911633822305,\n",
       " 'acknowledgment': 9.740376741930469,\n",
       " 'acknowledgments': 10.433523922490414,\n",
       " 'ackroyd': 9.180760953995046,\n",
       " 'acl': 10.433523922490414,\n",
       " 'aclear': 10.433523922490414,\n",
       " 'aclu': 10.02805881438225,\n",
       " 'acme': 9.334911633822305,\n",
       " 'acmetropolis': 10.433523922490414,\n",
       " 'acne': 9.517233190616258,\n",
       " 'acolyte': 9.740376741930469,\n",
       " 'acolytes': 10.02805881438225,\n",
       " 'acomplication': 10.433523922490414,\n",
       " 'acorn': 9.334911633822305,\n",
       " 'acorns': 10.433523922490414,\n",
       " 'acosta': 9.740376741930469,\n",
       " 'acoustic': 9.047229561370523,\n",
       " 'acoustics': 10.02805881438225,\n",
       " 'acp': 10.02805881438225,\n",
       " 'acquaint': 10.433523922490414,\n",
       " 'acquaintaces': 10.433523922490414,\n",
       " 'acquaintance': 7.948617272702413,\n",
       " 'acquaintances': 8.035628649692043,\n",
       " 'acquainted': 7.83083423704603,\n",
       " 'acquaints': 10.433523922490414,\n",
       " 'acquart': 9.334911633822305,\n",
       " 'acquiesce': 10.433523922490414,\n",
       " 'acquiescence': 10.02805881438225,\n",
       " 'acquire': 7.692683898565213,\n",
       " 'acquired': 7.156379189498237,\n",
       " 'acquires': 9.180760953995046,\n",
       " 'acquiring': 9.047229561370523,\n",
       " 'acquisition': 10.02805881438225,\n",
       " 'acquit': 8.641764453262358,\n",
       " 'acquitane': 10.433523922490414,\n",
       " 'acquits': 8.92944652571414,\n",
       " 'acquittal': 9.740376741930469,\n",
       " 'acquitted': 8.824086010056313,\n",
       " 'acre': 9.517233190616258,\n",
       " 'acres': 8.728775830251989,\n",
       " 'acrid': 10.02805881438225,\n",
       " 'acrimonious': 10.02805881438225,\n",
       " 'acrimony': 10.433523922490414,\n",
       " 'acrobat': 9.334911633822305,\n",
       " 'acrobatic': 8.728775830251989,\n",
       " 'acrobatics': 8.418620901948149,\n",
       " 'acronym': 10.02805881438225,\n",
       " 'acronymic': 10.433523922490414,\n",
       " 'acropolis': 10.433523922490414,\n",
       " 'across': 4.33208452217386,\n",
       " 'acs': 10.433523922490414,\n",
       " 'act': 4.150323032602611,\n",
       " 'actally': 10.433523922490414,\n",
       " 'acted': 4.663641646129689,\n",
       " 'actelone': 10.433523922490414,\n",
       " 'actess': 10.433523922490414,\n",
       " 'acteurs': 10.02805881438225,\n",
       " 'actin': 10.433523922490414,\n",
       " 'acting': 2.5392058586487902,\n",
       " 'actingjob': 10.433523922490414,\n",
       " 'actings': 10.433523922490414,\n",
       " 'actingwise': 10.433523922490414,\n",
       " 'actio': 10.433523922490414,\n",
       " 'action': 3.382534475422369,\n",
       " 'actiona': 10.433523922490414,\n",
       " 'actioned': 10.433523922490414,\n",
       " 'actioneer': 10.433523922490414,\n",
       " 'actioneers': 10.433523922490414,\n",
       " 'actioner': 8.182232123883919,\n",
       " 'actioners': 9.180760953995046,\n",
       " 'actionless': 10.433523922490414,\n",
       " 'actionmovie': 10.433523922490414,\n",
       " 'actionpacked': 10.02805881438225,\n",
       " 'actions': 5.481224205407122,\n",
       " 'actionscenes': 10.02805881438225,\n",
       " 'activate': 10.02805881438225,\n",
       " 'activated': 9.517233190616258,\n",
       " 'activates': 9.517233190616258,\n",
       " 'activating': 10.02805881438225,\n",
       " 'active': 6.822606009846189,\n",
       " 'actively': 7.907795278182158,\n",
       " 'actives': 10.433523922490414,\n",
       " 'activest': 10.433523922490414,\n",
       " 'activision': 10.433523922490414,\n",
       " 'activism': 9.047229561370523,\n",
       " 'activist': 7.907795278182158,\n",
       " 'activists': 8.4876137734351,\n",
       " 'activities': 6.795937762764028,\n",
       " 'activity': 7.015797238877048,\n",
       " 'actor': 3.5388538830569325,\n",
       " 'actores': 10.433523922490414,\n",
       " 'actors': 2.9318894646070004,\n",
       " 'actra': 10.433523922490414,\n",
       " 'actreesess': 10.433523922490414,\n",
       " 'actress': 4.165375057140192,\n",
       " 'actresses': 5.309559943087155,\n",
       " 'actriss': 10.433523922490414,\n",
       " 'acts': 5.202415305635827,\n",
       " 'actual': 4.564227009356639,\n",
       " 'actualities': 10.02805881438225,\n",
       " 'actuality': 7.759375273063885,\n",
       " 'actualization': 10.433523922490414,\n",
       " 'actualize': 10.433523922490414,\n",
       " 'actuall': 10.433523922490414,\n",
       " 'actually': 2.982282237502738,\n",
       " 'actualy': 9.517233190616258,\n",
       " 'actuelly': 10.433523922490414,\n",
       " 'actullly': 10.433523922490414,\n",
       " 'acturly': 10.433523922490414,\n",
       " 'acual': 10.433523922490414,\n",
       " 'acually': 10.433523922490414,\n",
       " 'acuity': 10.02805881438225,\n",
       " 'acumen': 9.740376741930469,\n",
       " 'acupat': 10.433523922490414,\n",
       " 'acurately': 10.433523922490414,\n",
       " 'acus': 10.02805881438225,\n",
       " 'acute': 8.824086010056313,\n",
       " 'acutely': 8.824086010056313,\n",
       " 'ad': 6.206690177222234,\n",
       " 'ada': 8.418620901948149,\n",
       " 'adabted': 10.433523922490414,\n",
       " 'adachi': 10.433523922490414,\n",
       " 'adage': 9.180760953995046,\n",
       " 'adagio': 10.433523922490414,\n",
       " 'adair': 10.02805881438225,\n",
       " 'adalbert': 10.433523922490414,\n",
       " 'adam': 5.8743976750037294,\n",
       " 'adama': 8.561721745588823,\n",
       " 'adamant': 8.92944652571414,\n",
       " 'adamantium': 9.740376741930469,\n",
       " 'adamantly': 9.334911633822305,\n",
       " 'adames': 10.433523922490414,\n",
       " 'adamos': 10.433523922490414,\n",
       " 'adams': 6.822606009846189,\n",
       " 'adamson': 9.047229561370523,\n",
       " 'adapt': 7.3890014847669905,\n",
       " 'adaptable': 9.740376741930469,\n",
       " 'adaptaion': 10.02805881438225,\n",
       " 'adaptation': 5.224037769648993,\n",
       " 'adaptations': 6.822606009846189,\n",
       " 'adapted': 6.1227247971049,\n",
       " 'adapter': 9.334911633822305,\n",
       " 'adapters': 10.433523922490414,\n",
       " 'adapting': 7.692683898565213,\n",
       " 'adaption': 7.3654709873567965,\n",
       " 'adaptions': 9.740376741930469,\n",
       " 'adaptor': 10.433523922490414,\n",
       " 'adapts': 9.180760953995046,\n",
       " 'adcox': 10.433523922490414,\n",
       " 'add': 4.467377183366722,\n",
       " 'addam': 10.433523922490414,\n",
       " 'addams': 9.740376741930469,\n",
       " 'addario': 10.433523922490414,\n",
       " 'added': 5.081665789014347,\n",
       " 'addendum': 9.180760953995046,\n",
       " 'adder': 9.740376741930469,\n",
       " 'addict': 7.175427384468931,\n",
       " 'addicted': 6.850004984034304,\n",
       " 'addicting': 9.740376741930469,\n",
       " 'addiction': 7.276523501340301,\n",
       " 'addictions': 8.561721745588823,\n",
       " 'addictive': 7.907795278182158,\n",
       " 'addicts': 8.236299345154194,\n",
       " 'adding': 6.020725629149778,\n",
       " 'addio': 10.433523922490414,\n",
       " 'addison': 9.047229561370523,\n",
       " 'addition': 5.312540571225293,\n",
       " 'additional': 6.822606009846189,\n",
       " 'additionally': 7.194845470326033,\n",
       " 'additions': 7.99117688712121,\n",
       " 'additive': 10.433523922490414,\n",
       " 'additives': 10.433523922490414,\n",
       " 'addled': 8.561721745588823,\n",
       " 'addons': 10.433523922490414,\n",
       " 'address': 6.863991226009044,\n",
       " 'addressed': 7.255470092142468,\n",
       " 'addresses': 7.660935200250632,\n",
       " 'addressing': 7.660935200250632,\n",
       " 'adds': 5.3583501072565864,\n",
       " 'addy': 8.92944652571414,\n",
       " 'adela': 9.740376741930469,\n",
       " 'adelade': 10.433523922490414,\n",
       " 'adelaide': 8.354082380810578,\n",
       " 'adele': 8.182232123883919,\n",
       " 'adelin': 10.433523922490414,\n",
       " 'adeline': 10.433523922490414,\n",
       " 'adell': 10.433523922490414,\n",
       " 'adelle': 10.02805881438225,\n",
       " 'ademir': 10.433523922490414,\n",
       " 'aden': 10.433523922490414,\n",
       " 'adenine': 10.433523922490414,\n",
       " 'adenoidal': 10.433523922490414,\n",
       " 'adept': 7.83083423704603,\n",
       " 'adeptly': 8.92944652571414,\n",
       " 'adeptness': 10.433523922490414,\n",
       " 'adequate': 6.408172231755264,\n",
       " 'adequately': 7.571323041560945,\n",
       " 'adgth': 10.02805881438225,\n",
       " 'adhd': 9.740376741930469,\n",
       " 'adhere': 9.517233190616258,\n",
       " 'adhered': 10.02805881438225,\n",
       " 'adherence': 8.92944652571414,\n",
       " 'adherent': 10.433523922490414,\n",
       " 'adherents': 9.740376741930469,\n",
       " 'adheres': 9.334911633822305,\n",
       " 'adhering': 9.740376741930469,\n",
       " 'adhesive': 10.02805881438225,\n",
       " 'adhura': 10.433523922490414,\n",
       " 'adi': 10.433523922490414,\n",
       " 'adibah': 10.433523922490414,\n",
       " 'adien': 10.433523922490414,\n",
       " 'adieu': 9.180760953995046,\n",
       " 'adios': 10.02805881438225,\n",
       " 'aditiya': 10.433523922490414,\n",
       " 'aditya': 8.824086010056313,\n",
       " 'adj': 10.433523922490414,\n",
       " 'adjacent': 8.824086010056313,\n",
       " 'adjani': 8.728775830251989,\n",
       " 'adjective': 8.4876137734351,\n",
       " 'adjectives': 9.334911633822305,\n",
       " 'adjoining': 9.517233190616258,\n",
       " 'adjournment': 10.433523922490414,\n",
       " 'adjunct': 10.433523922490414,\n",
       " 'adjuncts': 10.433523922490414,\n",
       " 'adjurdubois': 10.433523922490414,\n",
       " 'adjust': 7.99117688712121,\n",
       " 'adjusted': 8.641764453262358,\n",
       " 'adjuster': 10.433523922490414,\n",
       " 'adjustin': 10.433523922490414,\n",
       " 'adjusting': 8.92944652571414,\n",
       " 'adjustment': 8.824086010056313,\n",
       " 'adjustments': 9.334911633822305,\n",
       " 'adjusts': 9.740376741930469,\n",
       " 'adjutant': 10.433523922490414,\n",
       " 'adkins': 10.433523922490414,\n",
       " 'adlai': 10.433523922490414,\n",
       " 'adle': 10.433523922490414,\n",
       " 'adler': 9.517233190616258,\n",
       " 'adm': 10.433523922490414,\n",
       " 'adma': 10.433523922490414,\n",
       " 'adman': 10.02805881438225,\n",
       " 'admarible': 10.433523922490414,\n",
       " 'administer': 10.02805881438225,\n",
       " 'administered': 9.334911633822305,\n",
       " 'administering': 10.433523922490414,\n",
       " 'administration': 7.630163541583879,\n",
       " 'administrations': 10.433523922490414,\n",
       " 'administrative': 9.517233190616258,\n",
       " 'administrator': 9.517233190616258,\n",
       " 'administrators': 9.517233190616258,\n",
       " 'adminsitrative': 10.433523922490414,\n",
       " 'admira': 10.433523922490414,\n",
       " 'admirable': 6.878175861001,\n",
       " 'admirably': 7.600310578434198,\n",
       " 'admiral': 8.561721745588823,\n",
       " 'admirals': 10.433523922490414,\n",
       " 'admiralty': 10.433523922490414,\n",
       " 'admiration': 7.3890014847669905,\n",
       " 'admire': 6.373080911943995,\n",
       " 'admired': 7.10131941231521,\n",
       " 'admirees': 10.433523922490414,\n",
       " 'admirer': 7.489084943323974,\n",
       " 'admirers': 7.907795278182158,\n",
       " 'admires': 8.354082380810578,\n",
       " 'admiring': 8.236299345154194,\n",
       " 'admissible': 10.433523922490414,\n",
       " 'admission': 7.32000861328004,\n",
       " 'admit': 4.748244919398772,\n",
       " 'admitedly': 10.433523922490414,\n",
       " 'admits': 7.298029706561264,\n",
       " 'admitt': 10.433523922490414,\n",
       " 'admittadly': 10.433523922490414,\n",
       " 'admittance': 9.334911633822305,\n",
       " 'admitted': 7.156379189498237,\n",
       " 'admittedly': 6.228831303099447,\n",
       " 'admitting': 8.130938829496369,\n",
       " 'admittingly': 10.02805881438225,\n",
       " 'admixtures': 10.433523922490414,\n",
       " 'admonish': 10.433523922490414,\n",
       " 'admonishes': 10.433523922490414,\n",
       " 'admonishing': 9.740376741930469,\n",
       " 'admonition': 10.433523922490414,\n",
       " 'adnan': 10.433523922490414,\n",
       " 'adnausem': 10.433523922490414,\n",
       " 'ado': 8.561721745588823,\n",
       " 'adobe': 9.740376741930469,\n",
       " 'adolescence': 8.182232123883919,\n",
       " 'adolescent': 6.850004984034304,\n",
       " 'adolescents': 8.182232123883919,\n",
       " 'adolf': 8.082148665326937,\n",
       " 'adolfo': 10.433523922490414,\n",
       " 'adolph': 8.641764453262358,\n",
       " 'adolphe': 10.433523922490414,\n",
       " 'adolphs': 10.433523922490414,\n",
       " 'adone': 10.433523922490414,\n",
       " 'adonis': 10.433523922490414,\n",
       " 'adopt': 7.692683898565213,\n",
       " 'adopted': 6.8925645984531,\n",
       " 'adoptee': 10.433523922490414,\n",
       " 'adoptees': 10.433523922490414,\n",
       " 'adopter': 10.433523922490414,\n",
       " 'adopting': 8.824086010056313,\n",
       " 'adoption': 8.418620901948149,\n",
       " 'adoptive': 9.047229561370523,\n",
       " 'adopts': 8.035628649692043,\n",
       " 'adorable': 6.5115505862091,\n",
       " 'adorably': 9.740376741930469,\n",
       " 'adoration': 8.561721745588823,\n",
       " 'adorble': 10.433523922490414,\n",
       " 'adore': 7.04913365914464,\n",
       " 'adored': 7.692683898565213,\n",
       " 'adoree': 9.740376741930469,\n",
       " 'adores': 8.92944652571414,\n",
       " 'adorible': 10.433523922490414,\n",
       " 'adoring': 8.561721745588823,\n",
       " 'adoringly': 9.517233190616258,\n",
       " 'adorn': 10.433523922490414,\n",
       " 'adorned': 9.047229561370523,\n",
       " 'adorning': 10.02805881438225,\n",
       " 'adorns': 10.02805881438225,\n",
       " 'adotped': 10.433523922490414,\n",
       " 'adr': 10.02805881438225,\n",
       " 'adrenalin': 8.728775830251989,\n",
       " 'adrenaline': 7.759375273063885,\n",
       " 'adreno': 10.433523922490414,\n",
       " 'adreon': 10.433523922490414,\n",
       " 'adrian': 7.32000861328004,\n",
       " 'adriana': 9.334911633822305,\n",
       " 'adrianne': 9.517233190616258,\n",
       " 'adriano': 9.740376741930469,\n",
       " 'adriatic': 10.433523922490414,\n",
       " 'adrien': 8.824086010056313,\n",
       " 'adrienne': 8.728775830251989,\n",
       " 'adriensen': 10.433523922490414,\n",
       " 'adrift': 8.824086010056313,\n",
       " 'adroit': 9.334911633822305,\n",
       " 'adroitly': 9.740376741930469,\n",
       " 'ads': 7.437791648936423,\n",
       " 'adt': 10.433523922490414,\n",
       " 'adulating': 10.433523922490414,\n",
       " 'adulation': 9.334911633822305,\n",
       " 'adulhood': 10.433523922490414,\n",
       " 'adult': 5.037626227603513,\n",
       " 'adulterate': 10.433523922490414,\n",
       " 'adulterated': 10.433523922490414,\n",
       " 'adulterer': 10.02805881438225,\n",
       " 'adulteress': 9.047229561370523,\n",
       " 'adulteries': 10.433523922490414,\n",
       " 'adulterous': 8.182232123883919,\n",
       " 'adultery': 7.630163541583879,\n",
       " 'adulthood': 7.83083423704603,\n",
       " 'adultism': 10.433523922490414,\n",
       " 'adultry': 10.433523922490414,\n",
       " 'adults': 5.3245527276732965,\n",
       " 'adv': 10.433523922490414,\n",
       " 'advan': 10.433523922490414,\n",
       " 'advance': 6.5115505862091,\n",
       " 'advanced': 6.684019846560043,\n",
       " 'advancement': 8.082148665326937,\n",
       " 'advancements': 9.334911633822305,\n",
       " 'advances': 7.413099036346051,\n",
       " 'advancing': 8.354082380810578,\n",
       " 'advani': 8.824086010056313,\n",
       " 'advantage': 6.129458829286244,\n",
       " 'advantaged': 10.433523922490414,\n",
       " 'advantageous': 10.433523922490414,\n",
       " 'advantages': 8.354082380810578,\n",
       " 'advent': 8.4876137734351,\n",
       " 'adventist': 10.02805881438225,\n",
       " 'adventists': 9.334911633822305,\n",
       " 'adventure': 5.0698870898217345,\n",
       " 'adventured': 10.433523922490414,\n",
       " 'adventurer': 8.728775830251989,\n",
       " 'adventurers': 8.92944652571414,\n",
       " 'adventures': 5.8743976750037294,\n",
       " 'adventuresome': 9.517233190616258,\n",
       " 'adventuring': 10.02805881438225,\n",
       " 'adventurous': 7.600310578434198,\n",
       " 'adventurously': 10.433523922490414,\n",
       " 'adventurousness': 10.433523922490414,\n",
       " 'adversarial': 10.433523922490414,\n",
       " 'adversaries': 8.418620901948149,\n",
       " 'adversary': 8.182232123883919,\n",
       " 'adverse': 8.641764453262358,\n",
       " 'adversely': 10.02805881438225,\n",
       " 'adversities': 10.02805881438225,\n",
       " 'adversity': 7.868574565028877,\n",
       " 'advert': 8.4876137734351,\n",
       " 'advertise': 8.824086010056313,\n",
       " 'advertised': 6.999536718005268,\n",
       " 'advertisement': 7.759375273063885,\n",
       " 'advertisements': 7.907795278182158,\n",
       " 'advertisers': 9.517233190616258,\n",
       " 'advertises': 8.92944652571414,\n",
       " 'advertising': 6.6493342885721525,\n",
       " 'advertized': 10.433523922490414,\n",
       " 'adverts': 8.728775830251989,\n",
       " 'advice': 5.625412892505632,\n",
       " 'advices': 9.740376741930469,\n",
       " 'advisable': 10.433523922490414,\n",
       " 'advise': 6.615811596533509,\n",
       " 'advised': 7.06622809250394,\n",
       " 'advisedly': 10.02805881438225,\n",
       " 'advisement': 10.433523922490414,\n",
       " 'adviser': 8.130938829496369,\n",
       " 'advisers': 9.334911633822305,\n",
       " 'advises': 8.418620901948149,\n",
       " 'advising': 9.517233190616258,\n",
       " 'advision': 10.433523922490414,\n",
       " 'advisor': 9.180760953995046,\n",
       " 'advisors': 9.334911633822305,\n",
       " 'advisory': 10.433523922490414,\n",
       " 'advocacy': 10.02805881438225,\n",
       " 'advocate': 8.130938829496369,\n",
       " 'advocated': 10.02805881438225,\n",
       " 'advocates': 9.517233190616258,\n",
       " 'advocating': 9.517233190616258,\n",
       " 'adèle': 10.02805881438225,\n",
       " 'ae': 9.047229561370523,\n",
       " 'aegean': 10.433523922490414,\n",
       " 'aegerter': 10.433523922490414,\n",
       " 'aeneid': 10.433523922490414,\n",
       " 'aeon': 10.02805881438225,\n",
       " 'aeons': 10.433523922490414,\n",
       " 'aerial': 8.130938829496369,\n",
       " 'aero': 10.433523922490414,\n",
       " 'aerobic': 10.02805881438225,\n",
       " 'aerobicide': 10.02805881438225,\n",
       " 'aerobics': 9.517233190616258,\n",
       " 'aerodynamic': 10.433523922490414,\n",
       " 'aerodynamics': 9.517233190616258,\n",
       " 'aeronautical': 10.02805881438225,\n",
       " 'aeroplane': 9.517233190616258,\n",
       " 'aerosol': 9.740376741930469,\n",
       " 'aesir': 10.433523922490414,\n",
       " 'aesop': 10.433523922490414,\n",
       " 'aestheically': 10.433523922490414,\n",
       " 'aesthete': 10.433523922490414,\n",
       " 'aesthetic': 7.342481469132098,\n",
       " 'aesthetical': 10.433523922490414,\n",
       " 'aesthetically': 8.293457758994144,\n",
       " 'aestheticism': 10.433523922490414,\n",
       " 'aesthetics': 8.354082380810578,\n",
       " 'aetheist': 10.433523922490414,\n",
       " 'aetherial': 10.433523922490414,\n",
       " 'aetv': 10.433523922490414,\n",
       " 'af': 10.433523922490414,\n",
       " 'afar': 8.293457758994144,\n",
       " 'afb': 10.02805881438225,\n",
       " 'afer': 10.02805881438225,\n",
       " 'afest': 10.433523922490414,\n",
       " 'afew': 10.433523922490414,\n",
       " 'aff': 10.433523922490414,\n",
       " 'affability': 10.433523922490414,\n",
       " 'affable': 8.182232123883919,\n",
       " 'affair': 5.367769329173078,\n",
       " 'affaire': 10.02805881438225,\n",
       " 'affairs': 6.907163397874252,\n",
       " 'affect': 6.615811596533509,\n",
       " 'affectation': 9.517233190616258,\n",
       " 'affectations': 9.517233190616258,\n",
       " 'affected': 6.463232008938292,\n",
       " 'affectedly': 10.433523922490414,\n",
       " 'affecting': 7.342481469132098,\n",
       " 'affectingly': 10.433523922490414,\n",
       " 'affection': 6.822606009846189,\n",
       " 'affectionate': 8.082148665326937,\n",
       " 'affectionately': 8.728775830251989,\n",
       " 'affectionnates': 10.433523922490414,\n",
       " 'affections': 7.660935200250632,\n",
       " 'affective': 9.740376741930469,\n",
       " 'affects': 7.032326540828258,\n",
       " 'affectts': 10.433523922490414,\n",
       " 'afficinados': 10.433523922490414,\n",
       " 'afficionado': 10.433523922490414,\n",
       " 'afficionados': 10.02805881438225,\n",
       " 'affiliate': 9.334911633822305,\n",
       " 'affiliated': 8.92944652571414,\n",
       " 'affiliation': 9.334911633822305,\n",
       " 'affinities': 10.433523922490414,\n",
       " 'affinity': 8.130938829496369,\n",
       " 'affinité': 10.433523922490414,\n",
       " 'affirm': 9.334911633822305,\n",
       " 'affirmation': 9.180760953995046,\n",
       " 'affirmations': 10.02805881438225,\n",
       " 'affirmative': 9.180760953995046,\n",
       " 'affirmatively': 10.433523922490414,\n",
       " 'affirmed': 9.047229561370523,\n",
       " 'affirming': 8.418620901948149,\n",
       " 'affirms': 9.047229561370523,\n",
       " 'affix': 10.433523922490414,\n",
       " 'affixed': 10.02805881438225,\n",
       " 'affleck': 7.3654709873567965,\n",
       " 'afflect': 10.433523922490414,\n",
       " 'afflict': 10.02805881438225,\n",
       " 'afflicted': 8.293457758994144,\n",
       " 'affliction': 9.047229561370523,\n",
       " 'afflictions': 10.433523922490414,\n",
       " 'affluence': 10.02805881438225,\n",
       " 'affluent': 7.948617272702413,\n",
       " 'afford': 6.5215009170622675,\n",
       " 'affordable': 8.824086010056313,\n",
       " 'afforded': 8.418620901948149,\n",
       " 'affords': 8.561721745588823,\n",
       " 'affront': 9.334911633822305,\n",
       " 'affronting': 10.433523922490414,\n",
       " 'affronts': 10.433523922490414,\n",
       " 'affter': 10.433523922490414,\n",
       " 'afgahnistan': 10.433523922490414,\n",
       " 'afgan': 10.433523922490414,\n",
       " 'afgani': 10.433523922490414,\n",
       " 'afganistan': 9.517233190616258,\n",
       " 'afghan': 9.047229561370523,\n",
       " 'afghanastan': 10.433523922490414,\n",
       " 'afghani': 10.433523922490414,\n",
       " 'afghanistan': 7.794466592875155,\n",
       " 'afghans': 9.740376741930469,\n",
       " 'afi': 8.182232123883919,\n",
       " 'afican': 10.02805881438225,\n",
       " 'aficionado': 8.641764453262358,\n",
       " 'aficionados': 8.641764453262358,\n",
       " 'afield': 9.740376741930469,\n",
       " 'afilm': 10.433523922490414,\n",
       " 'afirming': 10.433523922490414,\n",
       " 'afis': 10.433523922490414,\n",
       " 'afl': 10.433523922490414,\n",
       " 'aflac': 10.433523922490414,\n",
       " 'aflame': 10.02805881438225,\n",
       " 'afleck': 10.02805881438225,\n",
       " 'afloat': 7.948617272702413,\n",
       " 'afm': 10.433523922490414,\n",
       " 'afonya': 10.433523922490414,\n",
       " 'afoot': 8.92944652571414,\n",
       " 'afore': 8.561721745588823,\n",
       " 'aforementioned': 6.298357365748058,\n",
       " 'aforesaid': 10.02805881438225,\n",
       " 'aformentioned': 10.02805881438225,\n",
       " ...}"
      ]
     },
     "execution_count": 44,
     "metadata": {},
     "output_type": "execute_result"
    }
   ],
   "source": [
    "tfidf"
   ]
  },
  {
   "cell_type": "code",
   "execution_count": 45,
   "metadata": {
    "id": "cfgUTb-7MgZJ"
   },
   "outputs": [],
   "source": [
    "rt = vect_idf.vocabulary_.items()"
   ]
  },
  {
   "cell_type": "code",
   "execution_count": 46,
   "metadata": {
    "id": "t5USS23aMgZJ",
    "outputId": "d6df588c-29f6-4a44-8ebf-4668c727349b"
   },
   "outputs": [
    {
     "data": {
      "text/plain": [
       "9.740376741930469"
      ]
     },
     "execution_count": 46,
     "metadata": {},
     "output_type": "execute_result"
    }
   ],
   "source": [
    "tfidf['abercrombie']"
   ]
  },
  {
   "cell_type": "code",
   "execution_count": 47,
   "metadata": {
    "id": "XSfvMxa1MgZJ",
    "outputId": "31695a88-db30-4b9a-f210-e2c1727350fb"
   },
   "outputs": [
    {
     "data": {
      "text/plain": [
       "9.740376741930469"
      ]
     },
     "execution_count": 47,
     "metadata": {},
     "output_type": "execute_result"
    }
   ],
   "source": [
    "vect_idf.idf_[vect_idf.vocabulary_['abercrombie']]"
   ]
  },
  {
   "cell_type": "code",
   "execution_count": 48,
   "metadata": {
    "id": "qGZ8LJ24MgZJ",
    "outputId": "270d4956-2740-41a7-9f8e-a7ad6935e6b8"
   },
   "outputs": [
    {
     "data": {
      "text/plain": [
       "73452"
      ]
     },
     "execution_count": 48,
     "metadata": {},
     "output_type": "execute_result"
    }
   ],
   "source": [
    "len(tfidf)"
   ]
  },
  {
   "cell_type": "code",
   "execution_count": 49,
   "metadata": {
    "id": "6wU76Ps1MgZK"
   },
   "outputs": [],
   "source": [
    "from collections import defaultdict"
   ]
  },
  {
   "cell_type": "code",
   "execution_count": 50,
   "metadata": {},
   "outputs": [
    {
     "data": {
      "text/plain": [
       "collections.defaultdict"
      ]
     },
     "execution_count": 50,
     "metadata": {},
     "output_type": "execute_result"
    }
   ],
   "source": [
    "defaultdict"
   ]
  },
  {
   "cell_type": "code",
   "execution_count": 51,
   "metadata": {
    "id": "KMYzQh8uMgZK"
   },
   "outputs": [],
   "source": [
    "max_idf = max(vect_idf.idf_)\n",
    "\n",
    "word2weight = defaultdict(\n",
    "    lambda: max_idf,\n",
    "    [(w, vect_idf.idf_[i]) for w, i in vect_idf.vocabulary_.items()])"
   ]
  },
  {
   "cell_type": "code",
   "execution_count": 52,
   "metadata": {
    "id": "8j7mm8-QMgZK"
   },
   "outputs": [],
   "source": [
    "def get_vect_mean(txt):\n",
    "    vector_w2v = np.zeros(100)\n",
    "    n_w2v = 0\n",
    "    for wrd in txt.split():\n",
    "        if wrd in modelW2V.wv.index_to_key:\n",
    "            vector_w2v += modelW2V.wv[wrd]\n",
    "            n_w2v += 1\n",
    "    if n_w2v > 0:\n",
    "        vector_w2v = vector_w2v / n_w2v\n",
    "    return vector_w2v\n",
    "\n",
    "def get_vect_idf(txt):\n",
    "    vector_w2v = np.zeros(100)\n",
    "    n_w2v = 0\n",
    "    for wrd in txt.split():\n",
    "        if wrd in modelW2V.wv.index_to_key:\n",
    "            iddf_ = tfidf.get(wrd, 1.)\n",
    "            vector_w2v += modelW2V.wv[wrd]*iddf_\n",
    "            n_w2v += iddf_\n",
    "    if n_w2v > 0:\n",
    "        vector_w2v = vector_w2v / n_w2v\n",
    "    return vector_w2v"
   ]
  },
  {
   "cell_type": "code",
   "execution_count": 53,
   "metadata": {
    "id": "7CAbtlc5MgZL"
   },
   "outputs": [],
   "source": [
    "from tqdm.notebook import tqdm_notebook"
   ]
  },
  {
   "cell_type": "code",
   "execution_count": 54,
   "metadata": {
    "colab": {
     "referenced_widgets": [
      "0fb91ab0ab024c2382ab67fa73b4bd48",
      "50510615910e4fa4ba76fc23f4d9ab2b"
     ]
    },
    "id": "TzbO7LNOMgZL",
    "outputId": "4867c71c-e656-44ca-e147-febf5e2119c9"
   },
   "outputs": [
    {
     "data": {
      "application/vnd.jupyter.widget-view+json": {
       "model_id": "4bc0ae7a8e31412bbe37ea33f4425c20",
       "version_major": 2,
       "version_minor": 0
      },
      "text/plain": [
       "  0%|          | 0/25000 [00:00<?, ?it/s]"
      ]
     },
     "metadata": {},
     "output_type": "display_data"
    },
    {
     "data": {
      "application/vnd.jupyter.widget-view+json": {
       "model_id": "16386aa4a3c645fd99593871750dcf9f",
       "version_major": 2,
       "version_minor": 0
      },
      "text/plain": [
       "  0%|          | 0/12500 [00:00<?, ?it/s]"
      ]
     },
     "metadata": {},
     "output_type": "display_data"
    }
   ],
   "source": [
    "arr_vect = []\n",
    "for txt in tqdm_notebook(df_train['review']):\n",
    "    arr_vect.append(get_vect_mean(txt))\n",
    "    \n",
    "arr_vect_valid = []\n",
    "for txt in tqdm_notebook(df_val['review']):\n",
    "    arr_vect_valid.append(get_vect_mean(txt))\n",
    "    \n",
    "train_w2v = np.asarray(arr_vect)    \n",
    "valid_w2v = np.asarray(arr_vect_valid)"
   ]
  },
  {
   "cell_type": "code",
   "execution_count": 55,
   "metadata": {
    "id": "Z5YKLItiMgZL"
   },
   "outputs": [],
   "source": [
    "lgr_w2v = LogisticRegression(solver='lbfgs', max_iter=1000)"
   ]
  },
  {
   "cell_type": "code",
   "execution_count": 56,
   "metadata": {
    "id": "Q6SnxEwqMgZM",
    "outputId": "1fb641fb-d111-49f3-82cd-27d0544231f6"
   },
   "outputs": [
    {
     "data": {
      "text/plain": [
       "LogisticRegression(max_iter=1000)"
      ]
     },
     "execution_count": 56,
     "metadata": {},
     "output_type": "execute_result"
    }
   ],
   "source": [
    "lgr_w2v.fit(train_w2v, df_train['is_positive'].to_numpy())"
   ]
  },
  {
   "cell_type": "code",
   "execution_count": 57,
   "metadata": {
    "id": "qUQlJRa8MgZM"
   },
   "outputs": [],
   "source": [
    "y_pred = lgr_w2v.predict(valid_w2v)"
   ]
  },
  {
   "cell_type": "code",
   "execution_count": 58,
   "metadata": {
    "id": "2nTiUw23MgZM",
    "outputId": "234c6c46-85c0-4252-f5f4-cb1c41e99c79"
   },
   "outputs": [
    {
     "data": {
      "text/plain": [
       "0.84672"
      ]
     },
     "execution_count": 58,
     "metadata": {},
     "output_type": "execute_result"
    }
   ],
   "source": [
    "accuracy_score(df_val['is_positive'].to_numpy(), y_pred)"
   ]
  },
  {
   "cell_type": "code",
   "execution_count": null,
   "metadata": {
    "id": "ND8FKFa2MgZN"
   },
   "outputs": [],
   "source": []
  },
  {
   "cell_type": "code",
   "execution_count": 59,
   "metadata": {
    "colab": {
     "referenced_widgets": [
      "8b9d409c86944bd6a9e9787b45cb26eb",
      "13edd68589cd4890a7ee75636ff4f223"
     ]
    },
    "id": "K9YfE5njMgZN",
    "outputId": "6a26f612-17dc-47cb-fa9d-e419018d0056"
   },
   "outputs": [
    {
     "data": {
      "application/vnd.jupyter.widget-view+json": {
       "model_id": "a858338675ac4490a63f6578ef639eef",
       "version_major": 2,
       "version_minor": 0
      },
      "text/plain": [
       "  0%|          | 0/25000 [00:00<?, ?it/s]"
      ]
     },
     "metadata": {},
     "output_type": "display_data"
    },
    {
     "data": {
      "application/vnd.jupyter.widget-view+json": {
       "model_id": "453d61309c674c6180c90c50ff9e40ec",
       "version_major": 2,
       "version_minor": 0
      },
      "text/plain": [
       "  0%|          | 0/12500 [00:00<?, ?it/s]"
      ]
     },
     "metadata": {},
     "output_type": "display_data"
    }
   ],
   "source": [
    "arr_vect = []\n",
    "for txt in tqdm.notebook.tqdm(df_train['review']):\n",
    "    arr_vect.append(get_vect_idf(txt))\n",
    "    \n",
    "arr_vect_valid = []\n",
    "for txt in tqdm.notebook.tqdm(df_val['review']):\n",
    "    arr_vect_valid.append(get_vect_idf(txt))\n",
    "    \n",
    "train_w2v = np.asarray(arr_vect)    \n",
    "valid_w2v = np.asarray(arr_vect_valid)"
   ]
  },
  {
   "cell_type": "code",
   "execution_count": 60,
   "metadata": {
    "id": "wNWcli2PMgZN",
    "outputId": "fa0aad71-36b4-44fb-b55c-8c4536da0039"
   },
   "outputs": [],
   "source": [
    "lgr_w2v = LogisticRegression(solver='lbfgs', max_iter=1000)\n",
    "lgr_w2v.fit(train_w2v, df_train['is_positive'].to_numpy())\n",
    "y_pred = lgr_w2v.predict(valid_w2v)"
   ]
  },
  {
   "cell_type": "code",
   "execution_count": 61,
   "metadata": {
    "id": "vo0bS0yhMgZO",
    "outputId": "07097876-e4f8-47b4-bfd4-9972ea989a26"
   },
   "outputs": [
    {
     "data": {
      "text/plain": [
       "0.8484"
      ]
     },
     "execution_count": 61,
     "metadata": {},
     "output_type": "execute_result"
    }
   ],
   "source": [
    "accuracy_score(df_val['is_positive'].to_numpy(), y_pred)"
   ]
  },
  {
   "cell_type": "code",
   "execution_count": 62,
   "metadata": {},
   "outputs": [],
   "source": [
    "import matplotlib.pyplot as plt\n",
    "def plot_history(history):\n",
    "    plt.plot(history.history['accuracy'])\n",
    "    plt.plot(history.history['val_accuracy'])\n",
    "    plt.title('Model Accuracy')\n",
    "    plt.ylabel('accuracy')\n",
    "    plt.xlabel('epoch')\n",
    "    plt.legend(['train', 'val'], loc='lower right')\n",
    "    plt.show()"
   ]
  },
  {
   "cell_type": "code",
   "execution_count": 63,
   "metadata": {},
   "outputs": [
    {
     "data": {
      "image/png": "[encoded data removed]",
      "text/plain": [
       "<Figure size 432x288 with 1 Axes>"
      ]
     },
     "metadata": {
      "needs_background": "light"
     },
     "output_type": "display_data"
    }
   ],
   "source": [
    "plot_history(history)"
   ]
  },
  {
   "cell_type": "markdown",
   "metadata": {},
   "source": [
    "### Используем готовую модель"
   ]
  },
  {
   "cell_type": "code",
   "execution_count": 64,
   "metadata": {
    "id": "-yg5JrZxMgZO"
   },
   "outputs": [
    {
     "name": "stderr",
     "output_type": "stream",
     "text": [
      "2022-06-07 20:47:35,142 [INFO] adding document #0 to Dictionary<0 unique tokens: []>\n",
      "2022-06-07 20:47:35,142 [INFO] built Dictionary<12 unique tokens: ['computer', 'human', 'interface', 'response', 'survey']...> from 9 documents (total 29 corpus positions)\n",
      "2022-06-07 20:47:35,143 [INFO] Dictionary lifecycle event {'msg': \"built Dictionary<12 unique tokens: ['computer', 'human', 'interface', 'response', 'survey']...> from 9 documents (total 29 corpus positions)\", 'datetime': '2022-06-07T20:47:35.143358', 'gensim': '4.2.0', 'python': '3.7.11 (default, Jul 27 2021, 09:42:29) [MSC v.1916 64 bit (AMD64)]', 'platform': 'Windows-10-10.0.19041-SP0', 'event': 'created'}\n"
     ]
    }
   ],
   "source": [
    "#import fasttext  \n",
    "from gensim.models import KeyedVectors\n",
    "from gensim.test.utils import datapath\n",
    "import gensim\n",
    "import zipfile"
   ]
  },
  {
   "cell_type": "code",
   "execution_count": 65,
   "metadata": {},
   "outputs": [],
   "source": [
    "# Загружаем модель\"British National Corpus\" по http://vectors.nlpl.eu/repository/20/0.zip"
   ]
  },
  {
   "cell_type": "code",
   "execution_count": 66,
   "metadata": {},
   "outputs": [],
   "source": [
    "#model_file = './model/model.bin'"
   ]
  },
  {
   "cell_type": "code",
   "execution_count": 67,
   "metadata": {},
   "outputs": [
    {
     "name": "stderr",
     "output_type": "stream",
     "text": [
      "2022-06-07 20:47:35,276 [INFO] loading projection weights from <zipfile.ZipExtFile name='model.bin' mode='r' compress_type=deflate>\n",
      "2022-06-07 20:47:38,729 [INFO] KeyedVectors lifecycle event {'msg': 'loaded (163473, 300) matrix of type float32 from <zipfile.ZipExtFile [closed]>', 'binary': True, 'encoding': 'utf8', 'datetime': '2022-06-07T20:47:38.729826', 'gensim': '4.2.0', 'python': '3.7.11 (default, Jul 27 2021, 09:42:29) [MSC v.1916 64 bit (AMD64)]', 'platform': 'Windows-10-10.0.19041-SP0', 'event': 'load_word2vec_format'}\n"
     ]
    }
   ],
   "source": [
    "model_file = '0.zip'\n",
    "with zipfile.ZipFile(model_file, 'r') as archive:\n",
    "    stream = archive.open('model.bin')\n",
    "    en_emb = gensim.models.KeyedVectors.load_word2vec_format(stream, binary=True)"
   ]
  },
  {
   "cell_type": "code",
   "execution_count": 68,
   "metadata": {},
   "outputs": [],
   "source": [
    "def code_w2v_txt(txt, max_len = 100):\n",
    "    sent_w2v = []\n",
    "    zero_point = np.zeros(300)\n",
    "    txt = txt.split()\n",
    "   \n",
    "    for i in range(max_len):\n",
    "        try:\n",
    "            word = en_emb[txt[i]]\n",
    "        except:\n",
    "            word = zero_point\n",
    "        sent_w2v.append(word)\n",
    "    return np.array(sent_w2v)"
   ]
  },
  {
   "cell_type": "code",
   "execution_count": 69,
   "metadata": {},
   "outputs": [],
   "source": [
    "df_train['w2v'] = df_train['review'].apply(code_w2v_txt, max_len = max_len)"
   ]
  },
  {
   "cell_type": "code",
   "execution_count": 70,
   "metadata": {},
   "outputs": [
    {
     "data": {
      "text/html": [
       "<div>\n",
       "<style scoped>\n",
       "    .dataframe tbody tr th:only-of-type {\n",
       "        vertical-align: middle;\n",
       "    }\n",
       "\n",
       "    .dataframe tbody tr th {\n",
       "        vertical-align: top;\n",
       "    }\n",
       "\n",
       "    .dataframe thead th {\n",
       "        text-align: right;\n",
       "    }\n",
       "</style>\n",
       "<table border=\"1\" class=\"dataframe\">\n",
       "  <thead>\n",
       "    <tr style=\"text-align: right;\">\n",
       "      <th></th>\n",
       "      <th>is_positive</th>\n",
       "      <th>review</th>\n",
       "      <th>w2v</th>\n",
       "    </tr>\n",
       "  </thead>\n",
       "  <tbody>\n",
       "    <tr>\n",
       "      <th>0</th>\n",
       "      <td>0</td>\n",
       "      <td>dreamgirls despite fistful tony wins incredibl...</td>\n",
       "      <td>[[0.0, 0.0, 0.0, 0.0, 0.0, 0.0, 0.0, 0.0, 0.0,...</td>\n",
       "    </tr>\n",
       "    <tr>\n",
       "      <th>1</th>\n",
       "      <td>0</td>\n",
       "      <td>show comes interesting locations fast travel c...</td>\n",
       "      <td>[[0.0, 0.0, 0.0, 0.0, 0.0, 0.0, 0.0, 0.0, 0.0,...</td>\n",
       "    </tr>\n",
       "    <tr>\n",
       "      <th>2</th>\n",
       "      <td>1</td>\n",
       "      <td>simply love movie also love ramones sorta bias...</td>\n",
       "      <td>[[0.0, 0.0, 0.0, 0.0, 0.0, 0.0, 0.0, 0.0, 0.0,...</td>\n",
       "    </tr>\n",
       "    <tr>\n",
       "      <th>3</th>\n",
       "      <td>0</td>\n",
       "      <td>spoilers ahead want call almost recommend film...</td>\n",
       "      <td>[[0.0, 0.0, 0.0, 0.0, 0.0, 0.0, 0.0, 0.0, 0.0,...</td>\n",
       "    </tr>\n",
       "    <tr>\n",
       "      <th>4</th>\n",
       "      <td>1</td>\n",
       "      <td>time favorite movie seen many movies one beats...</td>\n",
       "      <td>[[0.0, 0.0, 0.0, 0.0, 0.0, 0.0, 0.0, 0.0, 0.0,...</td>\n",
       "    </tr>\n",
       "  </tbody>\n",
       "</table>\n",
       "</div>"
      ],
      "text/plain": [
       "   is_positive                                             review  \\\n",
       "0            0  dreamgirls despite fistful tony wins incredibl...   \n",
       "1            0  show comes interesting locations fast travel c...   \n",
       "2            1  simply love movie also love ramones sorta bias...   \n",
       "3            0  spoilers ahead want call almost recommend film...   \n",
       "4            1  time favorite movie seen many movies one beats...   \n",
       "\n",
       "                                                 w2v  \n",
       "0  [[0.0, 0.0, 0.0, 0.0, 0.0, 0.0, 0.0, 0.0, 0.0,...  \n",
       "1  [[0.0, 0.0, 0.0, 0.0, 0.0, 0.0, 0.0, 0.0, 0.0,...  \n",
       "2  [[0.0, 0.0, 0.0, 0.0, 0.0, 0.0, 0.0, 0.0, 0.0,...  \n",
       "3  [[0.0, 0.0, 0.0, 0.0, 0.0, 0.0, 0.0, 0.0, 0.0,...  \n",
       "4  [[0.0, 0.0, 0.0, 0.0, 0.0, 0.0, 0.0, 0.0, 0.0,...  "
      ]
     },
     "execution_count": 70,
     "metadata": {},
     "output_type": "execute_result"
    }
   ],
   "source": [
    "df_train.head()"
   ]
  },
  {
   "cell_type": "code",
   "execution_count": 71,
   "metadata": {},
   "outputs": [],
   "source": [
    "x_train = np.array(list(df_train['w2v'].values))\n",
    "y_train = df_train['is_positive'].values"
   ]
  },
  {
   "cell_type": "code",
   "execution_count": 72,
   "metadata": {},
   "outputs": [],
   "source": [
    "x_val = np.array(list(df_val['review'].apply(code_w2v_txt, max_len = max_len).values))\n",
    "x_test = np.array(list(df_test['review'].apply(code_w2v_txt, max_len = max_len).values))\n",
    "y_val = df_val['is_positive'].values\n",
    "y_test = df_test['is_positive'].values"
   ]
  },
  {
   "cell_type": "code",
   "execution_count": 73,
   "metadata": {},
   "outputs": [],
   "source": [
    "from sklearn.preprocessing import LabelEncoder\n",
    "le = LabelEncoder()\n",
    "y_train = le.fit_transform(y_train) \n",
    "y_test = le.transform(y_test)"
   ]
  },
  {
   "cell_type": "code",
   "execution_count": 74,
   "metadata": {},
   "outputs": [],
   "source": [
    "import tensorflow.keras.layers as Layer\n",
    "from tensorflow.keras import Model, Sequential\n",
    "\n",
    "num_classes = len(df_train.is_positive.unique())\n",
    "# Строим точно такую же модель на предобученных векторах\n",
    "model = Sequential()\n",
    "model.add(Layer.Input(shape=(x_train.shape[1], x_train.shape[2])))\n",
    "model.add(Layer.Conv1D(128, 3))\n",
    "model.add(Layer.Bidirectional(Layer.LSTM(units=32, return_sequences=True, activation=\"relu\")))\n",
    "model.add(Layer.GlobalMaxPool1D())\n",
    "model.add(Layer.Dense(32, activation=\"relu\"))\n",
    "model.add(Layer.Dense(num_classes, activation=\"softmax\"))"
   ]
  },
  {
   "cell_type": "code",
   "execution_count": 75,
   "metadata": {},
   "outputs": [
    {
     "name": "stdout",
     "output_type": "stream",
     "text": [
      "Model: \"sequential_1\"\n",
      "_________________________________________________________________\n",
      "Layer (type)                 Output Shape              Param #   \n",
      "=================================================================\n",
      "conv1d_1 (Conv1D)            (None, 38, 128)           115328    \n",
      "_________________________________________________________________\n",
      "bidirectional (Bidirectional (None, 38, 64)            41216     \n",
      "_________________________________________________________________\n",
      "global_max_pooling1d_1 (Glob (None, 64)                0         \n",
      "_________________________________________________________________\n",
      "dense_2 (Dense)              (None, 32)                2080      \n",
      "_________________________________________________________________\n",
      "dense_3 (Dense)              (None, 2)                 66        \n",
      "=================================================================\n",
      "Total params: 158,690\n",
      "Trainable params: 158,690\n",
      "Non-trainable params: 0\n",
      "_________________________________________________________________\n"
     ]
    }
   ],
   "source": [
    "model.summary()\n",
    "model.compile(loss=tf.keras.losses.SparseCategoricalCrossentropy(),\n",
    "              optimizer='adam',\n",
    "              metrics=['accuracy'])"
   ]
  },
  {
   "cell_type": "code",
   "execution_count": 76,
   "metadata": {},
   "outputs": [
    {
     "name": "stdout",
     "output_type": "stream",
     "text": [
      "Epoch 1/20\n",
      "196/196 [==============================] - 15s 69ms/step - loss: 0.6932 - accuracy: 0.5059 - val_loss: 0.6931 - val_accuracy: 0.5052\n",
      "Epoch 2/20\n",
      "196/196 [==============================] - 11s 58ms/step - loss: 0.6932 - accuracy: 0.4983 - val_loss: 0.6931 - val_accuracy: 0.5052\n",
      "Epoch 3/20\n",
      "196/196 [==============================] - 12s 59ms/step - loss: 0.6932 - accuracy: 0.4993 - val_loss: 0.6931 - val_accuracy: 0.5052\n",
      "Epoch 4/20\n",
      "196/196 [==============================] - 12s 60ms/step - loss: 0.6932 - accuracy: 0.4945 - val_loss: 0.6931 - val_accuracy: 0.5052\n"
     ]
    },
    {
     "data": {
      "image/png": "[encoded data removed]",
      "text/plain": [
       "<Figure size 432x288 with 1 Axes>"
      ]
     },
     "metadata": {
      "needs_background": "light"
     },
     "output_type": "display_data"
    }
   ],
   "source": [
    "callback = tf.keras.callbacks.EarlyStopping(monitor='val_accuracy', patience=3, restore_best_weights=True)\n",
    "\n",
    "history = model.fit(x_train, y_train, batch_size=128, epochs=epochs, \n",
    "           callbacks=[callback],validation_data=(x_val, y_val))\n",
    "plot_history(history)"
   ]
  },
  {
   "cell_type": "code",
   "execution_count": 77,
   "metadata": {},
   "outputs": [
    {
     "name": "stdout",
     "output_type": "stream",
     "text": [
      "98/98 [==============================] - 3s 27ms/step - loss: 0.6931 - accuracy: 0.5052\n",
      "\n",
      "\n",
      "Test score: 0.6931416988372803\n",
      "Test accuracy: 0.5052000284194946\n",
      "98/98 [==============================] - 2s 18ms/step\n"
     ]
    },
    {
     "data": {
      "text/plain": [
       "0.88016"
      ]
     },
     "execution_count": 77,
     "metadata": {},
     "output_type": "execute_result"
    }
   ],
   "source": [
    "score = model.evaluate(x_val, y_val, batch_size=batch_size, verbose=1)\n",
    "print('\\n')\n",
    "print('Test score:', score[0])\n",
    "print('Test accuracy:', score[1])\n",
    "results = model.predict(x_test, batch_size=batch_size, verbose=1)\n",
    "vect = TfidfVectorizer(ngram_range=(1, 2), analyzer='word', lowercase=False)\n",
    "train_ft = vect.fit_transform(df_train['review'])\n",
    "valid_ft = vect.transform(df_val['review'])\n",
    "lgr = LogisticRegression(max_iter=1000)\n",
    "history = lgr.fit(train_ft, df_train['is_positive'].to_numpy())\n",
    "y_pred = lgr.predict(valid_ft)\n",
    "accuracy_score(df_val['is_positive'].to_numpy(), y_pred)"
   ]
  },
  {
   "cell_type": "code",
   "execution_count": null,
   "metadata": {},
   "outputs": [],
   "source": []
  }
 ],
 "metadata": {
  "colab": {
   "collapsed_sections": [],
   "name": "dl-nlp-cnn1.ipynb",
   "provenance": []
  },
  "kernelspec": {
   "display_name": "Python 3 (ipykernel)",
   "language": "python",
   "name": "python3"
  },
  "language_info": {
   "codemirror_mode": {
    "name": "ipython",
    "version": 3
   },
   "file_extension": ".py",
   "mimetype": "text/x-python",
   "name": "python",
   "nbconvert_exporter": "python",
   "pygments_lexer": "ipython3",
   "version": "3.7.11"
  }
 },
 "nbformat": 4,
 "nbformat_minor": 1
}
